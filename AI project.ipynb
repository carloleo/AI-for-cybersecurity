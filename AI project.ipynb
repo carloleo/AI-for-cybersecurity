{
 "cells": [
  {
   "cell_type": "markdown",
   "id": "4cc6177d",
   "metadata": {},
   "source": [
    "# AI project – Zucchetti Spa dataset"
   ]
  },
  {
   "cell_type": "markdown",
   "id": "7caf29d2",
   "metadata": {},
   "source": [
    "## Preprocessing"
   ]
  },
  {
   "cell_type": "code",
   "execution_count": 91,
   "id": "928fee71",
   "metadata": {},
   "outputs": [],
   "source": [
    "import pandas as pd\n",
    "import matplotlib.pyplot as plt\n",
    "\n",
    "UNKNOWN = 'unknown'\n",
    "SAMPLE = 10"
   ]
  },
  {
   "cell_type": "code",
   "execution_count": 92,
   "id": "2be87900",
   "metadata": {},
   "outputs": [],
   "source": [
    "# Read in the data from the CSV file into a a dataframe \n",
    "df = pd.read_csv('coded_log.csv', sep=\";\",names=['userId', '1?', 'date','eventType','application','2?','ip','3?','4?','5?'])"
   ]
  },
  {
   "cell_type": "code",
   "execution_count": 93,
   "id": "c45d6d9c",
   "metadata": {},
   "outputs": [
    {
     "data": {
      "text/html": [
       "<div>\n",
       "<style scoped>\n",
       "    .dataframe tbody tr th:only-of-type {\n",
       "        vertical-align: middle;\n",
       "    }\n",
       "\n",
       "    .dataframe tbody tr th {\n",
       "        vertical-align: top;\n",
       "    }\n",
       "\n",
       "    .dataframe thead th {\n",
       "        text-align: right;\n",
       "    }\n",
       "</style>\n",
       "<table border=\"1\" class=\"dataframe\">\n",
       "  <thead>\n",
       "    <tr style=\"text-align: right;\">\n",
       "      <th></th>\n",
       "      <th>userId</th>\n",
       "      <th>1?</th>\n",
       "      <th>date</th>\n",
       "      <th>eventType</th>\n",
       "      <th>application</th>\n",
       "      <th>2?</th>\n",
       "      <th>ip</th>\n",
       "      <th>3?</th>\n",
       "      <th>4?</th>\n",
       "      <th>5?</th>\n",
       "    </tr>\n",
       "  </thead>\n",
       "  <tbody>\n",
       "    <tr>\n",
       "      <th>223883</th>\n",
       "      <td>4311</td>\n",
       "      <td>175821561</td>\n",
       "      <td>2021-06-16 14:08:02.000</td>\n",
       "      <td>1</td>\n",
       "      <td>ERM</td>\n",
       "      <td>erm3zs02</td>\n",
       "      <td>ip_1360</td>\n",
       "      <td>001</td>\n",
       "      <td>rmwcydkfav</td>\n",
       "      <td>qkwh2yafxe</td>\n",
       "    </tr>\n",
       "    <tr>\n",
       "      <th>673379</th>\n",
       "      <td>27514</td>\n",
       "      <td>925357067</td>\n",
       "      <td>2021-06-18 17:25:49.000</td>\n",
       "      <td>1</td>\n",
       "      <td>HR1</td>\n",
       "      <td>NaN</td>\n",
       "      <td>NaN</td>\n",
       "      <td>001</td>\n",
       "      <td></td>\n",
       "      <td>yrdxw6gfw4</td>\n",
       "    </tr>\n",
       "    <tr>\n",
       "      <th>82681</th>\n",
       "      <td>1774</td>\n",
       "      <td>571103483</td>\n",
       "      <td>2021-04-21 08:51:56.000</td>\n",
       "      <td>1</td>\n",
       "      <td>ERM</td>\n",
       "      <td>erm3zs02</td>\n",
       "      <td>ip_1465</td>\n",
       "      <td>001</td>\n",
       "      <td>qdozkxcydy</td>\n",
       "      <td>ji9jz0mscc</td>\n",
       "    </tr>\n",
       "    <tr>\n",
       "      <th>18022</th>\n",
       "      <td>222</td>\n",
       "      <td>779224040</td>\n",
       "      <td>2021-05-10 16:45:11.000</td>\n",
       "      <td>1</td>\n",
       "      <td>ERM</td>\n",
       "      <td>erm3zs02</td>\n",
       "      <td>ip_202</td>\n",
       "      <td>001</td>\n",
       "      <td>zhuqtomkik</td>\n",
       "      <td>e9wuy61ngc</td>\n",
       "    </tr>\n",
       "    <tr>\n",
       "      <th>139348</th>\n",
       "      <td>2720</td>\n",
       "      <td>515164975</td>\n",
       "      <td>2021-06-17 13:26:22.000</td>\n",
       "      <td>3</td>\n",
       "      <td>ERM</td>\n",
       "      <td>erm3zs02</td>\n",
       "      <td>ip_1464</td>\n",
       "      <td>001</td>\n",
       "      <td>cwbluwtwgo</td>\n",
       "      <td>j79ldfki97</td>\n",
       "    </tr>\n",
       "    <tr>\n",
       "      <th>716078</th>\n",
       "      <td>28879</td>\n",
       "      <td>375375019</td>\n",
       "      <td>2021-06-05 06:21:10.000</td>\n",
       "      <td>1</td>\n",
       "      <td>GTL</td>\n",
       "      <td>NaN</td>\n",
       "      <td>NaN</td>\n",
       "      <td>001</td>\n",
       "      <td>igcbdxrwcu</td>\n",
       "      <td>xslwxxguni</td>\n",
       "    </tr>\n",
       "    <tr>\n",
       "      <th>262454</th>\n",
       "      <td>9749</td>\n",
       "      <td>146349494</td>\n",
       "      <td>2021-04-09 13:41:18.000</td>\n",
       "      <td>1</td>\n",
       "      <td>HRW</td>\n",
       "      <td>NaN</td>\n",
       "      <td>NaN</td>\n",
       "      <td>001</td>\n",
       "      <td>beysgrbkam</td>\n",
       "      <td>fo1imng2hz</td>\n",
       "    </tr>\n",
       "    <tr>\n",
       "      <th>679539</th>\n",
       "      <td>27696</td>\n",
       "      <td>406022826</td>\n",
       "      <td>2021-04-27 12:46:35.000</td>\n",
       "      <td>1</td>\n",
       "      <td>HR1</td>\n",
       "      <td>NaN</td>\n",
       "      <td>NaN</td>\n",
       "      <td>001</td>\n",
       "      <td></td>\n",
       "      <td>omo7nr0eqc</td>\n",
       "    </tr>\n",
       "    <tr>\n",
       "      <th>224343</th>\n",
       "      <td>4332</td>\n",
       "      <td>259067099</td>\n",
       "      <td>2021-04-08 15:30:32.000</td>\n",
       "      <td>1</td>\n",
       "      <td>HRW</td>\n",
       "      <td>NaN</td>\n",
       "      <td>NaN</td>\n",
       "      <td>001</td>\n",
       "      <td>oawpixkaxn</td>\n",
       "      <td>zw3lbwq7vq</td>\n",
       "    </tr>\n",
       "    <tr>\n",
       "      <th>635418</th>\n",
       "      <td>26084</td>\n",
       "      <td>976450047</td>\n",
       "      <td>2021-05-17 09:00:50.000</td>\n",
       "      <td>1</td>\n",
       "      <td>ERM</td>\n",
       "      <td>erm3zs02</td>\n",
       "      <td>ip_23333</td>\n",
       "      <td>001</td>\n",
       "      <td>fahgwpvvat</td>\n",
       "      <td>a5903yv6ak</td>\n",
       "    </tr>\n",
       "  </tbody>\n",
       "</table>\n",
       "</div>"
      ],
      "text/plain": [
       "        userId         1?                     date  eventType application  \\\n",
       "223883    4311  175821561  2021-06-16 14:08:02.000          1         ERM   \n",
       "673379   27514  925357067  2021-06-18 17:25:49.000          1         HR1   \n",
       "82681     1774  571103483  2021-04-21 08:51:56.000          1         ERM   \n",
       "18022      222  779224040  2021-05-10 16:45:11.000          1         ERM   \n",
       "139348    2720  515164975  2021-06-17 13:26:22.000          3         ERM   \n",
       "716078   28879  375375019  2021-06-05 06:21:10.000          1         GTL   \n",
       "262454    9749  146349494  2021-04-09 13:41:18.000          1         HRW   \n",
       "679539   27696  406022826  2021-04-27 12:46:35.000          1         HR1   \n",
       "224343    4332  259067099  2021-04-08 15:30:32.000          1         HRW   \n",
       "635418   26084  976450047  2021-05-17 09:00:50.000          1         ERM   \n",
       "\n",
       "              2?        ip          3?          4?          5?  \n",
       "223883  erm3zs02   ip_1360  001         rmwcydkfav  qkwh2yafxe  \n",
       "673379       NaN       NaN  001                     yrdxw6gfw4  \n",
       "82681   erm3zs02   ip_1465  001         qdozkxcydy  ji9jz0mscc  \n",
       "18022   erm3zs02    ip_202  001         zhuqtomkik  e9wuy61ngc  \n",
       "139348  erm3zs02   ip_1464  001         cwbluwtwgo  j79ldfki97  \n",
       "716078       NaN       NaN  001         igcbdxrwcu  xslwxxguni  \n",
       "262454       NaN       NaN  001         beysgrbkam  fo1imng2hz  \n",
       "679539       NaN       NaN  001                     omo7nr0eqc  \n",
       "224343       NaN       NaN  001         oawpixkaxn  zw3lbwq7vq  \n",
       "635418  erm3zs02  ip_23333  001         fahgwpvvat  a5903yv6ak  "
      ]
     },
     "execution_count": 93,
     "metadata": {},
     "output_type": "execute_result"
    }
   ],
   "source": [
    "# Visualize a snippet of the data frame df\n",
    "df.sample(SAMPLE)"
   ]
  },
  {
   "cell_type": "code",
   "execution_count": 94,
   "id": "26f1adeb",
   "metadata": {},
   "outputs": [
    {
     "data": {
      "text/html": [
       "<div>\n",
       "<style scoped>\n",
       "    .dataframe tbody tr th:only-of-type {\n",
       "        vertical-align: middle;\n",
       "    }\n",
       "\n",
       "    .dataframe tbody tr th {\n",
       "        vertical-align: top;\n",
       "    }\n",
       "\n",
       "    .dataframe thead th {\n",
       "        text-align: right;\n",
       "    }\n",
       "</style>\n",
       "<table border=\"1\" class=\"dataframe\">\n",
       "  <thead>\n",
       "    <tr style=\"text-align: right;\">\n",
       "      <th></th>\n",
       "      <th>userId</th>\n",
       "      <th>date</th>\n",
       "      <th>eventType</th>\n",
       "      <th>application</th>\n",
       "      <th>ip</th>\n",
       "    </tr>\n",
       "  </thead>\n",
       "  <tbody>\n",
       "    <tr>\n",
       "      <th>37997</th>\n",
       "      <td>808</td>\n",
       "      <td>2021-05-24 08:59:09.000</td>\n",
       "      <td>1</td>\n",
       "      <td>HRW</td>\n",
       "      <td>NaN</td>\n",
       "    </tr>\n",
       "    <tr>\n",
       "      <th>267684</th>\n",
       "      <td>9874</td>\n",
       "      <td>2021-03-30 15:00:42.000</td>\n",
       "      <td>2</td>\n",
       "      <td>ERM</td>\n",
       "      <td>ip_5043</td>\n",
       "    </tr>\n",
       "    <tr>\n",
       "      <th>711162</th>\n",
       "      <td>28718</td>\n",
       "      <td>2021-04-01 11:58:37.000</td>\n",
       "      <td>1</td>\n",
       "      <td>ERM</td>\n",
       "      <td>ip_1458</td>\n",
       "    </tr>\n",
       "    <tr>\n",
       "      <th>10320</th>\n",
       "      <td>29</td>\n",
       "      <td>2020-01-23 13:59:56.000</td>\n",
       "      <td>1</td>\n",
       "      <td>ERM</td>\n",
       "      <td>ip_9</td>\n",
       "    </tr>\n",
       "    <tr>\n",
       "      <th>268895</th>\n",
       "      <td>9885</td>\n",
       "      <td>2021-05-27 13:00:39.000</td>\n",
       "      <td>2</td>\n",
       "      <td>ERM</td>\n",
       "      <td>ip_8383</td>\n",
       "    </tr>\n",
       "    <tr>\n",
       "      <th>82110</th>\n",
       "      <td>1760</td>\n",
       "      <td>2021-04-29 10:58:44.000</td>\n",
       "      <td>1</td>\n",
       "      <td>ERM</td>\n",
       "      <td>ip_1467</td>\n",
       "    </tr>\n",
       "    <tr>\n",
       "      <th>672409</th>\n",
       "      <td>27463</td>\n",
       "      <td>2021-04-15 17:02:52.000</td>\n",
       "      <td>1</td>\n",
       "      <td>GTL</td>\n",
       "      <td>NaN</td>\n",
       "    </tr>\n",
       "    <tr>\n",
       "      <th>764479</th>\n",
       "      <td>31372</td>\n",
       "      <td>2020-05-04 08:10:04.000</td>\n",
       "      <td>2</td>\n",
       "      <td>ERM</td>\n",
       "      <td>ip_39619</td>\n",
       "    </tr>\n",
       "    <tr>\n",
       "      <th>10122</th>\n",
       "      <td>29</td>\n",
       "      <td>2020-01-07 12:55:51.000</td>\n",
       "      <td>1</td>\n",
       "      <td>ERM</td>\n",
       "      <td>ip_9</td>\n",
       "    </tr>\n",
       "    <tr>\n",
       "      <th>409286</th>\n",
       "      <td>18043</td>\n",
       "      <td>2021-06-24 11:32:33.000</td>\n",
       "      <td>1</td>\n",
       "      <td>HR1</td>\n",
       "      <td>NaN</td>\n",
       "    </tr>\n",
       "  </tbody>\n",
       "</table>\n",
       "</div>"
      ],
      "text/plain": [
       "        userId                     date  eventType application        ip\n",
       "37997      808  2021-05-24 08:59:09.000          1         HRW       NaN\n",
       "267684    9874  2021-03-30 15:00:42.000          2         ERM   ip_5043\n",
       "711162   28718  2021-04-01 11:58:37.000          1         ERM   ip_1458\n",
       "10320       29  2020-01-23 13:59:56.000          1         ERM      ip_9\n",
       "268895    9885  2021-05-27 13:00:39.000          2         ERM   ip_8383\n",
       "82110     1760  2021-04-29 10:58:44.000          1         ERM   ip_1467\n",
       "672409   27463  2021-04-15 17:02:52.000          1         GTL       NaN\n",
       "764479   31372  2020-05-04 08:10:04.000          2         ERM  ip_39619\n",
       "10122       29  2020-01-07 12:55:51.000          1         ERM      ip_9\n",
       "409286   18043  2021-06-24 11:32:33.000          1         HR1       NaN"
      ]
     },
     "execution_count": 94,
     "metadata": {},
     "output_type": "execute_result"
    }
   ],
   "source": [
    "#remove unkown coloums\n",
    "df_ = df.drop(columns=['1?','2?','3?','4?','5?'])\n",
    "\n",
    "df_.sample(SAMPLE)"
   ]
  },
  {
   "cell_type": "code",
   "execution_count": 95,
   "id": "defef2d9",
   "metadata": {},
   "outputs": [
    {
     "name": "stdout",
     "output_type": "stream",
     "text": [
      "number of null entries:\n"
     ]
    },
    {
     "data": {
      "text/plain": [
       "userId              0\n",
       "date                0\n",
       "eventType           0\n",
       "application         0\n",
       "ip             339741\n",
       "dtype: int64"
      ]
     },
     "execution_count": 95,
     "metadata": {},
     "output_type": "execute_result"
    }
   ],
   "source": [
    "#cleaning row data\n",
    "\n",
    "print('number of null entries:')\n",
    "df_.isnull().sum()"
   ]
  },
  {
   "cell_type": "code",
   "execution_count": 96,
   "id": "f6e893ff",
   "metadata": {
    "scrolled": true
   },
   "outputs": [
    {
     "data": {
      "text/html": [
       "<div>\n",
       "<style scoped>\n",
       "    .dataframe tbody tr th:only-of-type {\n",
       "        vertical-align: middle;\n",
       "    }\n",
       "\n",
       "    .dataframe tbody tr th {\n",
       "        vertical-align: top;\n",
       "    }\n",
       "\n",
       "    .dataframe thead th {\n",
       "        text-align: right;\n",
       "    }\n",
       "</style>\n",
       "<table border=\"1\" class=\"dataframe\">\n",
       "  <thead>\n",
       "    <tr style=\"text-align: right;\">\n",
       "      <th></th>\n",
       "      <th>userId</th>\n",
       "      <th>date</th>\n",
       "      <th>eventType</th>\n",
       "      <th>application</th>\n",
       "      <th>ip</th>\n",
       "    </tr>\n",
       "  </thead>\n",
       "  <tbody>\n",
       "    <tr>\n",
       "      <th>446053</th>\n",
       "      <td>19477</td>\n",
       "      <td>2021-04-22 08:08:37.000</td>\n",
       "      <td>2</td>\n",
       "      <td>ERM</td>\n",
       "      <td>ip_128</td>\n",
       "    </tr>\n",
       "    <tr>\n",
       "      <th>222305</th>\n",
       "      <td>4278</td>\n",
       "      <td>2021-03-24 17:30:56.000</td>\n",
       "      <td>1</td>\n",
       "      <td>HRW</td>\n",
       "      <td>unknown</td>\n",
       "    </tr>\n",
       "    <tr>\n",
       "      <th>636836</th>\n",
       "      <td>26166</td>\n",
       "      <td>2021-05-05 09:00:47.000</td>\n",
       "      <td>1</td>\n",
       "      <td>HRC</td>\n",
       "      <td>unknown</td>\n",
       "    </tr>\n",
       "    <tr>\n",
       "      <th>695124</th>\n",
       "      <td>28132</td>\n",
       "      <td>2021-04-15 08:07:03.000</td>\n",
       "      <td>1</td>\n",
       "      <td>ERM</td>\n",
       "      <td>ip_5290</td>\n",
       "    </tr>\n",
       "    <tr>\n",
       "      <th>751506</th>\n",
       "      <td>31001</td>\n",
       "      <td>2020-05-04 09:28:33.000</td>\n",
       "      <td>1</td>\n",
       "      <td>ERM</td>\n",
       "      <td>ip_38656</td>\n",
       "    </tr>\n",
       "    <tr>\n",
       "      <th>207691</th>\n",
       "      <td>3959</td>\n",
       "      <td>2021-06-28 09:50:23.000</td>\n",
       "      <td>1</td>\n",
       "      <td>HR1</td>\n",
       "      <td>unknown</td>\n",
       "    </tr>\n",
       "    <tr>\n",
       "      <th>146833</th>\n",
       "      <td>2860</td>\n",
       "      <td>2021-04-06 16:53:10.000</td>\n",
       "      <td>1</td>\n",
       "      <td>ERM</td>\n",
       "      <td>ip_3193</td>\n",
       "    </tr>\n",
       "    <tr>\n",
       "      <th>72318</th>\n",
       "      <td>1559</td>\n",
       "      <td>2021-05-14 17:18:57.000</td>\n",
       "      <td>1</td>\n",
       "      <td>HRW</td>\n",
       "      <td>unknown</td>\n",
       "    </tr>\n",
       "    <tr>\n",
       "      <th>794968</th>\n",
       "      <td>32254</td>\n",
       "      <td>2021-02-11 09:39:46.000</td>\n",
       "      <td>1</td>\n",
       "      <td>HR1</td>\n",
       "      <td>unknown</td>\n",
       "    </tr>\n",
       "    <tr>\n",
       "      <th>798395</th>\n",
       "      <td>32330</td>\n",
       "      <td>2021-06-21 16:34:36.000</td>\n",
       "      <td>1</td>\n",
       "      <td>HRW</td>\n",
       "      <td>unknown</td>\n",
       "    </tr>\n",
       "  </tbody>\n",
       "</table>\n",
       "</div>"
      ],
      "text/plain": [
       "        userId                     date  eventType application        ip\n",
       "446053   19477  2021-04-22 08:08:37.000          2         ERM    ip_128\n",
       "222305    4278  2021-03-24 17:30:56.000          1         HRW   unknown\n",
       "636836   26166  2021-05-05 09:00:47.000          1         HRC   unknown\n",
       "695124   28132  2021-04-15 08:07:03.000          1         ERM   ip_5290\n",
       "751506   31001  2020-05-04 09:28:33.000          1         ERM  ip_38656\n",
       "207691    3959  2021-06-28 09:50:23.000          1         HR1   unknown\n",
       "146833    2860  2021-04-06 16:53:10.000          1         ERM   ip_3193\n",
       "72318     1559  2021-05-14 17:18:57.000          1         HRW   unknown\n",
       "794968   32254  2021-02-11 09:39:46.000          1         HR1   unknown\n",
       "798395   32330  2021-06-21 16:34:36.000          1         HRW   unknown"
      ]
     },
     "execution_count": 96,
     "metadata": {},
     "output_type": "execute_result"
    }
   ],
   "source": [
    "df_['ip'].fillna(UNKNOWN,inplace=True)\n",
    "\n",
    "df_.sample(SAMPLE)"
   ]
  },
  {
   "cell_type": "markdown",
   "id": "c1539daa",
   "metadata": {},
   "source": [
    "### Data cleaning"
   ]
  },
  {
   "cell_type": "code",
   "execution_count": 97,
   "id": "8fb736c0",
   "metadata": {},
   "outputs": [
    {
     "name": "stdout",
     "output_type": "stream",
     "text": [
      "Duplicates number 3432 on 849552\n",
      "New size:846120\n"
     ]
    },
    {
     "data": {
      "text/html": [
       "<div>\n",
       "<style scoped>\n",
       "    .dataframe tbody tr th:only-of-type {\n",
       "        vertical-align: middle;\n",
       "    }\n",
       "\n",
       "    .dataframe tbody tr th {\n",
       "        vertical-align: top;\n",
       "    }\n",
       "\n",
       "    .dataframe thead th {\n",
       "        text-align: right;\n",
       "    }\n",
       "</style>\n",
       "<table border=\"1\" class=\"dataframe\">\n",
       "  <thead>\n",
       "    <tr style=\"text-align: right;\">\n",
       "      <th></th>\n",
       "      <th>userId</th>\n",
       "      <th>date</th>\n",
       "      <th>eventType</th>\n",
       "      <th>application</th>\n",
       "      <th>ip</th>\n",
       "    </tr>\n",
       "  </thead>\n",
       "  <tbody>\n",
       "    <tr>\n",
       "      <th>627467</th>\n",
       "      <td>25781</td>\n",
       "      <td>2019-11-22 21:14:28</td>\n",
       "      <td>2</td>\n",
       "      <td>ERM</td>\n",
       "      <td>ip_30498</td>\n",
       "    </tr>\n",
       "    <tr>\n",
       "      <th>627466</th>\n",
       "      <td>25781</td>\n",
       "      <td>2019-11-22 21:17:09</td>\n",
       "      <td>2</td>\n",
       "      <td>ERM</td>\n",
       "      <td>ip_30498</td>\n",
       "    </tr>\n",
       "    <tr>\n",
       "      <th>627470</th>\n",
       "      <td>25781</td>\n",
       "      <td>2019-11-22 21:21:38</td>\n",
       "      <td>2</td>\n",
       "      <td>ERM</td>\n",
       "      <td>ip_30498</td>\n",
       "    </tr>\n",
       "    <tr>\n",
       "      <th>643121</th>\n",
       "      <td>26401</td>\n",
       "      <td>2019-11-23 05:40:12</td>\n",
       "      <td>2</td>\n",
       "      <td>ERM</td>\n",
       "      <td>ip_25478</td>\n",
       "    </tr>\n",
       "    <tr>\n",
       "      <th>643129</th>\n",
       "      <td>26401</td>\n",
       "      <td>2019-11-23 06:20:56</td>\n",
       "      <td>1</td>\n",
       "      <td>ERM</td>\n",
       "      <td>ip_25478</td>\n",
       "    </tr>\n",
       "    <tr>\n",
       "      <th>...</th>\n",
       "      <td>...</td>\n",
       "      <td>...</td>\n",
       "      <td>...</td>\n",
       "      <td>...</td>\n",
       "      <td>...</td>\n",
       "    </tr>\n",
       "    <tr>\n",
       "      <th>580741</th>\n",
       "      <td>24203</td>\n",
       "      <td>2021-06-28 16:29:12</td>\n",
       "      <td>2</td>\n",
       "      <td>ERM</td>\n",
       "      <td>ip_1099</td>\n",
       "    </tr>\n",
       "    <tr>\n",
       "      <th>474892</th>\n",
       "      <td>20134</td>\n",
       "      <td>2021-06-28 16:29:13</td>\n",
       "      <td>1</td>\n",
       "      <td>HRW</td>\n",
       "      <td>unknown</td>\n",
       "    </tr>\n",
       "    <tr>\n",
       "      <th>321035</th>\n",
       "      <td>13237</td>\n",
       "      <td>2021-06-28 16:29:16</td>\n",
       "      <td>1</td>\n",
       "      <td>ERM</td>\n",
       "      <td>ip_126</td>\n",
       "    </tr>\n",
       "    <tr>\n",
       "      <th>809559</th>\n",
       "      <td>32639</td>\n",
       "      <td>2021-06-28 16:29:17</td>\n",
       "      <td>1</td>\n",
       "      <td>ERM</td>\n",
       "      <td>ip_42700</td>\n",
       "    </tr>\n",
       "    <tr>\n",
       "      <th>580740</th>\n",
       "      <td>24203</td>\n",
       "      <td>2021-06-28 16:29:31</td>\n",
       "      <td>2</td>\n",
       "      <td>ERM</td>\n",
       "      <td>ip_1099</td>\n",
       "    </tr>\n",
       "  </tbody>\n",
       "</table>\n",
       "<p>846120 rows × 5 columns</p>\n",
       "</div>"
      ],
      "text/plain": [
       "        userId                date  eventType application        ip\n",
       "627467   25781 2019-11-22 21:14:28          2         ERM  ip_30498\n",
       "627466   25781 2019-11-22 21:17:09          2         ERM  ip_30498\n",
       "627470   25781 2019-11-22 21:21:38          2         ERM  ip_30498\n",
       "643121   26401 2019-11-23 05:40:12          2         ERM  ip_25478\n",
       "643129   26401 2019-11-23 06:20:56          1         ERM  ip_25478\n",
       "...        ...                 ...        ...         ...       ...\n",
       "580741   24203 2021-06-28 16:29:12          2         ERM   ip_1099\n",
       "474892   20134 2021-06-28 16:29:13          1         HRW   unknown\n",
       "321035   13237 2021-06-28 16:29:16          1         ERM    ip_126\n",
       "809559   32639 2021-06-28 16:29:17          1         ERM  ip_42700\n",
       "580740   24203 2021-06-28 16:29:31          2         ERM   ip_1099\n",
       "\n",
       "[846120 rows x 5 columns]"
      ]
     },
     "execution_count": 97,
     "metadata": {},
     "output_type": "execute_result"
    }
   ],
   "source": [
    "df_['date'] = pd.to_datetime(df_['date'], format=\"%Y-%m-%d %H:%M:%S.%f\")\n",
    "df_.sort_values(by=\"date\",ascending=True,inplace=True)\n",
    "\n",
    "#check data consistency delete rows containing non-valid event code\n",
    "df_ = df_[(df_.eventType >= 1) & (df_.eventType <= 3)]\n",
    "\n",
    "#check data rendundancy\n",
    "duplicates = df_.duplicated().sum()\n",
    "if(duplicates > 0):\n",
    "    print(f'Duplicates number {duplicates} on {len(df_.index)}')\n",
    "    df_.drop_duplicates(inplace = True)\n",
    "    print(f'New size:{len(df_.index)}')\n",
    "df_"
   ]
  },
  {
   "cell_type": "markdown",
   "id": "ae3d8aa9",
   "metadata": {},
   "source": [
    "### Numerosity reduction  "
   ]
  },
  {
   "cell_type": "code",
   "execution_count": 98,
   "id": "b86f2027",
   "metadata": {},
   "outputs": [
    {
     "data": {
      "text/plain": [
       "18080"
      ]
     },
     "execution_count": 98,
     "metadata": {},
     "output_type": "execute_result"
    }
   ],
   "source": [
    "# counting unique values\n",
    "userIdNumber = len(pd.unique(df_['userId']))\n",
    "userIdNumber"
   ]
  },
  {
   "cell_type": "code",
   "execution_count": 99,
   "id": "dc558c21",
   "metadata": {
    "scrolled": true
   },
   "outputs": [
    {
     "data": {
      "text/html": [
       "<div>\n",
       "<style scoped>\n",
       "    .dataframe tbody tr th:only-of-type {\n",
       "        vertical-align: middle;\n",
       "    }\n",
       "\n",
       "    .dataframe tbody tr th {\n",
       "        vertical-align: top;\n",
       "    }\n",
       "\n",
       "    .dataframe thead th {\n",
       "        text-align: right;\n",
       "    }\n",
       "</style>\n",
       "<table border=\"1\" class=\"dataframe\">\n",
       "  <thead>\n",
       "    <tr style=\"text-align: right;\">\n",
       "      <th></th>\n",
       "      <th>userId</th>\n",
       "      <th>date</th>\n",
       "      <th>eventType</th>\n",
       "      <th>application</th>\n",
       "      <th>ip</th>\n",
       "    </tr>\n",
       "  </thead>\n",
       "  <tbody>\n",
       "    <tr>\n",
       "      <th>9162</th>\n",
       "      <td>1</td>\n",
       "      <td>2021-03-22 20:03:59</td>\n",
       "      <td>1</td>\n",
       "      <td>HRW</td>\n",
       "      <td>unknown</td>\n",
       "    </tr>\n",
       "    <tr>\n",
       "      <th>5482</th>\n",
       "      <td>1</td>\n",
       "      <td>2021-03-22 20:18:59</td>\n",
       "      <td>1</td>\n",
       "      <td>HRW</td>\n",
       "      <td>unknown</td>\n",
       "    </tr>\n",
       "    <tr>\n",
       "      <th>1872</th>\n",
       "      <td>1</td>\n",
       "      <td>2021-03-22 20:33:59</td>\n",
       "      <td>1</td>\n",
       "      <td>HRW</td>\n",
       "      <td>unknown</td>\n",
       "    </tr>\n",
       "    <tr>\n",
       "      <th>8919</th>\n",
       "      <td>1</td>\n",
       "      <td>2021-03-22 20:48:59</td>\n",
       "      <td>1</td>\n",
       "      <td>HRW</td>\n",
       "      <td>unknown</td>\n",
       "    </tr>\n",
       "    <tr>\n",
       "      <th>3704</th>\n",
       "      <td>1</td>\n",
       "      <td>2021-03-22 21:03:59</td>\n",
       "      <td>1</td>\n",
       "      <td>HRW</td>\n",
       "      <td>unknown</td>\n",
       "    </tr>\n",
       "    <tr>\n",
       "      <th>...</th>\n",
       "      <td>...</td>\n",
       "      <td>...</td>\n",
       "      <td>...</td>\n",
       "      <td>...</td>\n",
       "      <td>...</td>\n",
       "    </tr>\n",
       "    <tr>\n",
       "      <th>6216</th>\n",
       "      <td>1</td>\n",
       "      <td>2021-06-28 15:16:25</td>\n",
       "      <td>1</td>\n",
       "      <td>HRW</td>\n",
       "      <td>unknown</td>\n",
       "    </tr>\n",
       "    <tr>\n",
       "      <th>4239</th>\n",
       "      <td>1</td>\n",
       "      <td>2021-06-28 15:31:25</td>\n",
       "      <td>1</td>\n",
       "      <td>HRW</td>\n",
       "      <td>unknown</td>\n",
       "    </tr>\n",
       "    <tr>\n",
       "      <th>2170</th>\n",
       "      <td>1</td>\n",
       "      <td>2021-06-28 15:46:25</td>\n",
       "      <td>1</td>\n",
       "      <td>HRW</td>\n",
       "      <td>unknown</td>\n",
       "    </tr>\n",
       "    <tr>\n",
       "      <th>9069</th>\n",
       "      <td>1</td>\n",
       "      <td>2021-06-28 16:01:25</td>\n",
       "      <td>1</td>\n",
       "      <td>HRW</td>\n",
       "      <td>unknown</td>\n",
       "    </tr>\n",
       "    <tr>\n",
       "      <th>7440</th>\n",
       "      <td>1</td>\n",
       "      <td>2021-06-28 16:16:25</td>\n",
       "      <td>1</td>\n",
       "      <td>HRW</td>\n",
       "      <td>unknown</td>\n",
       "    </tr>\n",
       "  </tbody>\n",
       "</table>\n",
       "<p>9678 rows × 5 columns</p>\n",
       "</div>"
      ],
      "text/plain": [
       "      userId                date  eventType application       ip\n",
       "9162       1 2021-03-22 20:03:59          1         HRW  unknown\n",
       "5482       1 2021-03-22 20:18:59          1         HRW  unknown\n",
       "1872       1 2021-03-22 20:33:59          1         HRW  unknown\n",
       "8919       1 2021-03-22 20:48:59          1         HRW  unknown\n",
       "3704       1 2021-03-22 21:03:59          1         HRW  unknown\n",
       "...      ...                 ...        ...         ...      ...\n",
       "6216       1 2021-06-28 15:16:25          1         HRW  unknown\n",
       "4239       1 2021-06-28 15:31:25          1         HRW  unknown\n",
       "2170       1 2021-06-28 15:46:25          1         HRW  unknown\n",
       "9069       1 2021-06-28 16:01:25          1         HRW  unknown\n",
       "7440       1 2021-06-28 16:16:25          1         HRW  unknown\n",
       "\n",
       "[9678 rows x 5 columns]"
      ]
     },
     "execution_count": 99,
     "metadata": {},
     "output_type": "execute_result"
    }
   ],
   "source": [
    "# Need to reduce the numerosity of userId 1\n",
    "df_user1 = df_[df_.userId == 1]\n",
    "df_user1"
   ]
  },
  {
   "cell_type": "code",
   "execution_count": 100,
   "id": "c3bf09cf",
   "metadata": {},
   "outputs": [
    {
     "data": {
      "text/plain": [
       "eventType\n",
       "1    628356\n",
       "2     92058\n",
       "3    125706\n",
       "Name: eventType, dtype: int64"
      ]
     },
     "execution_count": 100,
     "metadata": {},
     "output_type": "execute_result"
    }
   ],
   "source": [
    "df_.groupby('eventType').eventType.count()"
   ]
  },
  {
   "cell_type": "markdown",
   "id": "e4205ab0",
   "metadata": {},
   "source": [
    "### Login dataframe construction"
   ]
  },
  {
   "cell_type": "code",
   "execution_count": 101,
   "id": "f4e4e172",
   "metadata": {},
   "outputs": [],
   "source": [
    "# constants\n",
    "\n",
    "START_WORKING = 8\n",
    "END_WORKING = 19"
   ]
  },
  {
   "cell_type": "code",
   "execution_count": 102,
   "id": "6642be24",
   "metadata": {},
   "outputs": [],
   "source": [
    "# lambda functions\n",
    "\n",
    "isWorkingTime = lambda x: 1 if (x.isoweekday() in range(1,5) and x.to_pydatetime().hour >= START_WORKING and x.to_pydatetime().hour <= END_WORKING) else 0\n",
    "\n",
    "# toDay: convert a stirng representing a date into a number \n",
    "#    1 --> Monday\n",
    "#    2 --> Tuesday\n",
    "#    ...\n",
    "#    7 --> Sunday\n",
    "toDay = lambda x: x.isoweekday() "
   ]
  },
  {
   "cell_type": "code",
   "execution_count": 103,
   "id": "94e20eae",
   "metadata": {
    "scrolled": true
   },
   "outputs": [
    {
     "data": {
      "text/html": [
       "<div>\n",
       "<style scoped>\n",
       "    .dataframe tbody tr th:only-of-type {\n",
       "        vertical-align: middle;\n",
       "    }\n",
       "\n",
       "    .dataframe tbody tr th {\n",
       "        vertical-align: top;\n",
       "    }\n",
       "\n",
       "    .dataframe thead th {\n",
       "        text-align: right;\n",
       "    }\n",
       "</style>\n",
       "<table border=\"1\" class=\"dataframe\">\n",
       "  <thead>\n",
       "    <tr style=\"text-align: right;\">\n",
       "      <th></th>\n",
       "      <th>userId</th>\n",
       "      <th>day</th>\n",
       "      <th>workingTime</th>\n",
       "      <th>eventType</th>\n",
       "      <th>application</th>\n",
       "    </tr>\n",
       "  </thead>\n",
       "  <tbody>\n",
       "    <tr>\n",
       "      <th>228997</th>\n",
       "      <td>4679</td>\n",
       "      <td>6</td>\n",
       "      <td>0</td>\n",
       "      <td>2</td>\n",
       "      <td>ERM</td>\n",
       "    </tr>\n",
       "    <tr>\n",
       "      <th>161973</th>\n",
       "      <td>3162</td>\n",
       "      <td>4</td>\n",
       "      <td>1</td>\n",
       "      <td>1</td>\n",
       "      <td>HRW</td>\n",
       "    </tr>\n",
       "    <tr>\n",
       "      <th>510381</th>\n",
       "      <td>21493</td>\n",
       "      <td>1</td>\n",
       "      <td>1</td>\n",
       "      <td>1</td>\n",
       "      <td>HRW</td>\n",
       "    </tr>\n",
       "    <tr>\n",
       "      <th>142284</th>\n",
       "      <td>2776</td>\n",
       "      <td>2</td>\n",
       "      <td>1</td>\n",
       "      <td>1</td>\n",
       "      <td>HRW</td>\n",
       "    </tr>\n",
       "    <tr>\n",
       "      <th>729705</th>\n",
       "      <td>29257</td>\n",
       "      <td>1</td>\n",
       "      <td>1</td>\n",
       "      <td>2</td>\n",
       "      <td>ERM</td>\n",
       "    </tr>\n",
       "    <tr>\n",
       "      <th>789605</th>\n",
       "      <td>32140</td>\n",
       "      <td>4</td>\n",
       "      <td>1</td>\n",
       "      <td>1</td>\n",
       "      <td>ERM</td>\n",
       "    </tr>\n",
       "    <tr>\n",
       "      <th>386452</th>\n",
       "      <td>15972</td>\n",
       "      <td>4</td>\n",
       "      <td>1</td>\n",
       "      <td>3</td>\n",
       "      <td>ERM</td>\n",
       "    </tr>\n",
       "    <tr>\n",
       "      <th>218767</th>\n",
       "      <td>4198</td>\n",
       "      <td>2</td>\n",
       "      <td>1</td>\n",
       "      <td>1</td>\n",
       "      <td>ERM</td>\n",
       "    </tr>\n",
       "    <tr>\n",
       "      <th>1971</th>\n",
       "      <td>1</td>\n",
       "      <td>5</td>\n",
       "      <td>0</td>\n",
       "      <td>1</td>\n",
       "      <td>HRW</td>\n",
       "    </tr>\n",
       "    <tr>\n",
       "      <th>30448</th>\n",
       "      <td>577</td>\n",
       "      <td>1</td>\n",
       "      <td>0</td>\n",
       "      <td>1</td>\n",
       "      <td>HRW</td>\n",
       "    </tr>\n",
       "  </tbody>\n",
       "</table>\n",
       "</div>"
      ],
      "text/plain": [
       "        userId  day  workingTime  eventType application\n",
       "228997    4679    6            0          2         ERM\n",
       "161973    3162    4            1          1         HRW\n",
       "510381   21493    1            1          1         HRW\n",
       "142284    2776    2            1          1         HRW\n",
       "729705   29257    1            1          2         ERM\n",
       "789605   32140    4            1          1         ERM\n",
       "386452   15972    4            1          3         ERM\n",
       "218767    4198    2            1          1         ERM\n",
       "1971         1    5            0          1         HRW\n",
       "30448      577    1            0          1         HRW"
      ]
     },
     "execution_count": 103,
     "metadata": {},
     "output_type": "execute_result"
    }
   ],
   "source": [
    "#setting up the 1st datase\n",
    "df_logins = pd.DataFrame(columns=['userId', 'date', 'day', 'workingTime', 'eventType', 'application'])\n",
    "df_logins['userId'] = df_['userId']\n",
    "df_logins['date'] = df_[\"date\"]\n",
    "df_logins['day'] = df_logins['date'].apply(toDay)\n",
    "df_logins['workingTime'] = df_logins['date'].apply(isWorkingTime)\n",
    "df_logins['eventType'] = df_['eventType']\n",
    "df_logins['application'] = df_['application']\n",
    "\n",
    "df_logins.drop(columns=['date'], inplace=True)\n",
    "df_logins.sample(SAMPLE)"
   ]
  },
  {
   "cell_type": "code",
   "execution_count": 104,
   "id": "a8d6ea75",
   "metadata": {},
   "outputs": [
    {
     "data": {
      "text/plain": [
       "application\n",
       "DWH      1147\n",
       "ERM    507091\n",
       "GAW        35\n",
       "GTL      2674\n",
       "HCF       432\n",
       "HR1     53027\n",
       "HRC     24712\n",
       "HRM      1555\n",
       "HRW    233635\n",
       "HSP       320\n",
       "HTR      3663\n",
       "HUT        39\n",
       "MD7       359\n",
       "TM3     17431\n",
       "Name: application, dtype: int64"
      ]
     },
     "execution_count": 104,
     "metadata": {},
     "output_type": "execute_result"
    }
   ],
   "source": [
    "# applications\n",
    "df_logins.groupby('application').application.count()"
   ]
  },
  {
   "cell_type": "code",
   "execution_count": 105,
   "id": "0f36ec8a",
   "metadata": {},
   "outputs": [
    {
     "data": {
      "text/plain": [
       "{'DWH': 1,\n",
       " 'ERM': 2,\n",
       " 'GAW': 3,\n",
       " 'GTL': 4,\n",
       " 'HCF': 5,\n",
       " 'HR1': 6,\n",
       " 'HRC': 7,\n",
       " 'HRM': 8,\n",
       " 'HRW': 9,\n",
       " 'HSP': 10,\n",
       " 'HTR': 11,\n",
       " 'HUT': 12,\n",
       " 'MD7': 13,\n",
       " 'TM3': 14}"
      ]
     },
     "execution_count": 105,
     "metadata": {},
     "output_type": "execute_result"
    }
   ],
   "source": [
    "applicationDict = df_logins.groupby('application').application.count().to_dict()\n",
    "i = 1\n",
    "for key in applicationDict:\n",
    "    applicationDict[key] = i\n",
    "    i += 1\n",
    "\n",
    "applicationDict"
   ]
  },
  {
   "cell_type": "code",
   "execution_count": 106,
   "id": "01b6af37",
   "metadata": {},
   "outputs": [],
   "source": [
    "# lambda function used to convert nominal attribute \"application\" into numerical\n",
    "toNumericalApplication = lambda x: applicationDict[x]"
   ]
  },
  {
   "cell_type": "code",
   "execution_count": 107,
   "id": "aa146329",
   "metadata": {},
   "outputs": [
    {
     "data": {
      "text/plain": [
       "'\\n# converting nominal attribute \"application\" into BINARY\\ndf_logins = pd.get_dummies(df_logins, prefix=[\\'application\\'])\\ndf_logins.sample(SAMPLE)\\n'"
      ]
     },
     "execution_count": 107,
     "metadata": {},
     "output_type": "execute_result"
    }
   ],
   "source": [
    "\"\"\"\n",
    "# converting nominal attribute \"application\" into BINARY\n",
    "df_logins = pd.get_dummies(df_logins, prefix=['application'])\n",
    "df_logins.sample(SAMPLE)\n",
    "\"\"\""
   ]
  },
  {
   "cell_type": "code",
   "execution_count": 108,
   "id": "c1bea1a6",
   "metadata": {},
   "outputs": [
    {
     "data": {
      "text/html": [
       "<div>\n",
       "<style scoped>\n",
       "    .dataframe tbody tr th:only-of-type {\n",
       "        vertical-align: middle;\n",
       "    }\n",
       "\n",
       "    .dataframe tbody tr th {\n",
       "        vertical-align: top;\n",
       "    }\n",
       "\n",
       "    .dataframe thead th {\n",
       "        text-align: right;\n",
       "    }\n",
       "</style>\n",
       "<table border=\"1\" class=\"dataframe\">\n",
       "  <thead>\n",
       "    <tr style=\"text-align: right;\">\n",
       "      <th></th>\n",
       "      <th>userId</th>\n",
       "      <th>day</th>\n",
       "      <th>workingTime</th>\n",
       "      <th>eventType</th>\n",
       "      <th>application</th>\n",
       "    </tr>\n",
       "  </thead>\n",
       "  <tbody>\n",
       "    <tr>\n",
       "      <th>225095</th>\n",
       "      <td>4348</td>\n",
       "      <td>4</td>\n",
       "      <td>1</td>\n",
       "      <td>1</td>\n",
       "      <td>2</td>\n",
       "    </tr>\n",
       "    <tr>\n",
       "      <th>584769</th>\n",
       "      <td>24379</td>\n",
       "      <td>1</td>\n",
       "      <td>1</td>\n",
       "      <td>1</td>\n",
       "      <td>2</td>\n",
       "    </tr>\n",
       "    <tr>\n",
       "      <th>628831</th>\n",
       "      <td>25883</td>\n",
       "      <td>2</td>\n",
       "      <td>1</td>\n",
       "      <td>1</td>\n",
       "      <td>2</td>\n",
       "    </tr>\n",
       "    <tr>\n",
       "      <th>51040</th>\n",
       "      <td>1149</td>\n",
       "      <td>5</td>\n",
       "      <td>0</td>\n",
       "      <td>1</td>\n",
       "      <td>2</td>\n",
       "    </tr>\n",
       "    <tr>\n",
       "      <th>563465</th>\n",
       "      <td>23525</td>\n",
       "      <td>1</td>\n",
       "      <td>1</td>\n",
       "      <td>3</td>\n",
       "      <td>14</td>\n",
       "    </tr>\n",
       "    <tr>\n",
       "      <th>78162</th>\n",
       "      <td>1664</td>\n",
       "      <td>5</td>\n",
       "      <td>0</td>\n",
       "      <td>1</td>\n",
       "      <td>2</td>\n",
       "    </tr>\n",
       "    <tr>\n",
       "      <th>54053</th>\n",
       "      <td>1205</td>\n",
       "      <td>5</td>\n",
       "      <td>0</td>\n",
       "      <td>1</td>\n",
       "      <td>9</td>\n",
       "    </tr>\n",
       "    <tr>\n",
       "      <th>758042</th>\n",
       "      <td>31205</td>\n",
       "      <td>3</td>\n",
       "      <td>1</td>\n",
       "      <td>1</td>\n",
       "      <td>2</td>\n",
       "    </tr>\n",
       "    <tr>\n",
       "      <th>229584</th>\n",
       "      <td>4867</td>\n",
       "      <td>4</td>\n",
       "      <td>1</td>\n",
       "      <td>2</td>\n",
       "      <td>2</td>\n",
       "    </tr>\n",
       "    <tr>\n",
       "      <th>760553</th>\n",
       "      <td>31324</td>\n",
       "      <td>2</td>\n",
       "      <td>1</td>\n",
       "      <td>1</td>\n",
       "      <td>11</td>\n",
       "    </tr>\n",
       "  </tbody>\n",
       "</table>\n",
       "</div>"
      ],
      "text/plain": [
       "        userId  day  workingTime  eventType  application\n",
       "225095    4348    4            1          1            2\n",
       "584769   24379    1            1          1            2\n",
       "628831   25883    2            1          1            2\n",
       "51040     1149    5            0          1            2\n",
       "563465   23525    1            1          3           14\n",
       "78162     1664    5            0          1            2\n",
       "54053     1205    5            0          1            9\n",
       "758042   31205    3            1          1            2\n",
       "229584    4867    4            1          2            2\n",
       "760553   31324    2            1          1           11"
      ]
     },
     "execution_count": 108,
     "metadata": {},
     "output_type": "execute_result"
    }
   ],
   "source": [
    "# converting dataframe column \"application\" from nominal attribute to numerical\n",
    "df_logins['application'] = df_logins['application'].apply(toNumericalApplication)\n",
    "df_logins.sample(SAMPLE)"
   ]
  },
  {
   "cell_type": "code",
   "execution_count": 109,
   "id": "b42283f5",
   "metadata": {},
   "outputs": [
    {
     "data": {
      "text/plain": [
       "day\n",
       "1    177305\n",
       "2    160928\n",
       "3    147704\n",
       "4    160551\n",
       "5    154631\n",
       "6     25318\n",
       "7     19683\n",
       "Name: day, dtype: int64"
      ]
     },
     "execution_count": 109,
     "metadata": {},
     "output_type": "execute_result"
    }
   ],
   "source": [
    "df_logins.groupby('day').day.count()"
   ]
  },
  {
   "cell_type": "markdown",
   "id": "43cda0e3",
   "metadata": {},
   "source": [
    "#### Plotting"
   ]
  },
  {
   "cell_type": "markdown",
   "id": "4f18de8c",
   "metadata": {},
   "source": [
    "Number of events per day"
   ]
  },
  {
   "cell_type": "code",
   "execution_count": 110,
   "id": "a308e0fa",
   "metadata": {
    "scrolled": true
   },
   "outputs": [
    {
     "data": {
      "image/png": "[encoded data removed]",
      "text/plain": [
       "<Figure size 432x288 with 1 Axes>"
      ]
     },
     "metadata": {
      "needs_background": "light"
     },
     "output_type": "display_data"
    }
   ],
   "source": [
    "df_logins['day'].plot.hist()\n",
    "plt.show()"
   ]
  },
  {
   "cell_type": "code",
   "execution_count": 123,
   "id": "1abb2ba0",
   "metadata": {},
   "outputs": [
    {
     "data": {
      "image/png": "[encoded data removed]",
      "text/plain": [
       "<Figure size 432x288 with 1 Axes>"
      ]
     },
     "metadata": {
      "needs_background": "light"
     },
     "output_type": "display_data"
    }
   ],
   "source": [
    "df_logins.plot(x = 'day', y = 'workingTime', kind = 'scatter')\n",
    "plt.show()"
   ]
  },
  {
   "cell_type": "markdown",
   "id": "195a89f0",
   "metadata": {},
   "source": [
    "Every log between Friday and Sunday occurred outside working time"
   ]
  },
  {
   "cell_type": "code",
   "execution_count": 124,
   "id": "db66ceb0",
   "metadata": {},
   "outputs": [
    {
     "data": {
      "image/png": "[encoded data removed]",
      "text/plain": [
       "<Figure size 432x288 with 1 Axes>"
      ]
     },
     "metadata": {
      "needs_background": "light"
     },
     "output_type": "display_data"
    }
   ],
   "source": [
    "df_logins.plot(x = 'eventType', y = 'workingTime', kind = 'scatter')\n",
    "plt.show()"
   ]
  },
  {
   "cell_type": "code",
   "execution_count": 113,
   "id": "93b00738",
   "metadata": {},
   "outputs": [
    {
     "data": {
      "image/png": "[encoded data removed]",
      "text/plain": [
       "<Figure size 432x288 with 1 Axes>"
      ]
     },
     "metadata": {
      "needs_background": "light"
     },
     "output_type": "display_data"
    }
   ],
   "source": [
    "df_logins.plot(x = 'application', y = 'eventType', kind = 'scatter')\n",
    "plt.show()"
   ]
  },
  {
   "cell_type": "markdown",
   "id": "65c080a8",
   "metadata": {},
   "source": [
    "Failed logins attempts occurred only for application ERM (2), HRW(9) and TM3(14) "
   ]
  },
  {
   "cell_type": "markdown",
   "id": "8c99e239",
   "metadata": {},
   "source": [
    "### Users dataframe construction"
   ]
  },
  {
   "cell_type": "code",
   "execution_count": 114,
   "id": "453b353e",
   "metadata": {},
   "outputs": [],
   "source": [
    "# group by the userId\n",
    "df_groupbyUserId = df_.groupby('userId')"
   ]
  },
  {
   "cell_type": "code",
   "execution_count": 115,
   "id": "a518dce5",
   "metadata": {},
   "outputs": [],
   "source": [
    "users_id = []\n",
    "for key, value in df_groupbyUserId:\n",
    "    users_id.append(key)\n",
    "\n",
    "# user_id - value \n",
    "usersdIpAmount = df_groupbyUserId[\"ip\"].nunique()\n",
    "\n",
    "# user_id - value\n",
    "failedAttemps = {}\n",
    "successAttemps = {}\n",
    "logoutAmount = {}\n",
    "avgLoginLogout = {}\n",
    "avgTimeBtwLogin = {}\n",
    "for i in users_id:\n",
    "    user_group = df_groupbyUserId.get_group(i)\n",
    "    \n",
    "    ctr = user_group[user_group[\"eventType\"] == 2].count()\n",
    "    failedAttemps[i] = ctr[\"eventType\"]\n",
    "    ctr = user_group[user_group[\"eventType\"] == 1].count()\n",
    "    successAttemps[i] = ctr[\"eventType\"]\n",
    "    ctr = user_group[user_group[\"eventType\"] == 3].count()\n",
    "    logoutAmount[i] = ctr[\"eventType\"]\n",
    "    \n",
    "#avarage loginLogout \n",
    "for key,value in successAttemps.items():\n",
    "    avgLoginLogout[key] = 0 if(key not in logoutAmount or logoutAmount[key] == 0 ) else  value/logoutAmount[key]\n",
    "    \n",
    "# avarage time between two consecutive login\n",
    "from datetime import datetime\n",
    "avgTimeBtwLoginErr = {}\n",
    "for i in users_id:\n",
    "    user_group = df_groupbyUserId.get_group(i)\n",
    "    delta_sum = 0\n",
    "    rowsNumber = len(user_group.index)\n",
    "    ctr = 0\n",
    "    for j in range(rowsNumber - 1):\n",
    "        #k = j\n",
    "        if user_group.iloc[j][\"eventType\"] == 2:\n",
    "            k = j+1            \n",
    "            while user_group.iloc[k][\"eventType\"] != 2 and k < (rowsNumber - 1):\n",
    "                k += 1\n",
    "            if k == 1 or k != rowsNumber - 1:\n",
    "                delta_sum += (user_group.iloc[k][\"date\"] - user_group.iloc[j][\"date\"]).total_seconds() * 1000\n",
    "                ctr += 1\n",
    "            j = k\n",
    "            \n",
    "    if ctr != 0:\n",
    "        avgTimeBtwLoginErr[i] = int(delta_sum/ctr)\n",
    "    else:\n",
    "        avgTimeBtwLoginErr[i] = 0\n"
   ]
  },
  {
   "cell_type": "code",
   "execution_count": 116,
   "id": "917c1154",
   "metadata": {},
   "outputs": [
    {
     "data": {
      "text/html": [
       "<div>\n",
       "<style scoped>\n",
       "    .dataframe tbody tr th:only-of-type {\n",
       "        vertical-align: middle;\n",
       "    }\n",
       "\n",
       "    .dataframe tbody tr th {\n",
       "        vertical-align: top;\n",
       "    }\n",
       "\n",
       "    .dataframe thead th {\n",
       "        text-align: right;\n",
       "    }\n",
       "</style>\n",
       "<table border=\"1\" class=\"dataframe\">\n",
       "  <thead>\n",
       "    <tr style=\"text-align: right;\">\n",
       "      <th></th>\n",
       "      <th>userId</th>\n",
       "      <th>usedIpAmount</th>\n",
       "      <th>avgTimeBtwLoginErr</th>\n",
       "      <th>failedAttemps</th>\n",
       "      <th>successAttemps</th>\n",
       "      <th>logoutAmount</th>\n",
       "      <th>avgLoginLogout</th>\n",
       "    </tr>\n",
       "  </thead>\n",
       "  <tbody>\n",
       "    <tr>\n",
       "      <th>0</th>\n",
       "      <td>1</td>\n",
       "      <td>2</td>\n",
       "      <td>0</td>\n",
       "      <td>1</td>\n",
       "      <td>9677</td>\n",
       "      <td>0</td>\n",
       "      <td>0.000000</td>\n",
       "    </tr>\n",
       "    <tr>\n",
       "      <th>1</th>\n",
       "      <td>10</td>\n",
       "      <td>2</td>\n",
       "      <td>12256585000</td>\n",
       "      <td>2</td>\n",
       "      <td>0</td>\n",
       "      <td>0</td>\n",
       "      <td>0.000000</td>\n",
       "    </tr>\n",
       "    <tr>\n",
       "      <th>2</th>\n",
       "      <td>17</td>\n",
       "      <td>1</td>\n",
       "      <td>931113250</td>\n",
       "      <td>9</td>\n",
       "      <td>9</td>\n",
       "      <td>0</td>\n",
       "      <td>0.000000</td>\n",
       "    </tr>\n",
       "    <tr>\n",
       "      <th>3</th>\n",
       "      <td>18</td>\n",
       "      <td>1</td>\n",
       "      <td>12000</td>\n",
       "      <td>4</td>\n",
       "      <td>0</td>\n",
       "      <td>0</td>\n",
       "      <td>0.000000</td>\n",
       "    </tr>\n",
       "    <tr>\n",
       "      <th>4</th>\n",
       "      <td>21</td>\n",
       "      <td>6</td>\n",
       "      <td>4000</td>\n",
       "      <td>2</td>\n",
       "      <td>28</td>\n",
       "      <td>18</td>\n",
       "      <td>1.555556</td>\n",
       "    </tr>\n",
       "    <tr>\n",
       "      <th>...</th>\n",
       "      <td>...</td>\n",
       "      <td>...</td>\n",
       "      <td>...</td>\n",
       "      <td>...</td>\n",
       "      <td>...</td>\n",
       "      <td>...</td>\n",
       "      <td>...</td>\n",
       "    </tr>\n",
       "    <tr>\n",
       "      <th>18075</th>\n",
       "      <td>33952</td>\n",
       "      <td>1</td>\n",
       "      <td>0</td>\n",
       "      <td>0</td>\n",
       "      <td>1</td>\n",
       "      <td>0</td>\n",
       "      <td>0.000000</td>\n",
       "    </tr>\n",
       "    <tr>\n",
       "      <th>18076</th>\n",
       "      <td>33953</td>\n",
       "      <td>1</td>\n",
       "      <td>0</td>\n",
       "      <td>0</td>\n",
       "      <td>1</td>\n",
       "      <td>0</td>\n",
       "      <td>0.000000</td>\n",
       "    </tr>\n",
       "    <tr>\n",
       "      <th>18077</th>\n",
       "      <td>33954</td>\n",
       "      <td>1</td>\n",
       "      <td>0</td>\n",
       "      <td>0</td>\n",
       "      <td>1</td>\n",
       "      <td>0</td>\n",
       "      <td>0.000000</td>\n",
       "    </tr>\n",
       "    <tr>\n",
       "      <th>18078</th>\n",
       "      <td>33961</td>\n",
       "      <td>1</td>\n",
       "      <td>0</td>\n",
       "      <td>0</td>\n",
       "      <td>1</td>\n",
       "      <td>0</td>\n",
       "      <td>0.000000</td>\n",
       "    </tr>\n",
       "    <tr>\n",
       "      <th>18079</th>\n",
       "      <td>33963</td>\n",
       "      <td>1</td>\n",
       "      <td>0</td>\n",
       "      <td>0</td>\n",
       "      <td>1</td>\n",
       "      <td>0</td>\n",
       "      <td>0.000000</td>\n",
       "    </tr>\n",
       "  </tbody>\n",
       "</table>\n",
       "<p>18080 rows × 7 columns</p>\n",
       "</div>"
      ],
      "text/plain": [
       "       userId  usedIpAmount  avgTimeBtwLoginErr  failedAttemps  \\\n",
       "0           1             2                   0              1   \n",
       "1          10             2         12256585000              2   \n",
       "2          17             1           931113250              9   \n",
       "3          18             1               12000              4   \n",
       "4          21             6                4000              2   \n",
       "...       ...           ...                 ...            ...   \n",
       "18075   33952             1                   0              0   \n",
       "18076   33953             1                   0              0   \n",
       "18077   33954             1                   0              0   \n",
       "18078   33961             1                   0              0   \n",
       "18079   33963             1                   0              0   \n",
       "\n",
       "       successAttemps  logoutAmount  avgLoginLogout  \n",
       "0                9677             0        0.000000  \n",
       "1                   0             0        0.000000  \n",
       "2                   9             0        0.000000  \n",
       "3                   0             0        0.000000  \n",
       "4                  28            18        1.555556  \n",
       "...               ...           ...             ...  \n",
       "18075               1             0        0.000000  \n",
       "18076               1             0        0.000000  \n",
       "18077               1             0        0.000000  \n",
       "18078               1             0        0.000000  \n",
       "18079               1             0        0.000000  \n",
       "\n",
       "[18080 rows x 7 columns]"
      ]
     },
     "execution_count": 116,
     "metadata": {},
     "output_type": "execute_result"
    }
   ],
   "source": [
    "# setting up 2nd dataset\n",
    "df_users = pd.DataFrame(columns=[\"userId\",\"usedIpAmount\",\"avgTimeBtwLoginErr\",\n",
    "                                 \"failedAttemps\",\"successAttemps\",\"logoutAmount\",\"avgLoginLogout\"])\n",
    "df_users[\"userId\"] = users_id\n",
    "df_users[\"usedIpAmount\"] = usersdIpAmount.values\n",
    "df_users[\"failedAttemps\"] = failedAttemps.values()\n",
    "df_users[\"successAttemps\"] = successAttemps.values()\n",
    "df_users[\"logoutAmount\"] = logoutAmount.values()\n",
    "df_users[\"avgLoginLogout\"] = avgLoginLogout.values()\n",
    "df_users[\"avgTimeBtwLoginErr\"] = avgTimeBtwLoginErr.values()\n",
    "\n",
    "df_users"
   ]
  },
  {
   "cell_type": "code",
   "execution_count": 117,
   "id": "602b7bb4",
   "metadata": {},
   "outputs": [
    {
     "data": {
      "text/plain": [
       "count    1.808000e+04\n",
       "mean     6.491139e+08\n",
       "std      2.027872e+09\n",
       "min      0.000000e+00\n",
       "25%      0.000000e+00\n",
       "50%      1.043180e+05\n",
       "75%      6.120628e+08\n",
       "max      4.785448e+10\n",
       "Name: avgTimeBtwLoginErr, dtype: float64"
      ]
     },
     "execution_count": 117,
     "metadata": {},
     "output_type": "execute_result"
    }
   ],
   "source": [
    "df_users[\"avgTimeBtwLoginErr\"].describe()"
   ]
  },
  {
   "cell_type": "markdown",
   "id": "2512b0c9",
   "metadata": {},
   "source": [
    "#### Plotting"
   ]
  },
  {
   "cell_type": "code",
   "execution_count": 118,
   "id": "d2b32291",
   "metadata": {},
   "outputs": [
    {
     "data": {
      "image/png": "[encoded data removed]",
      "text/plain": [
       "<Figure size 432x288 with 1 Axes>"
      ]
     },
     "metadata": {
      "needs_background": "light"
     },
     "output_type": "display_data"
    }
   ],
   "source": [
    "df_users.plot(x = 'avgTimeBtwLoginErr', y = 'failedAttemps', kind = 'scatter')\n",
    "plt.show()"
   ]
  },
  {
   "cell_type": "markdown",
   "id": "f5aa43d0",
   "metadata": {},
   "source": [
    "When the number of login errors increases the average time interval between two consecutive login attempts narrows"
   ]
  },
  {
   "cell_type": "code",
   "execution_count": 119,
   "id": "a5568c96",
   "metadata": {},
   "outputs": [
    {
     "data": {
      "image/png": "[encoded data removed]",
      "text/plain": [
       "<Figure size 432x288 with 1 Axes>"
      ]
     },
     "metadata": {
      "needs_background": "light"
     },
     "output_type": "display_data"
    },
    {
     "data": {
      "image/png": "[encoded data removed]",
      "text/plain": [
       "<Figure size 432x288 with 1 Axes>"
      ]
     },
     "metadata": {
      "needs_background": "light"
     },
     "output_type": "display_data"
    }
   ],
   "source": [
    "#amount of used IP addresses and success log in attempts\n",
    "df_users.plot(x = 'usedIpAmount', y = 'successAttemps', kind = 'scatter')\n",
    "plt.ylim(0,2000)\n",
    "plt.show()\n",
    "#amount of used IP addresses and failure login attempts\n",
    "df_users.plot(x = 'usedIpAmount', y = 'failedAttemps', kind = 'scatter')\n",
    "plt.show()"
   ]
  },
  {
   "cell_type": "markdown",
   "id": "a4b52d69",
   "metadata": {},
   "source": [
    "From the graphs above we can deduce that for a low amount of used IP it is most likely that a user will carry out the login attempt successfully. Thus, if a user attempts to log in using different a different IP seriese can be considered suspicious."
   ]
  },
  {
   "cell_type": "code",
   "execution_count": 133,
   "id": "d1c59981",
   "metadata": {},
   "outputs": [
    {
     "data": {
      "image/png": "[encoded data removed]",
      "text/plain": [
       "<Figure size 432x288 with 1 Axes>"
      ]
     },
     "metadata": {
      "needs_background": "light"
     },
     "output_type": "display_data"
    },
    {
     "data": {
      "image/png": "[encoded data removed]",
      "text/plain": [
       "<Figure size 432x288 with 1 Axes>"
      ]
     },
     "metadata": {
      "needs_background": "light"
     },
     "output_type": "display_data"
    }
   ],
   "source": [
    "df_users.plot(x = 'failedAttemps', y = 'successAttemps', kind = 'scatter')\n",
    "plt.ylim(0,2000)\n",
    "plt.show()\n",
    "\n",
    "df_users.plot(x = 'failedAttemps', y = 'successAttemps', kind = 'scatter')\n",
    "plt.ylim(0,2000)\n",
    "plt.xlim(60,130)\n",
    "plt.show()"
   ]
  },
  {
   "cell_type": "markdown",
   "id": "0feabbc5",
   "metadata": {},
   "source": [
    "Relying on the graph we can observe the presence of users who have mainly performed log-in attempts erroneously."
   ]
  },
  {
   "cell_type": "code",
   "execution_count": 130,
   "id": "67eb6953",
   "metadata": {},
   "outputs": [
    {
     "data": {
      "image/png": "[encoded data removed]",
      "text/plain": [
       "<Figure size 432x288 with 1 Axes>"
      ]
     },
     "metadata": {
      "needs_background": "light"
     },
     "output_type": "display_data"
    }
   ],
   "source": [
    "df_users.plot(x = 'userId', y = 'failedAttemps', kind = 'scatter')\n",
    "plt.show()"
   ]
  },
  {
   "cell_type": "markdown",
   "id": "11a52842",
   "metadata": {},
   "source": [
    "Here, looking at the graph, we can deduce the presence of users being much further from the average of log-in failed attempts."
   ]
  },
  {
   "cell_type": "markdown",
   "id": "e2f27ffd",
   "metadata": {},
   "source": [
    "## Clustering"
   ]
  },
  {
   "cell_type": "markdown",
   "id": "64e5748d",
   "metadata": {},
   "source": [
    "<p>We take an unsupervised approach to find outliers according to the analysis carried out so far. \n",
    "Thanks to the two dataframes built up, <span style=\"text-decoration: underline;\">we will be looking for outliers for both: log-in attempts and users.</span> </p>"
   ]
  },
  {
   "cell_type": "code",
   "execution_count": 122,
   "id": "e0183a71",
   "metadata": {},
   "outputs": [
    {
     "name": "stdout",
     "output_type": "stream",
     "text": [
      "<pandas.core.groupby.generic.SeriesGroupBy object at 0x7ffc15c86b50>\n"
     ]
    }
   ],
   "source": [
    "print(df_groupbyUserId[\"userId\"])"
   ]
  },
  {
   "cell_type": "code",
   "execution_count": null,
   "id": "f6cb7609",
   "metadata": {},
   "outputs": [],
   "source": []
  },
  {
   "cell_type": "code",
   "execution_count": null,
   "id": "c9c5d34c",
   "metadata": {},
   "outputs": [],
   "source": []
  },
  {
   "cell_type": "markdown",
   "id": "68fe8513",
   "metadata": {},
   "source": [
    "### Log-in attempts"
   ]
  },
  {
   "cell_type": "markdown",
   "id": "15094a75",
   "metadata": {},
   "source": [
    "### Users"
   ]
  }
 ],
 "metadata": {
  "kernelspec": {
   "display_name": "Python 3",
   "language": "python",
   "name": "python3"
  },
  "language_info": {
   "codemirror_mode": {
    "name": "ipython",
    "version": 3
   },
   "file_extension": ".py",
   "mimetype": "text/x-python",
   "name": "python",
   "nbconvert_exporter": "python",
   "pygments_lexer": "ipython3",
   "version": "3.8.8"
  }
 },
 "nbformat": 4,
 "nbformat_minor": 5
}
