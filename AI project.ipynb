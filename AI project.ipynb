{
 "cells": [
  {
   "cell_type": "code",
   "execution_count": 1,
   "id": "928fee71",
   "metadata": {},
   "outputs": [],
   "source": [
    "import pandas as pd\n",
    "import matplotlib.pyplot as plt\n",
    "\n",
    "UNKNOWN = 'unknown'"
   ]
  },
  {
   "cell_type": "code",
   "execution_count": 2,
   "id": "2be87900",
   "metadata": {},
   "outputs": [],
   "source": [
    "# Read in the data from the CSV file into a a dataframe \n",
    "df = pd.read_csv('coded_log.csv', sep=\";\",names=['userId', '1?', 'date','eventType','application','2?','ip','3?','4?','5?'])"
   ]
  },
  {
   "cell_type": "code",
   "execution_count": 3,
   "id": "c45d6d9c",
   "metadata": {},
   "outputs": [
    {
     "data": {
      "text/html": [
       "<div>\n",
       "<style scoped>\n",
       "    .dataframe tbody tr th:only-of-type {\n",
       "        vertical-align: middle;\n",
       "    }\n",
       "\n",
       "    .dataframe tbody tr th {\n",
       "        vertical-align: top;\n",
       "    }\n",
       "\n",
       "    .dataframe thead th {\n",
       "        text-align: right;\n",
       "    }\n",
       "</style>\n",
       "<table border=\"1\" class=\"dataframe\">\n",
       "  <thead>\n",
       "    <tr style=\"text-align: right;\">\n",
       "      <th></th>\n",
       "      <th>userId</th>\n",
       "      <th>1?</th>\n",
       "      <th>date</th>\n",
       "      <th>eventType</th>\n",
       "      <th>application</th>\n",
       "      <th>2?</th>\n",
       "      <th>ip</th>\n",
       "      <th>3?</th>\n",
       "      <th>4?</th>\n",
       "      <th>5?</th>\n",
       "    </tr>\n",
       "  </thead>\n",
       "  <tbody>\n",
       "    <tr>\n",
       "      <th>0</th>\n",
       "      <td>1</td>\n",
       "      <td>10036</td>\n",
       "      <td>2021-05-11 18:48:34.000</td>\n",
       "      <td>1</td>\n",
       "      <td>HRW</td>\n",
       "      <td>NaN</td>\n",
       "      <td>NaN</td>\n",
       "      <td>xxx</td>\n",
       "      <td></td>\n",
       "      <td>o8zeb75bwa</td>\n",
       "    </tr>\n",
       "    <tr>\n",
       "      <th>1</th>\n",
       "      <td>1</td>\n",
       "      <td>64429</td>\n",
       "      <td>2021-04-17 12:04:05.000</td>\n",
       "      <td>1</td>\n",
       "      <td>HRW</td>\n",
       "      <td>NaN</td>\n",
       "      <td>NaN</td>\n",
       "      <td>xxx</td>\n",
       "      <td></td>\n",
       "      <td>gud00usqus</td>\n",
       "    </tr>\n",
       "    <tr>\n",
       "      <th>2</th>\n",
       "      <td>1</td>\n",
       "      <td>78248</td>\n",
       "      <td>2021-05-16 00:04:05.000</td>\n",
       "      <td>1</td>\n",
       "      <td>HRW</td>\n",
       "      <td>NaN</td>\n",
       "      <td>NaN</td>\n",
       "      <td>xxx</td>\n",
       "      <td></td>\n",
       "      <td>dl5ncrxi13</td>\n",
       "    </tr>\n",
       "    <tr>\n",
       "      <th>3</th>\n",
       "      <td>1</td>\n",
       "      <td>148583</td>\n",
       "      <td>2021-06-19 21:32:23.000</td>\n",
       "      <td>1</td>\n",
       "      <td>HRW</td>\n",
       "      <td>NaN</td>\n",
       "      <td>NaN</td>\n",
       "      <td>xxx</td>\n",
       "      <td></td>\n",
       "      <td>j9m8itiaka</td>\n",
       "    </tr>\n",
       "    <tr>\n",
       "      <th>4</th>\n",
       "      <td>1</td>\n",
       "      <td>180593</td>\n",
       "      <td>2021-03-29 15:03:36.000</td>\n",
       "      <td>1</td>\n",
       "      <td>HRW</td>\n",
       "      <td>NaN</td>\n",
       "      <td>NaN</td>\n",
       "      <td>xxx</td>\n",
       "      <td></td>\n",
       "      <td>r3649bgcxn</td>\n",
       "    </tr>\n",
       "    <tr>\n",
       "      <th>5</th>\n",
       "      <td>1</td>\n",
       "      <td>436612</td>\n",
       "      <td>2021-03-23 15:04:01.000</td>\n",
       "      <td>1</td>\n",
       "      <td>HRW</td>\n",
       "      <td>NaN</td>\n",
       "      <td>NaN</td>\n",
       "      <td>xxx</td>\n",
       "      <td></td>\n",
       "      <td>q2xposd8fx</td>\n",
       "    </tr>\n",
       "    <tr>\n",
       "      <th>6</th>\n",
       "      <td>1</td>\n",
       "      <td>478900</td>\n",
       "      <td>2021-04-30 08:34:03.000</td>\n",
       "      <td>1</td>\n",
       "      <td>HRW</td>\n",
       "      <td>NaN</td>\n",
       "      <td>NaN</td>\n",
       "      <td>xxx</td>\n",
       "      <td></td>\n",
       "      <td>squqm84joa</td>\n",
       "    </tr>\n",
       "    <tr>\n",
       "      <th>7</th>\n",
       "      <td>1</td>\n",
       "      <td>562910</td>\n",
       "      <td>2021-06-25 08:01:30.000</td>\n",
       "      <td>1</td>\n",
       "      <td>HRW</td>\n",
       "      <td>NaN</td>\n",
       "      <td>NaN</td>\n",
       "      <td>xxx</td>\n",
       "      <td></td>\n",
       "      <td>cx4iagls3j</td>\n",
       "    </tr>\n",
       "    <tr>\n",
       "      <th>8</th>\n",
       "      <td>1</td>\n",
       "      <td>563290</td>\n",
       "      <td>2021-06-02 10:46:15.000</td>\n",
       "      <td>1</td>\n",
       "      <td>HRW</td>\n",
       "      <td>NaN</td>\n",
       "      <td>NaN</td>\n",
       "      <td>xxx</td>\n",
       "      <td></td>\n",
       "      <td>ow1gzqachr</td>\n",
       "    </tr>\n",
       "    <tr>\n",
       "      <th>9</th>\n",
       "      <td>1</td>\n",
       "      <td>613000</td>\n",
       "      <td>2021-05-17 20:20:27.000</td>\n",
       "      <td>1</td>\n",
       "      <td>HRW</td>\n",
       "      <td>NaN</td>\n",
       "      <td>NaN</td>\n",
       "      <td>xxx</td>\n",
       "      <td></td>\n",
       "      <td>zj66xzdnj6</td>\n",
       "    </tr>\n",
       "  </tbody>\n",
       "</table>\n",
       "</div>"
      ],
      "text/plain": [
       "   userId      1?                     date  eventType application   2?   ip  \\\n",
       "0       1   10036  2021-05-11 18:48:34.000          1         HRW  NaN  NaN   \n",
       "1       1   64429  2021-04-17 12:04:05.000          1         HRW  NaN  NaN   \n",
       "2       1   78248  2021-05-16 00:04:05.000          1         HRW  NaN  NaN   \n",
       "3       1  148583  2021-06-19 21:32:23.000          1         HRW  NaN  NaN   \n",
       "4       1  180593  2021-03-29 15:03:36.000          1         HRW  NaN  NaN   \n",
       "5       1  436612  2021-03-23 15:04:01.000          1         HRW  NaN  NaN   \n",
       "6       1  478900  2021-04-30 08:34:03.000          1         HRW  NaN  NaN   \n",
       "7       1  562910  2021-06-25 08:01:30.000          1         HRW  NaN  NaN   \n",
       "8       1  563290  2021-06-02 10:46:15.000          1         HRW  NaN  NaN   \n",
       "9       1  613000  2021-05-17 20:20:27.000          1         HRW  NaN  NaN   \n",
       "\n",
       "           3?          4?          5?  \n",
       "0  xxx                     o8zeb75bwa  \n",
       "1  xxx                     gud00usqus  \n",
       "2  xxx                     dl5ncrxi13  \n",
       "3  xxx                     j9m8itiaka  \n",
       "4  xxx                     r3649bgcxn  \n",
       "5  xxx                     q2xposd8fx  \n",
       "6  xxx                     squqm84joa  \n",
       "7  xxx                     cx4iagls3j  \n",
       "8  xxx                     ow1gzqachr  \n",
       "9  xxx                     zj66xzdnj6  "
      ]
     },
     "execution_count": 3,
     "metadata": {},
     "output_type": "execute_result"
    }
   ],
   "source": [
    "# Visualize a snippet of the data frame df\n",
    "df.head(10)"
   ]
  },
  {
   "cell_type": "code",
   "execution_count": 4,
   "id": "26f1adeb",
   "metadata": {},
   "outputs": [
    {
     "data": {
      "text/html": [
       "<div>\n",
       "<style scoped>\n",
       "    .dataframe tbody tr th:only-of-type {\n",
       "        vertical-align: middle;\n",
       "    }\n",
       "\n",
       "    .dataframe tbody tr th {\n",
       "        vertical-align: top;\n",
       "    }\n",
       "\n",
       "    .dataframe thead th {\n",
       "        text-align: right;\n",
       "    }\n",
       "</style>\n",
       "<table border=\"1\" class=\"dataframe\">\n",
       "  <thead>\n",
       "    <tr style=\"text-align: right;\">\n",
       "      <th></th>\n",
       "      <th>userId</th>\n",
       "      <th>date</th>\n",
       "      <th>eventType</th>\n",
       "      <th>application</th>\n",
       "      <th>ip</th>\n",
       "    </tr>\n",
       "  </thead>\n",
       "  <tbody>\n",
       "    <tr>\n",
       "      <th>0</th>\n",
       "      <td>1</td>\n",
       "      <td>2021-05-11 18:48:34.000</td>\n",
       "      <td>1</td>\n",
       "      <td>HRW</td>\n",
       "      <td>NaN</td>\n",
       "    </tr>\n",
       "    <tr>\n",
       "      <th>1</th>\n",
       "      <td>1</td>\n",
       "      <td>2021-04-17 12:04:05.000</td>\n",
       "      <td>1</td>\n",
       "      <td>HRW</td>\n",
       "      <td>NaN</td>\n",
       "    </tr>\n",
       "    <tr>\n",
       "      <th>2</th>\n",
       "      <td>1</td>\n",
       "      <td>2021-05-16 00:04:05.000</td>\n",
       "      <td>1</td>\n",
       "      <td>HRW</td>\n",
       "      <td>NaN</td>\n",
       "    </tr>\n",
       "    <tr>\n",
       "      <th>3</th>\n",
       "      <td>1</td>\n",
       "      <td>2021-06-19 21:32:23.000</td>\n",
       "      <td>1</td>\n",
       "      <td>HRW</td>\n",
       "      <td>NaN</td>\n",
       "    </tr>\n",
       "    <tr>\n",
       "      <th>4</th>\n",
       "      <td>1</td>\n",
       "      <td>2021-03-29 15:03:36.000</td>\n",
       "      <td>1</td>\n",
       "      <td>HRW</td>\n",
       "      <td>NaN</td>\n",
       "    </tr>\n",
       "    <tr>\n",
       "      <th>5</th>\n",
       "      <td>1</td>\n",
       "      <td>2021-03-23 15:04:01.000</td>\n",
       "      <td>1</td>\n",
       "      <td>HRW</td>\n",
       "      <td>NaN</td>\n",
       "    </tr>\n",
       "    <tr>\n",
       "      <th>6</th>\n",
       "      <td>1</td>\n",
       "      <td>2021-04-30 08:34:03.000</td>\n",
       "      <td>1</td>\n",
       "      <td>HRW</td>\n",
       "      <td>NaN</td>\n",
       "    </tr>\n",
       "    <tr>\n",
       "      <th>7</th>\n",
       "      <td>1</td>\n",
       "      <td>2021-06-25 08:01:30.000</td>\n",
       "      <td>1</td>\n",
       "      <td>HRW</td>\n",
       "      <td>NaN</td>\n",
       "    </tr>\n",
       "    <tr>\n",
       "      <th>8</th>\n",
       "      <td>1</td>\n",
       "      <td>2021-06-02 10:46:15.000</td>\n",
       "      <td>1</td>\n",
       "      <td>HRW</td>\n",
       "      <td>NaN</td>\n",
       "    </tr>\n",
       "    <tr>\n",
       "      <th>9</th>\n",
       "      <td>1</td>\n",
       "      <td>2021-05-17 20:20:27.000</td>\n",
       "      <td>1</td>\n",
       "      <td>HRW</td>\n",
       "      <td>NaN</td>\n",
       "    </tr>\n",
       "  </tbody>\n",
       "</table>\n",
       "</div>"
      ],
      "text/plain": [
       "   userId                     date  eventType application   ip\n",
       "0       1  2021-05-11 18:48:34.000          1         HRW  NaN\n",
       "1       1  2021-04-17 12:04:05.000          1         HRW  NaN\n",
       "2       1  2021-05-16 00:04:05.000          1         HRW  NaN\n",
       "3       1  2021-06-19 21:32:23.000          1         HRW  NaN\n",
       "4       1  2021-03-29 15:03:36.000          1         HRW  NaN\n",
       "5       1  2021-03-23 15:04:01.000          1         HRW  NaN\n",
       "6       1  2021-04-30 08:34:03.000          1         HRW  NaN\n",
       "7       1  2021-06-25 08:01:30.000          1         HRW  NaN\n",
       "8       1  2021-06-02 10:46:15.000          1         HRW  NaN\n",
       "9       1  2021-05-17 20:20:27.000          1         HRW  NaN"
      ]
     },
     "execution_count": 4,
     "metadata": {},
     "output_type": "execute_result"
    }
   ],
   "source": [
    "#remove unkown coloums\n",
    "df_ = df.drop(columns=['1?','2?','3?','4?','5?'])\n",
    "\n",
    "df_.head(10)"
   ]
  },
  {
   "cell_type": "code",
   "execution_count": 5,
   "id": "defef2d9",
   "metadata": {},
   "outputs": [
    {
     "name": "stdout",
     "output_type": "stream",
     "text": [
      "number of null entries:\n"
     ]
    },
    {
     "data": {
      "text/plain": [
       "userId              0\n",
       "date                0\n",
       "eventType           0\n",
       "application         0\n",
       "ip             339741\n",
       "dtype: int64"
      ]
     },
     "execution_count": 5,
     "metadata": {},
     "output_type": "execute_result"
    }
   ],
   "source": [
    "#cleaning row data\n",
    "\n",
    "print('number of null entries:')\n",
    "df_.isnull().sum()"
   ]
  },
  {
   "cell_type": "code",
   "execution_count": 6,
   "id": "f6e893ff",
   "metadata": {},
   "outputs": [
    {
     "data": {
      "text/html": [
       "<div>\n",
       "<style scoped>\n",
       "    .dataframe tbody tr th:only-of-type {\n",
       "        vertical-align: middle;\n",
       "    }\n",
       "\n",
       "    .dataframe tbody tr th {\n",
       "        vertical-align: top;\n",
       "    }\n",
       "\n",
       "    .dataframe thead th {\n",
       "        text-align: right;\n",
       "    }\n",
       "</style>\n",
       "<table border=\"1\" class=\"dataframe\">\n",
       "  <thead>\n",
       "    <tr style=\"text-align: right;\">\n",
       "      <th></th>\n",
       "      <th>userId</th>\n",
       "      <th>date</th>\n",
       "      <th>eventType</th>\n",
       "      <th>application</th>\n",
       "      <th>ip</th>\n",
       "    </tr>\n",
       "  </thead>\n",
       "  <tbody>\n",
       "    <tr>\n",
       "      <th>0</th>\n",
       "      <td>1</td>\n",
       "      <td>2021-05-11 18:48:34.000</td>\n",
       "      <td>1</td>\n",
       "      <td>HRW</td>\n",
       "      <td>unknown</td>\n",
       "    </tr>\n",
       "    <tr>\n",
       "      <th>1</th>\n",
       "      <td>1</td>\n",
       "      <td>2021-04-17 12:04:05.000</td>\n",
       "      <td>1</td>\n",
       "      <td>HRW</td>\n",
       "      <td>unknown</td>\n",
       "    </tr>\n",
       "    <tr>\n",
       "      <th>2</th>\n",
       "      <td>1</td>\n",
       "      <td>2021-05-16 00:04:05.000</td>\n",
       "      <td>1</td>\n",
       "      <td>HRW</td>\n",
       "      <td>unknown</td>\n",
       "    </tr>\n",
       "    <tr>\n",
       "      <th>3</th>\n",
       "      <td>1</td>\n",
       "      <td>2021-06-19 21:32:23.000</td>\n",
       "      <td>1</td>\n",
       "      <td>HRW</td>\n",
       "      <td>unknown</td>\n",
       "    </tr>\n",
       "    <tr>\n",
       "      <th>4</th>\n",
       "      <td>1</td>\n",
       "      <td>2021-03-29 15:03:36.000</td>\n",
       "      <td>1</td>\n",
       "      <td>HRW</td>\n",
       "      <td>unknown</td>\n",
       "    </tr>\n",
       "    <tr>\n",
       "      <th>5</th>\n",
       "      <td>1</td>\n",
       "      <td>2021-03-23 15:04:01.000</td>\n",
       "      <td>1</td>\n",
       "      <td>HRW</td>\n",
       "      <td>unknown</td>\n",
       "    </tr>\n",
       "    <tr>\n",
       "      <th>6</th>\n",
       "      <td>1</td>\n",
       "      <td>2021-04-30 08:34:03.000</td>\n",
       "      <td>1</td>\n",
       "      <td>HRW</td>\n",
       "      <td>unknown</td>\n",
       "    </tr>\n",
       "    <tr>\n",
       "      <th>7</th>\n",
       "      <td>1</td>\n",
       "      <td>2021-06-25 08:01:30.000</td>\n",
       "      <td>1</td>\n",
       "      <td>HRW</td>\n",
       "      <td>unknown</td>\n",
       "    </tr>\n",
       "    <tr>\n",
       "      <th>8</th>\n",
       "      <td>1</td>\n",
       "      <td>2021-06-02 10:46:15.000</td>\n",
       "      <td>1</td>\n",
       "      <td>HRW</td>\n",
       "      <td>unknown</td>\n",
       "    </tr>\n",
       "    <tr>\n",
       "      <th>9</th>\n",
       "      <td>1</td>\n",
       "      <td>2021-05-17 20:20:27.000</td>\n",
       "      <td>1</td>\n",
       "      <td>HRW</td>\n",
       "      <td>unknown</td>\n",
       "    </tr>\n",
       "  </tbody>\n",
       "</table>\n",
       "</div>"
      ],
      "text/plain": [
       "   userId                     date  eventType application       ip\n",
       "0       1  2021-05-11 18:48:34.000          1         HRW  unknown\n",
       "1       1  2021-04-17 12:04:05.000          1         HRW  unknown\n",
       "2       1  2021-05-16 00:04:05.000          1         HRW  unknown\n",
       "3       1  2021-06-19 21:32:23.000          1         HRW  unknown\n",
       "4       1  2021-03-29 15:03:36.000          1         HRW  unknown\n",
       "5       1  2021-03-23 15:04:01.000          1         HRW  unknown\n",
       "6       1  2021-04-30 08:34:03.000          1         HRW  unknown\n",
       "7       1  2021-06-25 08:01:30.000          1         HRW  unknown\n",
       "8       1  2021-06-02 10:46:15.000          1         HRW  unknown\n",
       "9       1  2021-05-17 20:20:27.000          1         HRW  unknown"
      ]
     },
     "execution_count": 6,
     "metadata": {},
     "output_type": "execute_result"
    }
   ],
   "source": [
    "df_['ip'].fillna(UNKNOWN,inplace=True)\n",
    "\n",
    "df_.head(10)"
   ]
  },
  {
   "cell_type": "code",
   "execution_count": 7,
   "id": "8fb736c0",
   "metadata": {},
   "outputs": [
    {
     "name": "stdout",
     "output_type": "stream",
     "text": [
      "Duplicates number 3432 on 849552\n",
      "New size:846120\n"
     ]
    },
    {
     "data": {
      "text/html": [
       "<div>\n",
       "<style scoped>\n",
       "    .dataframe tbody tr th:only-of-type {\n",
       "        vertical-align: middle;\n",
       "    }\n",
       "\n",
       "    .dataframe tbody tr th {\n",
       "        vertical-align: top;\n",
       "    }\n",
       "\n",
       "    .dataframe thead th {\n",
       "        text-align: right;\n",
       "    }\n",
       "</style>\n",
       "<table border=\"1\" class=\"dataframe\">\n",
       "  <thead>\n",
       "    <tr style=\"text-align: right;\">\n",
       "      <th></th>\n",
       "      <th>userId</th>\n",
       "      <th>date</th>\n",
       "      <th>eventType</th>\n",
       "      <th>application</th>\n",
       "      <th>ip</th>\n",
       "    </tr>\n",
       "  </thead>\n",
       "  <tbody>\n",
       "    <tr>\n",
       "      <th>627467</th>\n",
       "      <td>25781</td>\n",
       "      <td>2019-11-22 21:14:28</td>\n",
       "      <td>2</td>\n",
       "      <td>ERM</td>\n",
       "      <td>ip_30498</td>\n",
       "    </tr>\n",
       "    <tr>\n",
       "      <th>627466</th>\n",
       "      <td>25781</td>\n",
       "      <td>2019-11-22 21:17:09</td>\n",
       "      <td>2</td>\n",
       "      <td>ERM</td>\n",
       "      <td>ip_30498</td>\n",
       "    </tr>\n",
       "    <tr>\n",
       "      <th>627470</th>\n",
       "      <td>25781</td>\n",
       "      <td>2019-11-22 21:21:38</td>\n",
       "      <td>2</td>\n",
       "      <td>ERM</td>\n",
       "      <td>ip_30498</td>\n",
       "    </tr>\n",
       "    <tr>\n",
       "      <th>643121</th>\n",
       "      <td>26401</td>\n",
       "      <td>2019-11-23 05:40:12</td>\n",
       "      <td>2</td>\n",
       "      <td>ERM</td>\n",
       "      <td>ip_25478</td>\n",
       "    </tr>\n",
       "    <tr>\n",
       "      <th>643129</th>\n",
       "      <td>26401</td>\n",
       "      <td>2019-11-23 06:20:56</td>\n",
       "      <td>1</td>\n",
       "      <td>ERM</td>\n",
       "      <td>ip_25478</td>\n",
       "    </tr>\n",
       "    <tr>\n",
       "      <th>...</th>\n",
       "      <td>...</td>\n",
       "      <td>...</td>\n",
       "      <td>...</td>\n",
       "      <td>...</td>\n",
       "      <td>...</td>\n",
       "    </tr>\n",
       "    <tr>\n",
       "      <th>580741</th>\n",
       "      <td>24203</td>\n",
       "      <td>2021-06-28 16:29:12</td>\n",
       "      <td>2</td>\n",
       "      <td>ERM</td>\n",
       "      <td>ip_1099</td>\n",
       "    </tr>\n",
       "    <tr>\n",
       "      <th>474892</th>\n",
       "      <td>20134</td>\n",
       "      <td>2021-06-28 16:29:13</td>\n",
       "      <td>1</td>\n",
       "      <td>HRW</td>\n",
       "      <td>unknown</td>\n",
       "    </tr>\n",
       "    <tr>\n",
       "      <th>321035</th>\n",
       "      <td>13237</td>\n",
       "      <td>2021-06-28 16:29:16</td>\n",
       "      <td>1</td>\n",
       "      <td>ERM</td>\n",
       "      <td>ip_126</td>\n",
       "    </tr>\n",
       "    <tr>\n",
       "      <th>809559</th>\n",
       "      <td>32639</td>\n",
       "      <td>2021-06-28 16:29:17</td>\n",
       "      <td>1</td>\n",
       "      <td>ERM</td>\n",
       "      <td>ip_42700</td>\n",
       "    </tr>\n",
       "    <tr>\n",
       "      <th>580740</th>\n",
       "      <td>24203</td>\n",
       "      <td>2021-06-28 16:29:31</td>\n",
       "      <td>2</td>\n",
       "      <td>ERM</td>\n",
       "      <td>ip_1099</td>\n",
       "    </tr>\n",
       "  </tbody>\n",
       "</table>\n",
       "<p>846120 rows × 5 columns</p>\n",
       "</div>"
      ],
      "text/plain": [
       "        userId                date  eventType application        ip\n",
       "627467   25781 2019-11-22 21:14:28          2         ERM  ip_30498\n",
       "627466   25781 2019-11-22 21:17:09          2         ERM  ip_30498\n",
       "627470   25781 2019-11-22 21:21:38          2         ERM  ip_30498\n",
       "643121   26401 2019-11-23 05:40:12          2         ERM  ip_25478\n",
       "643129   26401 2019-11-23 06:20:56          1         ERM  ip_25478\n",
       "...        ...                 ...        ...         ...       ...\n",
       "580741   24203 2021-06-28 16:29:12          2         ERM   ip_1099\n",
       "474892   20134 2021-06-28 16:29:13          1         HRW   unknown\n",
       "321035   13237 2021-06-28 16:29:16          1         ERM    ip_126\n",
       "809559   32639 2021-06-28 16:29:17          1         ERM  ip_42700\n",
       "580740   24203 2021-06-28 16:29:31          2         ERM   ip_1099\n",
       "\n",
       "[846120 rows x 5 columns]"
      ]
     },
     "execution_count": 7,
     "metadata": {},
     "output_type": "execute_result"
    }
   ],
   "source": [
    "#DATA CLEANING \n",
    "\n",
    "df_['date'] = pd.to_datetime(df_['date'], format=\"%Y-%m-%d %H:%M:%S.%f\")\n",
    "df_.sort_values(by=\"date\",ascending=True,inplace=True)\n",
    "\n",
    "#check data consistency delete rows containing non-valid event code\n",
    "df_ = df_[(df_.eventType >= 1) & (df_.eventType <= 3)]\n",
    "\n",
    "#check data rendundancy\n",
    "duplicates = df_.duplicated().sum()\n",
    "if(duplicates > 0):\n",
    "    print(f'Duplicates number {duplicates} on {len(df_.index)}')\n",
    "    df_.drop_duplicates(inplace = True)\n",
    "    print(f'New size:{len(df_.index)}')\n",
    "df_"
   ]
  },
  {
   "cell_type": "markdown",
   "id": "ae3d8aa9",
   "metadata": {},
   "source": [
    "<h3>Numerosity reduction</h3>"
   ]
  },
  {
   "cell_type": "code",
   "execution_count": 8,
   "id": "b86f2027",
   "metadata": {},
   "outputs": [
    {
     "data": {
      "text/plain": [
       "18080"
      ]
     },
     "execution_count": 8,
     "metadata": {},
     "output_type": "execute_result"
    }
   ],
   "source": [
    "# counting unique values\n",
    "userIdNumber = len(pd.unique(df_['userId']))\n",
    "userIdNumber"
   ]
  },
  {
   "cell_type": "code",
   "execution_count": 9,
   "id": "dc558c21",
   "metadata": {
    "scrolled": true
   },
   "outputs": [
    {
     "data": {
      "text/html": [
       "<div>\n",
       "<style scoped>\n",
       "    .dataframe tbody tr th:only-of-type {\n",
       "        vertical-align: middle;\n",
       "    }\n",
       "\n",
       "    .dataframe tbody tr th {\n",
       "        vertical-align: top;\n",
       "    }\n",
       "\n",
       "    .dataframe thead th {\n",
       "        text-align: right;\n",
       "    }\n",
       "</style>\n",
       "<table border=\"1\" class=\"dataframe\">\n",
       "  <thead>\n",
       "    <tr style=\"text-align: right;\">\n",
       "      <th></th>\n",
       "      <th>userId</th>\n",
       "      <th>date</th>\n",
       "      <th>eventType</th>\n",
       "      <th>application</th>\n",
       "      <th>ip</th>\n",
       "    </tr>\n",
       "  </thead>\n",
       "  <tbody>\n",
       "    <tr>\n",
       "      <th>9162</th>\n",
       "      <td>1</td>\n",
       "      <td>2021-03-22 20:03:59</td>\n",
       "      <td>1</td>\n",
       "      <td>HRW</td>\n",
       "      <td>unknown</td>\n",
       "    </tr>\n",
       "    <tr>\n",
       "      <th>5482</th>\n",
       "      <td>1</td>\n",
       "      <td>2021-03-22 20:18:59</td>\n",
       "      <td>1</td>\n",
       "      <td>HRW</td>\n",
       "      <td>unknown</td>\n",
       "    </tr>\n",
       "    <tr>\n",
       "      <th>1872</th>\n",
       "      <td>1</td>\n",
       "      <td>2021-03-22 20:33:59</td>\n",
       "      <td>1</td>\n",
       "      <td>HRW</td>\n",
       "      <td>unknown</td>\n",
       "    </tr>\n",
       "    <tr>\n",
       "      <th>8919</th>\n",
       "      <td>1</td>\n",
       "      <td>2021-03-22 20:48:59</td>\n",
       "      <td>1</td>\n",
       "      <td>HRW</td>\n",
       "      <td>unknown</td>\n",
       "    </tr>\n",
       "    <tr>\n",
       "      <th>3704</th>\n",
       "      <td>1</td>\n",
       "      <td>2021-03-22 21:03:59</td>\n",
       "      <td>1</td>\n",
       "      <td>HRW</td>\n",
       "      <td>unknown</td>\n",
       "    </tr>\n",
       "    <tr>\n",
       "      <th>...</th>\n",
       "      <td>...</td>\n",
       "      <td>...</td>\n",
       "      <td>...</td>\n",
       "      <td>...</td>\n",
       "      <td>...</td>\n",
       "    </tr>\n",
       "    <tr>\n",
       "      <th>6216</th>\n",
       "      <td>1</td>\n",
       "      <td>2021-06-28 15:16:25</td>\n",
       "      <td>1</td>\n",
       "      <td>HRW</td>\n",
       "      <td>unknown</td>\n",
       "    </tr>\n",
       "    <tr>\n",
       "      <th>4239</th>\n",
       "      <td>1</td>\n",
       "      <td>2021-06-28 15:31:25</td>\n",
       "      <td>1</td>\n",
       "      <td>HRW</td>\n",
       "      <td>unknown</td>\n",
       "    </tr>\n",
       "    <tr>\n",
       "      <th>2170</th>\n",
       "      <td>1</td>\n",
       "      <td>2021-06-28 15:46:25</td>\n",
       "      <td>1</td>\n",
       "      <td>HRW</td>\n",
       "      <td>unknown</td>\n",
       "    </tr>\n",
       "    <tr>\n",
       "      <th>9069</th>\n",
       "      <td>1</td>\n",
       "      <td>2021-06-28 16:01:25</td>\n",
       "      <td>1</td>\n",
       "      <td>HRW</td>\n",
       "      <td>unknown</td>\n",
       "    </tr>\n",
       "    <tr>\n",
       "      <th>7440</th>\n",
       "      <td>1</td>\n",
       "      <td>2021-06-28 16:16:25</td>\n",
       "      <td>1</td>\n",
       "      <td>HRW</td>\n",
       "      <td>unknown</td>\n",
       "    </tr>\n",
       "  </tbody>\n",
       "</table>\n",
       "<p>9678 rows × 5 columns</p>\n",
       "</div>"
      ],
      "text/plain": [
       "      userId                date  eventType application       ip\n",
       "9162       1 2021-03-22 20:03:59          1         HRW  unknown\n",
       "5482       1 2021-03-22 20:18:59          1         HRW  unknown\n",
       "1872       1 2021-03-22 20:33:59          1         HRW  unknown\n",
       "8919       1 2021-03-22 20:48:59          1         HRW  unknown\n",
       "3704       1 2021-03-22 21:03:59          1         HRW  unknown\n",
       "...      ...                 ...        ...         ...      ...\n",
       "6216       1 2021-06-28 15:16:25          1         HRW  unknown\n",
       "4239       1 2021-06-28 15:31:25          1         HRW  unknown\n",
       "2170       1 2021-06-28 15:46:25          1         HRW  unknown\n",
       "9069       1 2021-06-28 16:01:25          1         HRW  unknown\n",
       "7440       1 2021-06-28 16:16:25          1         HRW  unknown\n",
       "\n",
       "[9678 rows x 5 columns]"
      ]
     },
     "execution_count": 9,
     "metadata": {},
     "output_type": "execute_result"
    }
   ],
   "source": [
    "# Need to reduce the numerosity of userId 1\n",
    "df_user1 = df_[df_.userId == 1]\n",
    "df_user1"
   ]
  },
  {
   "cell_type": "code",
   "execution_count": 10,
   "id": "c3bf09cf",
   "metadata": {},
   "outputs": [
    {
     "data": {
      "text/plain": [
       "eventType\n",
       "1    628356\n",
       "2     92058\n",
       "3    125706\n",
       "Name: eventType, dtype: int64"
      ]
     },
     "execution_count": 10,
     "metadata": {},
     "output_type": "execute_result"
    }
   ],
   "source": [
    "df_.groupby('eventType').eventType.count()"
   ]
  },
  {
   "cell_type": "markdown",
   "id": "e4205ab0",
   "metadata": {},
   "source": [
    "<h3>Login dataframe</h3>"
   ]
  },
  {
   "cell_type": "code",
   "execution_count": 11,
   "id": "f4e4e172",
   "metadata": {},
   "outputs": [],
   "source": [
    "# constants\n",
    "\n",
    "START_WORKING = 8\n",
    "END_WORKING = 19"
   ]
  },
  {
   "cell_type": "code",
   "execution_count": 77,
   "id": "6642be24",
   "metadata": {},
   "outputs": [],
   "source": [
    "# lambda functions\n",
    "\n",
    "isWorkingTime = lambda x: 1 if (x.isoweekday() in range(1,5) and x.to_pydatetime().hour >= START_WORKING and x.to_pydatetime().hour <= END_WORKING) else 0\n",
    "\n",
    "# toDay: convert a stirng representing a date into a number \n",
    "#    1 --> Monday\n",
    "#    2 --> Tuesday\n",
    "#    ...\n",
    "#    7 --> Sunday\n",
    "toDay = lambda x: x.isoweekday() \n"
   ]
  },
  {
   "cell_type": "code",
   "execution_count": 78,
   "id": "94e20eae",
   "metadata": {
    "scrolled": true
   },
   "outputs": [
    {
     "data": {
      "text/html": [
       "<div>\n",
       "<style scoped>\n",
       "    .dataframe tbody tr th:only-of-type {\n",
       "        vertical-align: middle;\n",
       "    }\n",
       "\n",
       "    .dataframe tbody tr th {\n",
       "        vertical-align: top;\n",
       "    }\n",
       "\n",
       "    .dataframe thead th {\n",
       "        text-align: right;\n",
       "    }\n",
       "</style>\n",
       "<table border=\"1\" class=\"dataframe\">\n",
       "  <thead>\n",
       "    <tr style=\"text-align: right;\">\n",
       "      <th></th>\n",
       "      <th>userId</th>\n",
       "      <th>day</th>\n",
       "      <th>workingTime</th>\n",
       "      <th>eventType</th>\n",
       "      <th>application</th>\n",
       "    </tr>\n",
       "  </thead>\n",
       "  <tbody>\n",
       "    <tr>\n",
       "      <th>627467</th>\n",
       "      <td>25781</td>\n",
       "      <td>5</td>\n",
       "      <td>0</td>\n",
       "      <td>2</td>\n",
       "      <td>ERM</td>\n",
       "    </tr>\n",
       "    <tr>\n",
       "      <th>627466</th>\n",
       "      <td>25781</td>\n",
       "      <td>5</td>\n",
       "      <td>0</td>\n",
       "      <td>2</td>\n",
       "      <td>ERM</td>\n",
       "    </tr>\n",
       "    <tr>\n",
       "      <th>627470</th>\n",
       "      <td>25781</td>\n",
       "      <td>5</td>\n",
       "      <td>0</td>\n",
       "      <td>2</td>\n",
       "      <td>ERM</td>\n",
       "    </tr>\n",
       "    <tr>\n",
       "      <th>643121</th>\n",
       "      <td>26401</td>\n",
       "      <td>6</td>\n",
       "      <td>0</td>\n",
       "      <td>2</td>\n",
       "      <td>ERM</td>\n",
       "    </tr>\n",
       "    <tr>\n",
       "      <th>643129</th>\n",
       "      <td>26401</td>\n",
       "      <td>6</td>\n",
       "      <td>0</td>\n",
       "      <td>1</td>\n",
       "      <td>ERM</td>\n",
       "    </tr>\n",
       "    <tr>\n",
       "      <th>...</th>\n",
       "      <td>...</td>\n",
       "      <td>...</td>\n",
       "      <td>...</td>\n",
       "      <td>...</td>\n",
       "      <td>...</td>\n",
       "    </tr>\n",
       "    <tr>\n",
       "      <th>580741</th>\n",
       "      <td>24203</td>\n",
       "      <td>1</td>\n",
       "      <td>1</td>\n",
       "      <td>2</td>\n",
       "      <td>ERM</td>\n",
       "    </tr>\n",
       "    <tr>\n",
       "      <th>474892</th>\n",
       "      <td>20134</td>\n",
       "      <td>1</td>\n",
       "      <td>1</td>\n",
       "      <td>1</td>\n",
       "      <td>HRW</td>\n",
       "    </tr>\n",
       "    <tr>\n",
       "      <th>321035</th>\n",
       "      <td>13237</td>\n",
       "      <td>1</td>\n",
       "      <td>1</td>\n",
       "      <td>1</td>\n",
       "      <td>ERM</td>\n",
       "    </tr>\n",
       "    <tr>\n",
       "      <th>809559</th>\n",
       "      <td>32639</td>\n",
       "      <td>1</td>\n",
       "      <td>1</td>\n",
       "      <td>1</td>\n",
       "      <td>ERM</td>\n",
       "    </tr>\n",
       "    <tr>\n",
       "      <th>580740</th>\n",
       "      <td>24203</td>\n",
       "      <td>1</td>\n",
       "      <td>1</td>\n",
       "      <td>2</td>\n",
       "      <td>ERM</td>\n",
       "    </tr>\n",
       "  </tbody>\n",
       "</table>\n",
       "<p>846120 rows × 5 columns</p>\n",
       "</div>"
      ],
      "text/plain": [
       "        userId  day  workingTime  eventType application\n",
       "627467   25781    5            0          2         ERM\n",
       "627466   25781    5            0          2         ERM\n",
       "627470   25781    5            0          2         ERM\n",
       "643121   26401    6            0          2         ERM\n",
       "643129   26401    6            0          1         ERM\n",
       "...        ...  ...          ...        ...         ...\n",
       "580741   24203    1            1          2         ERM\n",
       "474892   20134    1            1          1         HRW\n",
       "321035   13237    1            1          1         ERM\n",
       "809559   32639    1            1          1         ERM\n",
       "580740   24203    1            1          2         ERM\n",
       "\n",
       "[846120 rows x 5 columns]"
      ]
     },
     "execution_count": 78,
     "metadata": {},
     "output_type": "execute_result"
    }
   ],
   "source": [
    "#setting up the 1st datase\n",
    "df_logins = pd.DataFrame(columns=['userId', 'date', 'day', 'workingTime', 'eventType', 'application'])\n",
    "df_logins['userId'] = df_['userId']\n",
    "df_logins['date'] = df_[\"date\"]\n",
    "df_logins['day'] = df_logins['date'].apply(toDay)\n",
    "df_logins['workingTime'] = df_logins['date'].apply(isWorkingTime)\n",
    "df_logins['eventType'] = df_['eventType']\n",
    "df_logins['application'] = df_['application']\n",
    "\n",
    "df_logins.drop(columns=['date'], inplace=True)\n",
    "df_logins"
   ]
  },
  {
   "cell_type": "code",
   "execution_count": 14,
   "id": "b42283f5",
   "metadata": {},
   "outputs": [
    {
     "data": {
      "text/plain": [
       "day\n",
       "1    177305\n",
       "2    160928\n",
       "3    147704\n",
       "4    160551\n",
       "5    154631\n",
       "6     25318\n",
       "7     19683\n",
       "Name: day, dtype: int64"
      ]
     },
     "execution_count": 14,
     "metadata": {},
     "output_type": "execute_result"
    }
   ],
   "source": [
    "df_logins.groupby('day').day.count()"
   ]
  },
  {
   "cell_type": "code",
   "execution_count": 15,
   "id": "a308e0fa",
   "metadata": {},
   "outputs": [
    {
     "data": {
      "image/png": "[encoded data removed]",
      "text/plain": [
       "<Figure size 432x288 with 1 Axes>"
      ]
     },
     "metadata": {
      "needs_background": "light"
     },
     "output_type": "display_data"
    }
   ],
   "source": [
    "# number of event per day\n",
    "df_logins['day'].plot.hist()\n",
    "plt.show()"
   ]
  },
  {
   "cell_type": "code",
   "execution_count": 79,
   "id": "a6406d35",
   "metadata": {},
   "outputs": [
    {
     "data": {
      "image/png": "[encoded data removed]",
      "text/plain": [
       "<Figure size 432x288 with 1 Axes>"
      ]
     },
     "metadata": {
      "needs_background": "light"
     },
     "output_type": "display_data"
    }
   ],
   "source": [
    "df_logins[''].plot.hist()\n",
    "plt.show()"
   ]
  },
  {
   "cell_type": "code",
   "execution_count": 80,
   "id": "1abb2ba0",
   "metadata": {},
   "outputs": [
    {
     "data": {
      "image/png": "[encoded data removed]",
      "text/plain": [
       "<Figure size 432x288 with 1 Axes>"
      ]
     },
     "metadata": {
      "needs_background": "light"
     },
     "output_type": "display_data"
    }
   ],
   "source": [
    "df_logins.plot(x = 'workingTime', y = 'day', kind = 'scatter')\n",
    "plt.show()"
   ]
  },
  {
   "cell_type": "markdown",
   "id": "195a89f0",
   "metadata": {},
   "source": [
    "Tutti i log da venerdì a domenica non sono in orario lavorativo"
   ]
  },
  {
   "cell_type": "code",
   "execution_count": 81,
   "id": "db66ceb0",
   "metadata": {},
   "outputs": [
    {
     "data": {
      "image/png": "[encoded data removed]",
      "text/plain": [
       "<Figure size 432x288 with 1 Axes>"
      ]
     },
     "metadata": {
      "needs_background": "light"
     },
     "output_type": "display_data"
    }
   ],
   "source": [
    "df_logins.plot(x = 'workingTime', y = 'eventType', kind = 'scatter')\n",
    "plt.show()"
   ]
  },
  {
   "cell_type": "code",
   "execution_count": 85,
   "id": "453b353e",
   "metadata": {},
   "outputs": [],
   "source": [
    "# group by the userId\n",
    "df_groupbyUserId = df_.groupby('userId')"
   ]
  },
  {
   "cell_type": "code",
   "execution_count": 86,
   "id": "01f24589",
   "metadata": {},
   "outputs": [
    {
     "data": {
      "text/html": [
       "<div>\n",
       "<style scoped>\n",
       "    .dataframe tbody tr th:only-of-type {\n",
       "        vertical-align: middle;\n",
       "    }\n",
       "\n",
       "    .dataframe tbody tr th {\n",
       "        vertical-align: top;\n",
       "    }\n",
       "\n",
       "    .dataframe thead th {\n",
       "        text-align: right;\n",
       "    }\n",
       "</style>\n",
       "<table border=\"1\" class=\"dataframe\">\n",
       "  <thead>\n",
       "    <tr style=\"text-align: right;\">\n",
       "      <th></th>\n",
       "      <th>userId</th>\n",
       "      <th>date</th>\n",
       "      <th>eventType</th>\n",
       "      <th>application</th>\n",
       "      <th>ip</th>\n",
       "    </tr>\n",
       "  </thead>\n",
       "  <tbody>\n",
       "    <tr>\n",
       "      <th>9680</th>\n",
       "      <td>10</td>\n",
       "      <td>2020-06-15 14:19:45</td>\n",
       "      <td>2</td>\n",
       "      <td>ERM</td>\n",
       "      <td>ip_2</td>\n",
       "    </tr>\n",
       "    <tr>\n",
       "      <th>9681</th>\n",
       "      <td>10</td>\n",
       "      <td>2020-11-04 10:56:10</td>\n",
       "      <td>2</td>\n",
       "      <td>ERM</td>\n",
       "      <td>ip_3</td>\n",
       "    </tr>\n",
       "  </tbody>\n",
       "</table>\n",
       "</div>"
      ],
      "text/plain": [
       "      userId                date  eventType application    ip\n",
       "9680      10 2020-06-15 14:19:45          2         ERM  ip_2\n",
       "9681      10 2020-11-04 10:56:10          2         ERM  ip_3"
      ]
     },
     "execution_count": 86,
     "metadata": {},
     "output_type": "execute_result"
    }
   ],
   "source": [
    "df_groupbyUserId.get_group(10)"
   ]
  },
  {
   "cell_type": "code",
   "execution_count": null,
   "id": "a518dce5",
   "metadata": {},
   "outputs": [],
   "source": [
    "users_id = []\n",
    "for key, value in df_groupbyUserId:\n",
    "    users_id.append(key)\n",
    "\n",
    "# user_id - value \n",
    "usersdIpAmount = df_groupbyUserId[\"ip\"].nunique()\n",
    "\n",
    "# user_id - value\n",
    "failedAttemps = {}\n",
    "successAttemps = {}\n",
    "logoutAmount = {}\n",
    "avgLoginLogout = {}\n",
    "avgTimeBtwLogin = {}\n",
    "for i in users_id:\n",
    "    user_group = df_groupbyUserId.get_group(i)\n",
    "    \n",
    "    ctr = user_group[user_group[\"eventType\"] == 2].count()\n",
    "    failedAttemps[i] = ctr[\"eventType\"]\n",
    "    ctr = user_group[user_group[\"eventType\"] == 1].count()\n",
    "    successAttemps[i] = ctr[\"eventType\"]\n",
    "    ctr = user_group[user_group[\"eventType\"] == 3].count()\n",
    "    logoutAmount[i] = ctr[\"eventType\"]\n",
    "    \n",
    "#avarage loginLogout \n",
    "for key,value in successAttemps.items():\n",
    "    avgLoginLogout[key] = 0 if(key not in logoutAmount or logoutAmount[key] == 0 ) else  value/logoutAmount[key]\n",
    "    \n",
    "# avarage time between two consecutive login\n",
    "from datetime import datetime\n",
    "avgTimeBtwLoginErr = {}\n",
    "for i in users_id:\n",
    "    user_group = df_groupbyUserId.get_group(i)\n",
    "    delta_sum = 0\n",
    "    rowsNumber = len(user_group.index)\n",
    "    ctr = 0\n",
    "    for j in range(rowsNumber - 1):\n",
    "        #k = j\n",
    "        if user_group.iloc[j][\"eventType\"] == 2:\n",
    "            k = j+1            \n",
    "            while user_group.iloc[k][\"eventType\"] != 2 and k < (rowsNumber - 1):\n",
    "                k += 1\n",
    "            if k == 1 or k != rowsNumber - 1:\n",
    "                delta_sum += (user_group.iloc[k][\"date\"] - user_group.iloc[j][\"date\"]).total_seconds() * 1000\n",
    "                ctr += 1\n",
    "            j = k\n",
    "            \n",
    "    if ctr != 0:\n",
    "        avgTimeBtwLoginErr[i] = int(delta_sum/ctr)\n",
    "    else:\n",
    "        avgTimeBtwLoginErr[i] = -1\n"
   ]
  },
  {
   "cell_type": "code",
   "execution_count": 74,
   "id": "917c1154",
   "metadata": {},
   "outputs": [
    {
     "data": {
      "text/html": [
       "<div>\n",
       "<style scoped>\n",
       "    .dataframe tbody tr th:only-of-type {\n",
       "        vertical-align: middle;\n",
       "    }\n",
       "\n",
       "    .dataframe tbody tr th {\n",
       "        vertical-align: top;\n",
       "    }\n",
       "\n",
       "    .dataframe thead th {\n",
       "        text-align: right;\n",
       "    }\n",
       "</style>\n",
       "<table border=\"1\" class=\"dataframe\">\n",
       "  <thead>\n",
       "    <tr style=\"text-align: right;\">\n",
       "      <th></th>\n",
       "      <th>userId</th>\n",
       "      <th>usedIpAmount</th>\n",
       "      <th>avgTimeBtwLoginErr</th>\n",
       "      <th>failedAttemps</th>\n",
       "      <th>successAttemps</th>\n",
       "      <th>logoutAmount</th>\n",
       "      <th>avgLoginLogout</th>\n",
       "    </tr>\n",
       "  </thead>\n",
       "  <tbody>\n",
       "    <tr>\n",
       "      <th>0</th>\n",
       "      <td>1</td>\n",
       "      <td>2</td>\n",
       "      <td>-1</td>\n",
       "      <td>1</td>\n",
       "      <td>9677</td>\n",
       "      <td>0</td>\n",
       "      <td>0.000000</td>\n",
       "    </tr>\n",
       "    <tr>\n",
       "      <th>1</th>\n",
       "      <td>10</td>\n",
       "      <td>2</td>\n",
       "      <td>-1</td>\n",
       "      <td>2</td>\n",
       "      <td>0</td>\n",
       "      <td>0</td>\n",
       "      <td>0.000000</td>\n",
       "    </tr>\n",
       "    <tr>\n",
       "      <th>2</th>\n",
       "      <td>17</td>\n",
       "      <td>1</td>\n",
       "      <td>931113250</td>\n",
       "      <td>9</td>\n",
       "      <td>9</td>\n",
       "      <td>0</td>\n",
       "      <td>0.000000</td>\n",
       "    </tr>\n",
       "    <tr>\n",
       "      <th>3</th>\n",
       "      <td>18</td>\n",
       "      <td>1</td>\n",
       "      <td>12000</td>\n",
       "      <td>4</td>\n",
       "      <td>0</td>\n",
       "      <td>0</td>\n",
       "      <td>0.000000</td>\n",
       "    </tr>\n",
       "    <tr>\n",
       "      <th>4</th>\n",
       "      <td>21</td>\n",
       "      <td>6</td>\n",
       "      <td>4000</td>\n",
       "      <td>2</td>\n",
       "      <td>28</td>\n",
       "      <td>18</td>\n",
       "      <td>1.555556</td>\n",
       "    </tr>\n",
       "    <tr>\n",
       "      <th>...</th>\n",
       "      <td>...</td>\n",
       "      <td>...</td>\n",
       "      <td>...</td>\n",
       "      <td>...</td>\n",
       "      <td>...</td>\n",
       "      <td>...</td>\n",
       "      <td>...</td>\n",
       "    </tr>\n",
       "    <tr>\n",
       "      <th>18075</th>\n",
       "      <td>33952</td>\n",
       "      <td>1</td>\n",
       "      <td>-1</td>\n",
       "      <td>0</td>\n",
       "      <td>1</td>\n",
       "      <td>0</td>\n",
       "      <td>0.000000</td>\n",
       "    </tr>\n",
       "    <tr>\n",
       "      <th>18076</th>\n",
       "      <td>33953</td>\n",
       "      <td>1</td>\n",
       "      <td>-1</td>\n",
       "      <td>0</td>\n",
       "      <td>1</td>\n",
       "      <td>0</td>\n",
       "      <td>0.000000</td>\n",
       "    </tr>\n",
       "    <tr>\n",
       "      <th>18077</th>\n",
       "      <td>33954</td>\n",
       "      <td>1</td>\n",
       "      <td>-1</td>\n",
       "      <td>0</td>\n",
       "      <td>1</td>\n",
       "      <td>0</td>\n",
       "      <td>0.000000</td>\n",
       "    </tr>\n",
       "    <tr>\n",
       "      <th>18078</th>\n",
       "      <td>33961</td>\n",
       "      <td>1</td>\n",
       "      <td>-1</td>\n",
       "      <td>0</td>\n",
       "      <td>1</td>\n",
       "      <td>0</td>\n",
       "      <td>0.000000</td>\n",
       "    </tr>\n",
       "    <tr>\n",
       "      <th>18079</th>\n",
       "      <td>33963</td>\n",
       "      <td>1</td>\n",
       "      <td>-1</td>\n",
       "      <td>0</td>\n",
       "      <td>1</td>\n",
       "      <td>0</td>\n",
       "      <td>0.000000</td>\n",
       "    </tr>\n",
       "  </tbody>\n",
       "</table>\n",
       "<p>18080 rows × 7 columns</p>\n",
       "</div>"
      ],
      "text/plain": [
       "       userId  usedIpAmount  avgTimeBtwLoginErr  failedAttemps  \\\n",
       "0           1             2                  -1              1   \n",
       "1          10             2                  -1              2   \n",
       "2          17             1           931113250              9   \n",
       "3          18             1               12000              4   \n",
       "4          21             6                4000              2   \n",
       "...       ...           ...                 ...            ...   \n",
       "18075   33952             1                  -1              0   \n",
       "18076   33953             1                  -1              0   \n",
       "18077   33954             1                  -1              0   \n",
       "18078   33961             1                  -1              0   \n",
       "18079   33963             1                  -1              0   \n",
       "\n",
       "       successAttemps  logoutAmount  avgLoginLogout  \n",
       "0                9677             0        0.000000  \n",
       "1                   0             0        0.000000  \n",
       "2                   9             0        0.000000  \n",
       "3                   0             0        0.000000  \n",
       "4                  28            18        1.555556  \n",
       "...               ...           ...             ...  \n",
       "18075               1             0        0.000000  \n",
       "18076               1             0        0.000000  \n",
       "18077               1             0        0.000000  \n",
       "18078               1             0        0.000000  \n",
       "18079               1             0        0.000000  \n",
       "\n",
       "[18080 rows x 7 columns]"
      ]
     },
     "execution_count": 74,
     "metadata": {},
     "output_type": "execute_result"
    }
   ],
   "source": [
    "# setting up 2nd dataset\n",
    "df_users = pd.DataFrame(columns=[\"userId\",\"usedIpAmount\",\"avgTimeBtwLoginErr\",\n",
    "                                 \"failedAttemps\",\"successAttemps\",\"logoutAmount\",\"avgLoginLogout\"])\n",
    "df_users[\"userId\"] = users_id\n",
    "df_users[\"usedIpAmount\"] = usersdIpAmount.values\n",
    "df_users[\"failedAttemps\"] = failedAttemps.values()\n",
    "df_users[\"successAttemps\"] = successAttemps.values()\n",
    "df_users[\"logoutAmount\"] = logoutAmount.values()\n",
    "df_users[\"avgLoginLogout\"] = avgLoginLogout.values()\n",
    "df_users[\"avgTimeBtwLoginErr\"] = avgTimeBtwLoginErr.values()\n",
    "\n",
    "df_users"
   ]
  },
  {
   "cell_type": "code",
   "execution_count": 82,
   "id": "602b7bb4",
   "metadata": {},
   "outputs": [
    {
     "data": {
      "text/plain": [
       "count    1.808000e+04\n",
       "mean     5.836347e+08\n",
       "std      1.623664e+09\n",
       "min     -1.000000e+00\n",
       "25%     -1.000000e+00\n",
       "50%      6.758300e+04\n",
       "75%      5.979226e+08\n",
       "max      4.666990e+10\n",
       "Name: avgTimeBtwLoginErr, dtype: float64"
      ]
     },
     "execution_count": 82,
     "metadata": {},
     "output_type": "execute_result"
    }
   ],
   "source": [
    "df_users[\"avgTimeBtwLoginErr\"].describecribe()"
   ]
  },
  {
   "cell_type": "markdown",
   "id": "2512b0c9",
   "metadata": {},
   "source": [
    "<h3>Plot</h3>"
   ]
  },
  {
   "cell_type": "code",
   "execution_count": 68,
   "id": "d2b32291",
   "metadata": {},
   "outputs": [
    {
     "data": {
      "image/png": "[encoded data removed]",
      "text/plain": [
       "<Figure size 432x288 with 1 Axes>"
      ]
     },
     "metadata": {
      "needs_background": "light"
     },
     "output_type": "display_data"
    }
   ],
   "source": [
    "df_users.plot(x = 'avgTimeBtwLoginErr', y = 'failedAttemps', kind = 'scatter')\n",
    "plt.show()"
   ]
  },
  {
   "cell_type": "markdown",
   "id": "f5aa43d0",
   "metadata": {},
   "source": [
    "When the number of errors login increase, the time interval gets shorter"
   ]
  },
  {
   "cell_type": "code",
   "execution_count": 53,
   "id": "a5568c96",
   "metadata": {},
   "outputs": [
    {
     "data": {
      "image/png": "[encoded data removed]",
      "text/plain": [
       "<Figure size 432x288 with 1 Axes>"
      ]
     },
     "metadata": {
      "needs_background": "light"
     },
     "output_type": "display_data"
    }
   ],
   "source": [
    "df_users.plot(x = 'usedIpAmount', y = 'successAttemps', kind = 'scatter')\n",
    "plt.ylim(0,2000)\n",
    "plt.show()"
   ]
  },
  {
   "cell_type": "markdown",
   "id": "a4b52d69",
   "metadata": {},
   "source": [
    "The higher the number of used IP address, the lower the success logins"
   ]
  },
  {
   "cell_type": "code",
   "execution_count": 62,
   "id": "df0354a0",
   "metadata": {},
   "outputs": [
    {
     "data": {
      "image/png": "[encoded data removed]",
      "text/plain": [
       "<Figure size 432x288 with 1 Axes>"
      ]
     },
     "metadata": {
      "needs_background": "light"
     },
     "output_type": "display_data"
    }
   ],
   "source": [
    "df_users.plot(x = 'usedIpAmount', y = 'failedAttemps', kind = 'scatter')\n",
    "plt.show()"
   ]
  },
  {
   "cell_type": "code",
   "execution_count": 69,
   "id": "d1c59981",
   "metadata": {},
   "outputs": [
    {
     "data": {
      "image/png": "[encoded data removed]",
      "text/plain": [
       "<Figure size 432x288 with 1 Axes>"
      ]
     },
     "metadata": {
      "needs_background": "light"
     },
     "output_type": "display_data"
    }
   ],
   "source": [
    "df_users.plot(x = 'failedAttemps', y = 'successAttemps', kind = 'scatter')\n",
    "plt.ylim(0,2000)\n",
    "plt.show()"
   ]
  },
  {
   "cell_type": "code",
   "execution_count": null,
   "id": "70dea23f",
   "metadata": {},
   "outputs": [],
   "source": [
    "df_users.plot(x = 'usedIpAmount', y = 'avgTimeBtwLoginErr', kind = 'scatter')\n",
    "plt.show()"
   ]
  },
  {
   "cell_type": "code",
   "execution_count": null,
   "id": "67eb6953",
   "metadata": {},
   "outputs": [],
   "source": [
    "df_users.plot(x = 'userId', y = 'failedAttemps', kind = 'scatter')\n",
    "plt.show()"
   ]
  },
  {
   "cell_type": "code",
   "execution_count": null,
   "id": "44e0429e",
   "metadata": {},
   "outputs": [],
   "source": [
    "df_users.plot(x = 'userId', y = 'avgTimeBtwLoginErr', kind = 'scatter')\n",
    "plt.show()"
   ]
  },
  {
   "cell_type": "code",
   "execution_count": 65,
   "id": "38fa0790",
   "metadata": {},
   "outputs": [
    {
     "data": {
      "image/png": "[encoded data removed]",
      "text/plain": [
       "<Figure size 432x288 with 1 Axes>"
      ]
     },
     "metadata": {
      "needs_background": "light"
     },
     "output_type": "display_data"
    }
   ],
   "source": [
    "df_users['userId'].plot.hist()\n",
    "plt.show()"
   ]
  },
  {
   "cell_type": "code",
   "execution_count": 66,
   "id": "6d060bb7",
   "metadata": {},
   "outputs": [
    {
     "data": {
      "image/png": "[encoded data removed]",
      "text/plain": [
       "<Figure size 432x288 with 1 Axes>"
      ]
     },
     "metadata": {
      "needs_background": "light"
     },
     "output_type": "display_data"
    }
   ],
   "source": [
    "df_users['usedIpAmount'].plot.hist()\n",
    "plt.show()"
   ]
  }
 ],
 "metadata": {
  "kernelspec": {
   "display_name": "Python 3",
   "language": "python",
   "name": "python3"
  },
  "language_info": {
   "codemirror_mode": {
    "name": "ipython",
    "version": 3
   },
   "file_extension": ".py",
   "mimetype": "text/x-python",
   "name": "python",
   "nbconvert_exporter": "python",
   "pygments_lexer": "ipython3",
   "version": "3.8.8"
  }
 },
 "nbformat": 4,
 "nbformat_minor": 5
}
