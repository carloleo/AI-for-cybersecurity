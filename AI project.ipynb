{
 "cells": [
  {
   "cell_type": "markdown",
   "id": "4cc6177d",
   "metadata": {},
   "source": [
    "# AI project – Zucchetti Spa dataset"
   ]
  },
  {
   "cell_type": "markdown",
   "id": "7caf29d2",
   "metadata": {},
   "source": [
    "## Preprocessing"
   ]
  },
  {
   "cell_type": "code",
   "execution_count": 7,
   "id": "928fee71",
   "metadata": {},
   "outputs": [],
   "source": [
    "import pandas as pd\n",
    "import matplotlib.pyplot as plt\n",
    "import numpy as np\n",
    "\n",
    "UNKNOWN = 'unknown'\n",
    "SAMPLE = 10"
   ]
  },
  {
   "cell_type": "code",
   "execution_count": 8,
   "id": "2be87900",
   "metadata": {},
   "outputs": [],
   "source": [
    "# Read in the data from the CSV file\n",
    "df = pd.read_csv('coded_log.csv', sep=\";\",names=['userId', '1?', 'date','eventType','application','2?','ip','3?','4?','5?'])"
   ]
  },
  {
   "cell_type": "code",
   "execution_count": 9,
   "id": "c45d6d9c",
   "metadata": {
    "scrolled": true
   },
   "outputs": [
    {
     "data": {
      "text/html": [
       "<div>\n",
       "<style scoped>\n",
       "    .dataframe tbody tr th:only-of-type {\n",
       "        vertical-align: middle;\n",
       "    }\n",
       "\n",
       "    .dataframe tbody tr th {\n",
       "        vertical-align: top;\n",
       "    }\n",
       "\n",
       "    .dataframe thead th {\n",
       "        text-align: right;\n",
       "    }\n",
       "</style>\n",
       "<table border=\"1\" class=\"dataframe\">\n",
       "  <thead>\n",
       "    <tr style=\"text-align: right;\">\n",
       "      <th></th>\n",
       "      <th>userId</th>\n",
       "      <th>1?</th>\n",
       "      <th>date</th>\n",
       "      <th>eventType</th>\n",
       "      <th>application</th>\n",
       "      <th>2?</th>\n",
       "      <th>ip</th>\n",
       "      <th>3?</th>\n",
       "      <th>4?</th>\n",
       "      <th>5?</th>\n",
       "    </tr>\n",
       "  </thead>\n",
       "  <tbody>\n",
       "    <tr>\n",
       "      <th>515401</th>\n",
       "      <td>21630</td>\n",
       "      <td>22969666</td>\n",
       "      <td>2021-04-01 11:55:29.000</td>\n",
       "      <td>1</td>\n",
       "      <td>ERM</td>\n",
       "      <td>erm3zs02</td>\n",
       "      <td>ip_1360</td>\n",
       "      <td>001</td>\n",
       "      <td>ruqnpvapib</td>\n",
       "      <td>lv3kliy5ax</td>\n",
       "    </tr>\n",
       "    <tr>\n",
       "      <th>483631</th>\n",
       "      <td>20333</td>\n",
       "      <td>478303947</td>\n",
       "      <td>2021-06-20 23:07:55.000</td>\n",
       "      <td>1</td>\n",
       "      <td>HRW</td>\n",
       "      <td>NaN</td>\n",
       "      <td>NaN</td>\n",
       "      <td>001</td>\n",
       "      <td>urokuemkoh</td>\n",
       "      <td>z1of95dgh6</td>\n",
       "    </tr>\n",
       "    <tr>\n",
       "      <th>353888</th>\n",
       "      <td>13584</td>\n",
       "      <td>806865786</td>\n",
       "      <td>2021-05-27 08:52:10.000</td>\n",
       "      <td>1</td>\n",
       "      <td>HRW</td>\n",
       "      <td>NaN</td>\n",
       "      <td>NaN</td>\n",
       "      <td>006</td>\n",
       "      <td>xkfubqfjtc</td>\n",
       "      <td>w1c1vm05u6</td>\n",
       "    </tr>\n",
       "    <tr>\n",
       "      <th>840798</th>\n",
       "      <td>33320</td>\n",
       "      <td>246815633</td>\n",
       "      <td>2021-04-23 09:31:44.000</td>\n",
       "      <td>1</td>\n",
       "      <td>ERM</td>\n",
       "      <td>erm3zs02</td>\n",
       "      <td>ip_566</td>\n",
       "      <td>001</td>\n",
       "      <td>ujiyhvfqdq</td>\n",
       "      <td>xrv9zcvwr0</td>\n",
       "    </tr>\n",
       "    <tr>\n",
       "      <th>304760</th>\n",
       "      <td>12058</td>\n",
       "      <td>680189308</td>\n",
       "      <td>2021-06-01 20:40:40.000</td>\n",
       "      <td>2</td>\n",
       "      <td>ERM</td>\n",
       "      <td>erm3zs02</td>\n",
       "      <td>ip_10953</td>\n",
       "      <td></td>\n",
       "      <td></td>\n",
       "      <td>ekrsjfe4wp</td>\n",
       "    </tr>\n",
       "    <tr>\n",
       "      <th>414341</th>\n",
       "      <td>18174</td>\n",
       "      <td>183288806</td>\n",
       "      <td>2020-09-08 15:27:36.000</td>\n",
       "      <td>3</td>\n",
       "      <td>HR1</td>\n",
       "      <td>NaN</td>\n",
       "      <td>NaN</td>\n",
       "      <td>001</td>\n",
       "      <td>ijvpfmsbfr</td>\n",
       "      <td>d72svz8w1f</td>\n",
       "    </tr>\n",
       "    <tr>\n",
       "      <th>20555</th>\n",
       "      <td>299</td>\n",
       "      <td>442012979</td>\n",
       "      <td>2021-04-23 16:09:54.000</td>\n",
       "      <td>1</td>\n",
       "      <td>HRW</td>\n",
       "      <td>NaN</td>\n",
       "      <td>NaN</td>\n",
       "      <td>001</td>\n",
       "      <td>wdnlrdtvgv</td>\n",
       "      <td>bbdptvzf7b</td>\n",
       "    </tr>\n",
       "    <tr>\n",
       "      <th>380230</th>\n",
       "      <td>15013</td>\n",
       "      <td>707863756</td>\n",
       "      <td>2021-06-14 10:42:13.000</td>\n",
       "      <td>3</td>\n",
       "      <td>HRW</td>\n",
       "      <td>NaN</td>\n",
       "      <td>NaN</td>\n",
       "      <td>001</td>\n",
       "      <td>rkspfklksj</td>\n",
       "      <td>kuac9j90rs</td>\n",
       "    </tr>\n",
       "    <tr>\n",
       "      <th>107885</th>\n",
       "      <td>2142</td>\n",
       "      <td>172091165</td>\n",
       "      <td>2021-05-31 06:29:11.000</td>\n",
       "      <td>1</td>\n",
       "      <td>ERM</td>\n",
       "      <td>erm3zs02</td>\n",
       "      <td>ip_1463</td>\n",
       "      <td>001</td>\n",
       "      <td>idgtaxdzaf</td>\n",
       "      <td>x8od3cy7dq</td>\n",
       "    </tr>\n",
       "    <tr>\n",
       "      <th>833426</th>\n",
       "      <td>33181</td>\n",
       "      <td>377861798</td>\n",
       "      <td>2021-06-21 17:35:33.000</td>\n",
       "      <td>1</td>\n",
       "      <td>ERM</td>\n",
       "      <td>erm3zs02</td>\n",
       "      <td>ip_916</td>\n",
       "      <td>001</td>\n",
       "      <td>hixjwcmhig</td>\n",
       "      <td>xhcid1ku6x</td>\n",
       "    </tr>\n",
       "  </tbody>\n",
       "</table>\n",
       "</div>"
      ],
      "text/plain": [
       "        userId         1?                     date  eventType application  \\\n",
       "515401   21630   22969666  2021-04-01 11:55:29.000          1         ERM   \n",
       "483631   20333  478303947  2021-06-20 23:07:55.000          1         HRW   \n",
       "353888   13584  806865786  2021-05-27 08:52:10.000          1         HRW   \n",
       "840798   33320  246815633  2021-04-23 09:31:44.000          1         ERM   \n",
       "304760   12058  680189308  2021-06-01 20:40:40.000          2         ERM   \n",
       "414341   18174  183288806  2020-09-08 15:27:36.000          3         HR1   \n",
       "20555      299  442012979  2021-04-23 16:09:54.000          1         HRW   \n",
       "380230   15013  707863756  2021-06-14 10:42:13.000          3         HRW   \n",
       "107885    2142  172091165  2021-05-31 06:29:11.000          1         ERM   \n",
       "833426   33181  377861798  2021-06-21 17:35:33.000          1         ERM   \n",
       "\n",
       "              2?        ip          3?          4?          5?  \n",
       "515401  erm3zs02   ip_1360  001         ruqnpvapib  lv3kliy5ax  \n",
       "483631       NaN       NaN  001         urokuemkoh  z1of95dgh6  \n",
       "353888       NaN       NaN  006         xkfubqfjtc  w1c1vm05u6  \n",
       "840798  erm3zs02    ip_566  001         ujiyhvfqdq  xrv9zcvwr0  \n",
       "304760  erm3zs02  ip_10953                          ekrsjfe4wp  \n",
       "414341       NaN       NaN  001         ijvpfmsbfr  d72svz8w1f  \n",
       "20555        NaN       NaN  001         wdnlrdtvgv  bbdptvzf7b  \n",
       "380230       NaN       NaN  001         rkspfklksj  kuac9j90rs  \n",
       "107885  erm3zs02   ip_1463  001         idgtaxdzaf  x8od3cy7dq  \n",
       "833426  erm3zs02    ip_916  001         hixjwcmhig  xhcid1ku6x  "
      ]
     },
     "execution_count": 9,
     "metadata": {},
     "output_type": "execute_result"
    }
   ],
   "source": [
    "# Visualize a snippet of the data frame df\n",
    "df.sample(SAMPLE)"
   ]
  },
  {
   "cell_type": "code",
   "execution_count": 10,
   "id": "26f1adeb",
   "metadata": {},
   "outputs": [
    {
     "data": {
      "text/html": [
       "<div>\n",
       "<style scoped>\n",
       "    .dataframe tbody tr th:only-of-type {\n",
       "        vertical-align: middle;\n",
       "    }\n",
       "\n",
       "    .dataframe tbody tr th {\n",
       "        vertical-align: top;\n",
       "    }\n",
       "\n",
       "    .dataframe thead th {\n",
       "        text-align: right;\n",
       "    }\n",
       "</style>\n",
       "<table border=\"1\" class=\"dataframe\">\n",
       "  <thead>\n",
       "    <tr style=\"text-align: right;\">\n",
       "      <th></th>\n",
       "      <th>userId</th>\n",
       "      <th>date</th>\n",
       "      <th>eventType</th>\n",
       "      <th>application</th>\n",
       "      <th>ip</th>\n",
       "    </tr>\n",
       "  </thead>\n",
       "  <tbody>\n",
       "    <tr>\n",
       "      <th>110227</th>\n",
       "      <td>2182</td>\n",
       "      <td>2021-05-17 10:31:15.000</td>\n",
       "      <td>3</td>\n",
       "      <td>ERM</td>\n",
       "      <td>ip_1467</td>\n",
       "    </tr>\n",
       "    <tr>\n",
       "      <th>670033</th>\n",
       "      <td>27372</td>\n",
       "      <td>2021-06-04 17:35:16.000</td>\n",
       "      <td>1</td>\n",
       "      <td>ERM</td>\n",
       "      <td>ip_1360</td>\n",
       "    </tr>\n",
       "    <tr>\n",
       "      <th>117295</th>\n",
       "      <td>2317</td>\n",
       "      <td>2021-06-23 16:14:58.000</td>\n",
       "      <td>1</td>\n",
       "      <td>ERM</td>\n",
       "      <td>ip_1477</td>\n",
       "    </tr>\n",
       "    <tr>\n",
       "      <th>549900</th>\n",
       "      <td>23189</td>\n",
       "      <td>2021-05-04 17:28:24.000</td>\n",
       "      <td>1</td>\n",
       "      <td>ERM</td>\n",
       "      <td>ip_9447</td>\n",
       "    </tr>\n",
       "    <tr>\n",
       "      <th>841673</th>\n",
       "      <td>33325</td>\n",
       "      <td>2021-06-08 09:41:37.000</td>\n",
       "      <td>1</td>\n",
       "      <td>HR1</td>\n",
       "      <td>NaN</td>\n",
       "    </tr>\n",
       "    <tr>\n",
       "      <th>541007</th>\n",
       "      <td>22901</td>\n",
       "      <td>2021-05-05 17:58:49.000</td>\n",
       "      <td>3</td>\n",
       "      <td>ERM</td>\n",
       "      <td>ip_128</td>\n",
       "    </tr>\n",
       "    <tr>\n",
       "      <th>351640</th>\n",
       "      <td>13566</td>\n",
       "      <td>2021-05-17 08:27:41.000</td>\n",
       "      <td>1</td>\n",
       "      <td>ERM</td>\n",
       "      <td>ip_126</td>\n",
       "    </tr>\n",
       "    <tr>\n",
       "      <th>561990</th>\n",
       "      <td>23503</td>\n",
       "      <td>2021-05-03 11:57:24.000</td>\n",
       "      <td>1</td>\n",
       "      <td>HRW</td>\n",
       "      <td>NaN</td>\n",
       "    </tr>\n",
       "    <tr>\n",
       "      <th>30754</th>\n",
       "      <td>589</td>\n",
       "      <td>2021-04-30 14:17:58.000</td>\n",
       "      <td>1</td>\n",
       "      <td>ERM</td>\n",
       "      <td>ip_539</td>\n",
       "    </tr>\n",
       "    <tr>\n",
       "      <th>367865</th>\n",
       "      <td>13886</td>\n",
       "      <td>2021-06-21 11:46:40.000</td>\n",
       "      <td>1</td>\n",
       "      <td>HRW</td>\n",
       "      <td>NaN</td>\n",
       "    </tr>\n",
       "  </tbody>\n",
       "</table>\n",
       "</div>"
      ],
      "text/plain": [
       "        userId                     date  eventType application       ip\n",
       "110227    2182  2021-05-17 10:31:15.000          3         ERM  ip_1467\n",
       "670033   27372  2021-06-04 17:35:16.000          1         ERM  ip_1360\n",
       "117295    2317  2021-06-23 16:14:58.000          1         ERM  ip_1477\n",
       "549900   23189  2021-05-04 17:28:24.000          1         ERM  ip_9447\n",
       "841673   33325  2021-06-08 09:41:37.000          1         HR1      NaN\n",
       "541007   22901  2021-05-05 17:58:49.000          3         ERM   ip_128\n",
       "351640   13566  2021-05-17 08:27:41.000          1         ERM   ip_126\n",
       "561990   23503  2021-05-03 11:57:24.000          1         HRW      NaN\n",
       "30754      589  2021-04-30 14:17:58.000          1         ERM   ip_539\n",
       "367865   13886  2021-06-21 11:46:40.000          1         HRW      NaN"
      ]
     },
     "execution_count": 10,
     "metadata": {},
     "output_type": "execute_result"
    }
   ],
   "source": [
    "#remove unkown coloums\n",
    "df_ = df.drop(columns=['1?','2?','3?','4?','5?'])\n",
    "df_.sample(SAMPLE)"
   ]
  },
  {
   "cell_type": "code",
   "execution_count": 11,
   "id": "defef2d9",
   "metadata": {},
   "outputs": [
    {
     "name": "stdout",
     "output_type": "stream",
     "text": [
      "number of null entries:\n"
     ]
    },
    {
     "data": {
      "text/plain": [
       "userId              0\n",
       "date                0\n",
       "eventType           0\n",
       "application         0\n",
       "ip             339741\n",
       "dtype: int64"
      ]
     },
     "execution_count": 11,
     "metadata": {},
     "output_type": "execute_result"
    }
   ],
   "source": [
    "#cleaning row data\n",
    "print('number of null entries:')\n",
    "df_.isnull().sum()"
   ]
  },
  {
   "cell_type": "code",
   "execution_count": 12,
   "id": "f6e893ff",
   "metadata": {
    "scrolled": true
   },
   "outputs": [
    {
     "data": {
      "text/html": [
       "<div>\n",
       "<style scoped>\n",
       "    .dataframe tbody tr th:only-of-type {\n",
       "        vertical-align: middle;\n",
       "    }\n",
       "\n",
       "    .dataframe tbody tr th {\n",
       "        vertical-align: top;\n",
       "    }\n",
       "\n",
       "    .dataframe thead th {\n",
       "        text-align: right;\n",
       "    }\n",
       "</style>\n",
       "<table border=\"1\" class=\"dataframe\">\n",
       "  <thead>\n",
       "    <tr style=\"text-align: right;\">\n",
       "      <th></th>\n",
       "      <th>userId</th>\n",
       "      <th>date</th>\n",
       "      <th>eventType</th>\n",
       "      <th>application</th>\n",
       "      <th>ip</th>\n",
       "    </tr>\n",
       "  </thead>\n",
       "  <tbody>\n",
       "    <tr>\n",
       "      <th>218540</th>\n",
       "      <td>4191</td>\n",
       "      <td>2021-06-14 11:49:39.000</td>\n",
       "      <td>1</td>\n",
       "      <td>ERM</td>\n",
       "      <td>ip_1360</td>\n",
       "    </tr>\n",
       "    <tr>\n",
       "      <th>150855</th>\n",
       "      <td>2909</td>\n",
       "      <td>2021-05-07 17:44:16.000</td>\n",
       "      <td>1</td>\n",
       "      <td>HRW</td>\n",
       "      <td>unknown</td>\n",
       "    </tr>\n",
       "    <tr>\n",
       "      <th>490930</th>\n",
       "      <td>20430</td>\n",
       "      <td>2021-06-01 11:47:47.000</td>\n",
       "      <td>3</td>\n",
       "      <td>ERM</td>\n",
       "      <td>ip_16814</td>\n",
       "    </tr>\n",
       "    <tr>\n",
       "      <th>559464</th>\n",
       "      <td>23465</td>\n",
       "      <td>2021-03-31 08:26:18.000</td>\n",
       "      <td>1</td>\n",
       "      <td>ERM</td>\n",
       "      <td>ip_15279</td>\n",
       "    </tr>\n",
       "    <tr>\n",
       "      <th>222188</th>\n",
       "      <td>4276</td>\n",
       "      <td>2020-11-19 11:17:59.000</td>\n",
       "      <td>1</td>\n",
       "      <td>HRW</td>\n",
       "      <td>unknown</td>\n",
       "    </tr>\n",
       "    <tr>\n",
       "      <th>796960</th>\n",
       "      <td>32285</td>\n",
       "      <td>2020-12-11 08:43:24.000</td>\n",
       "      <td>1</td>\n",
       "      <td>ERM</td>\n",
       "      <td>ip_42069</td>\n",
       "    </tr>\n",
       "    <tr>\n",
       "      <th>66611</th>\n",
       "      <td>1452</td>\n",
       "      <td>2021-05-18 13:59:51.000</td>\n",
       "      <td>1</td>\n",
       "      <td>ERM</td>\n",
       "      <td>ip_1865</td>\n",
       "    </tr>\n",
       "    <tr>\n",
       "      <th>4708</th>\n",
       "      <td>1</td>\n",
       "      <td>2021-06-16 18:31:51.000</td>\n",
       "      <td>1</td>\n",
       "      <td>HRW</td>\n",
       "      <td>unknown</td>\n",
       "    </tr>\n",
       "    <tr>\n",
       "      <th>612966</th>\n",
       "      <td>25293</td>\n",
       "      <td>2021-04-01 11:16:07.000</td>\n",
       "      <td>1</td>\n",
       "      <td>HRW</td>\n",
       "      <td>unknown</td>\n",
       "    </tr>\n",
       "    <tr>\n",
       "      <th>207297</th>\n",
       "      <td>3959</td>\n",
       "      <td>2021-05-12 16:37:20.000</td>\n",
       "      <td>1</td>\n",
       "      <td>HR1</td>\n",
       "      <td>unknown</td>\n",
       "    </tr>\n",
       "  </tbody>\n",
       "</table>\n",
       "</div>"
      ],
      "text/plain": [
       "        userId                     date  eventType application        ip\n",
       "218540    4191  2021-06-14 11:49:39.000          1         ERM   ip_1360\n",
       "150855    2909  2021-05-07 17:44:16.000          1         HRW   unknown\n",
       "490930   20430  2021-06-01 11:47:47.000          3         ERM  ip_16814\n",
       "559464   23465  2021-03-31 08:26:18.000          1         ERM  ip_15279\n",
       "222188    4276  2020-11-19 11:17:59.000          1         HRW   unknown\n",
       "796960   32285  2020-12-11 08:43:24.000          1         ERM  ip_42069\n",
       "66611     1452  2021-05-18 13:59:51.000          1         ERM   ip_1865\n",
       "4708         1  2021-06-16 18:31:51.000          1         HRW   unknown\n",
       "612966   25293  2021-04-01 11:16:07.000          1         HRW   unknown\n",
       "207297    3959  2021-05-12 16:37:20.000          1         HR1   unknown"
      ]
     },
     "execution_count": 12,
     "metadata": {},
     "output_type": "execute_result"
    }
   ],
   "source": [
    "# replacing not-specified ip addresses\n",
    "df_['ip'].fillna(UNKNOWN,inplace=True)\n",
    "df_.sample(SAMPLE)"
   ]
  },
  {
   "cell_type": "markdown",
   "id": "c1539daa",
   "metadata": {},
   "source": [
    "### Data cleaning"
   ]
  },
  {
   "cell_type": "code",
   "execution_count": 13,
   "id": "8fb736c0",
   "metadata": {},
   "outputs": [
    {
     "name": "stdout",
     "output_type": "stream",
     "text": [
      "Duplicates number 3432 on 849552\n",
      "New size:846120\n"
     ]
    }
   ],
   "source": [
    "df_['date'] = pd.to_datetime(df_['date'], format=\"%Y-%m-%d %H:%M:%S.%f\")\n",
    "\n",
    "# sorting by date and userId\n",
    "df_.sort_values(by=[\"userId\", \"date\"],ascending=(True, True),inplace=True)\n",
    "\n",
    "# check data consistency: delete rows containing non-valid event code\n",
    "df_ = df_[(df_.eventType >= 1) & (df_.eventType <= 3)]\n",
    "\n",
    "# check data rendundancy\n",
    "duplicates = df_.duplicated().sum()\n",
    "if(duplicates > 0):\n",
    "    print(f'Duplicates number {duplicates} on {len(df_.index)}')\n",
    "    df_.drop_duplicates(inplace = True)\n",
    "    print(f'New size:{len(df_.index)}')"
   ]
  },
  {
   "cell_type": "code",
   "execution_count": 14,
   "id": "b86f2027",
   "metadata": {},
   "outputs": [
    {
     "name": "stdout",
     "output_type": "stream",
     "text": [
      "Within the dataframe there are 18080 users\n"
     ]
    }
   ],
   "source": [
    "# counting unique values\n",
    "userIdNumber = len(pd.unique(df_['userId']))\n",
    "print(f'Within the dataframe there are {userIdNumber} users')"
   ]
  },
  {
   "cell_type": "code",
   "execution_count": 15,
   "id": "c3bf09cf",
   "metadata": {
    "scrolled": true
   },
   "outputs": [
    {
     "name": "stdout",
     "output_type": "stream",
     "text": [
      "eventType\n",
      "1    628356\n",
      "2     92058\n",
      "3    125706\n",
      "Name: eventType, dtype: int64\n"
     ]
    }
   ],
   "source": [
    "print(f\"{df_.groupby('eventType').eventType.count()}\")"
   ]
  },
  {
   "cell_type": "markdown",
   "id": "5f64aa90",
   "metadata": {},
   "source": [
    "### Utility functions"
   ]
  },
  {
   "cell_type": "markdown",
   "id": "7c72b88c",
   "metadata": {},
   "source": [
    "#### Constants"
   ]
  },
  {
   "cell_type": "code",
   "execution_count": 16,
   "id": "f4e4e172",
   "metadata": {},
   "outputs": [],
   "source": [
    "# working hours boundaries\n",
    "START_WORKING = 8\n",
    "END_WORKING = 19\n",
    "# time boundaries for series construction\n",
    "AT_LEAST_ONE_DAY = 24 * 3600 * 1000 # 24 h\n",
    "MAX_DELAY_ERRORS = 5 * 60 * 1000 # 5min\n",
    "MAX_DELAY_SUCCESS = 5 * 60 * 1000 # 5min\n",
    "# attempts boundaries\n",
    "MAX_ATTEMPTS = 3\n",
    "MAX_TIME_BOT = 5000 # estimate both maximum time. We consider mocking user typing\n",
    "RESIDUAL_TIME = MAX_DELAY_ERRORS - MAX_TIME_BOT\n",
    "\n",
    "# FAILED ATTEMPTS WEIGHTS\n",
    "# lower than MAX_ATTEMPTS \n",
    "F_ATT_LOW_MAX_WS = 0.1 # with final sucessful attempt\n",
    "F_ATT_LOW_MAX_NS = 0.5 # no final sucessful attempt\n",
    "# higher than MAX_ATTEMPTS \n",
    "F_ATT_HIGH_MAX_WS = 0.7 # with final sucessful attempt\n",
    "F_ATT_HIGH_MAX_NS = 0.95 # no final sucessful attempt\n",
    "# higher than MAX_ATTEMPTS and lower then two times MAX_ATTEMPTS\n",
    "F_ATT_HIGH_MAX_LOW_2MAX_NS = 0.7 # no final sucessful attempt\n",
    "\n",
    "# AVERAGE TIME WEIGHTS\n",
    "LOWER_THAN_BOT_TIME = 0.99 # average lower than estimate bot time\n",
    "BTW_BOT_AND_DIFF = 0.85 # average higher than estimate bot time and lower than RESIDUAL_TIME\n",
    "HIGHER_THAN_BOT_TIME = 0.75 # higher than estimate bot time and than RESIDUAL_TIME\n",
    "\n",
    "# events type\n",
    "FAILED_LOGIN = 2\n",
    "SUCCESSFUL_LOGIN = 1\n",
    "LOGOUT = 3\n",
    "\n",
    "# weights for timetable\n",
    "WORKINGTIME_WORKINGDAY = 0.25\n",
    "NOT_WORKINGTIME_WEEKDAY = 0.35\n",
    "WORKINGTIME_NOT_WORKINGDAY = 0.45\n",
    "NOT_WORKINGTIME_NOT_WEEKDAY = 0.55"
   ]
  },
  {
   "cell_type": "markdown",
   "id": "882456c5",
   "metadata": {},
   "source": [
    "#### Weigthing function"
   ]
  },
  {
   "cell_type": "code",
   "execution_count": 17,
   "id": "26d26f4c",
   "metadata": {},
   "outputs": [],
   "source": [
    "\"\"\"\n",
    "    @brief: compute the suspicious value of a series\n",
    "    @param: series\n",
    "    @return: suspicious value\n",
    "\"\"\"\n",
    "def suspicious(series):\n",
    "    \"\"\"\n",
    "    series[0] = \"userId\"\n",
    "    series[1] = \"avgTime\"\n",
    "    series[2] = \"failedAttempts\"\n",
    "    series[3] = \"hasSuccess\"\n",
    "    series[4] = \"application\"\n",
    "    series[5] = \"workingTime\"\n",
    "    series[6] = \"day\"\n",
    "    series[7] = \"ipAmount\" or \"userAmount\"\n",
    "    series[8] = \"suspicious\"\n",
    "    \"\"\"\n",
    "    \n",
    "    # series weights\n",
    "    timeW = timeWeight(series[6], series[5])       # one ip/user case\n",
    "    amountW = 1 - (1/(series[7]) if series[7] > 1 else 0.6)  \n",
    "    avgtimeW = avgTimeWight(series[1])\n",
    "    attemptsW = failedAttemptsWeight(series[3],series[2])\n",
    "    \n",
    "    return graham([timeW,amountW,avgtimeW,attemptsW])\n",
    "\n",
    "# graham formula to avoid underflow when multiplying weights\n",
    "def graham(weights:list):\n",
    "    mu = 0\n",
    "    for w in weights:\n",
    "        mu += np.log(1 - w) - np.log(w)\n",
    "    return 1/(1+np.e**mu)\n",
    "\n",
    "# return weight timetable\n",
    "def timeWeight(day, isWorkingTime):\n",
    "    weekDay = day in range(1,6)\n",
    "    if isWorkingTime and weekDay:\n",
    "        w = WORKINGTIME_WORKINGDAY\n",
    "    elif not isWorkingTime and weekDay:\n",
    "        w = NOT_WORKINGTIME_WEEKDAY\n",
    "    elif isWorkingTime and not weekDay:\n",
    "        w = WORKINGTIME_NOT_WORKINGDAY\n",
    "    elif not isWorkingTime and not weekDay:\n",
    "        w = NOT_WORKINGTIME_NOT_WEEKDAY\n",
    "    return w\n",
    "\n",
    "\n",
    "def avgTimeWight(avgTime):\n",
    "    w = 0\n",
    "    if avgTime <= MAX_TIME_BOT:\n",
    "        w = LOWER_THAN_BOT_TIME \n",
    "    elif MAX_TIME_BOT < avgTime <= RESIDUAL_TIME:\n",
    "        w = BTW_BOT_AND_DIFF\n",
    "    else: \n",
    "        w = HIGHER_THAN_BOT_TIME\n",
    "    return w\n",
    "\n",
    "def failedAttemptsWeight(hasSuccess,failedAttempts):\n",
    "    w_attempts = 0\n",
    "    if hasSuccess:\n",
    "        if failedAttempts <= MAX_ATTEMPTS:\n",
    "            w_attempts = F_ATT_LOW_MAX_WS\n",
    "        else:\n",
    "            w_attempts = F_ATT_HIGH_MAX_WS\n",
    "    else:\n",
    "        if failedAttempts <= MAX_ATTEMPTS:\n",
    "            w_attempts = F_ATT_LOW_MAX_NS\n",
    "        elif failedAttempts <= 2 * MAX_ATTEMPTS:\n",
    "            w_attempts = F_ATT_HIGH_MAX_LOW_2MAX_NS\n",
    "        else:\n",
    "            w_attempts = F_ATT_HIGH_MAX_NS\n",
    "    return w_attempts\n",
    "    \n",
    "    "
   ]
  },
  {
   "cell_type": "markdown",
   "id": "4593c20c",
   "metadata": {},
   "source": [
    "## Dataframe login construction"
   ]
  },
  {
   "cell_type": "markdown",
   "id": "858ebcc1",
   "metadata": {},
   "source": [
    "#### Lambda functions"
   ]
  },
  {
   "cell_type": "code",
   "execution_count": 18,
   "id": "6642be24",
   "metadata": {},
   "outputs": [],
   "source": [
    "# deterimine if the log was during working hours\n",
    "isWorkingTime = lambda x: 1 if (x.isoweekday() in range(1,6) and x.to_pydatetime().hour >= START_WORKING and x.to_pydatetime().hour <= END_WORKING) else 0\n",
    "\n",
    "# toDay: convert a stirng representing a date into a number \n",
    "#    1 --> Monday\n",
    "#    2 --> Tuesday\n",
    "#    ...\n",
    "#    7 --> Sunday\n",
    "toDay = lambda x: x.isoweekday() "
   ]
  },
  {
   "cell_type": "code",
   "execution_count": 19,
   "id": "94e20eae",
   "metadata": {
    "scrolled": false
   },
   "outputs": [
    {
     "data": {
      "text/html": [
       "<div>\n",
       "<style scoped>\n",
       "    .dataframe tbody tr th:only-of-type {\n",
       "        vertical-align: middle;\n",
       "    }\n",
       "\n",
       "    .dataframe tbody tr th {\n",
       "        vertical-align: top;\n",
       "    }\n",
       "\n",
       "    .dataframe thead th {\n",
       "        text-align: right;\n",
       "    }\n",
       "</style>\n",
       "<table border=\"1\" class=\"dataframe\">\n",
       "  <thead>\n",
       "    <tr style=\"text-align: right;\">\n",
       "      <th></th>\n",
       "      <th>userId</th>\n",
       "      <th>date</th>\n",
       "      <th>day</th>\n",
       "      <th>workingTime</th>\n",
       "      <th>eventType</th>\n",
       "      <th>application</th>\n",
       "      <th>ip</th>\n",
       "    </tr>\n",
       "  </thead>\n",
       "  <tbody>\n",
       "    <tr>\n",
       "      <th>434775</th>\n",
       "      <td>18801</td>\n",
       "      <td>2021-02-18 16:37:10</td>\n",
       "      <td>4</td>\n",
       "      <td>1</td>\n",
       "      <td>1</td>\n",
       "      <td>HRW</td>\n",
       "      <td>unknown</td>\n",
       "    </tr>\n",
       "    <tr>\n",
       "      <th>214188</th>\n",
       "      <td>4087</td>\n",
       "      <td>2021-05-04 12:46:00</td>\n",
       "      <td>2</td>\n",
       "      <td>1</td>\n",
       "      <td>1</td>\n",
       "      <td>HRW</td>\n",
       "      <td>unknown</td>\n",
       "    </tr>\n",
       "    <tr>\n",
       "      <th>439229</th>\n",
       "      <td>19021</td>\n",
       "      <td>2021-06-01 09:31:12</td>\n",
       "      <td>2</td>\n",
       "      <td>1</td>\n",
       "      <td>1</td>\n",
       "      <td>ERM</td>\n",
       "      <td>ip_12239</td>\n",
       "    </tr>\n",
       "    <tr>\n",
       "      <th>728750</th>\n",
       "      <td>29229</td>\n",
       "      <td>2021-05-21 11:53:34</td>\n",
       "      <td>5</td>\n",
       "      <td>1</td>\n",
       "      <td>3</td>\n",
       "      <td>TM3</td>\n",
       "      <td>unknown</td>\n",
       "    </tr>\n",
       "    <tr>\n",
       "      <th>15958</th>\n",
       "      <td>195</td>\n",
       "      <td>2021-06-08 12:45:52</td>\n",
       "      <td>2</td>\n",
       "      <td>1</td>\n",
       "      <td>1</td>\n",
       "      <td>HR1</td>\n",
       "      <td>unknown</td>\n",
       "    </tr>\n",
       "    <tr>\n",
       "      <th>5856</th>\n",
       "      <td>1</td>\n",
       "      <td>2021-05-23 23:46:40</td>\n",
       "      <td>7</td>\n",
       "      <td>0</td>\n",
       "      <td>1</td>\n",
       "      <td>HRW</td>\n",
       "      <td>unknown</td>\n",
       "    </tr>\n",
       "    <tr>\n",
       "      <th>339402</th>\n",
       "      <td>13352</td>\n",
       "      <td>2021-05-12 09:26:13</td>\n",
       "      <td>3</td>\n",
       "      <td>1</td>\n",
       "      <td>1</td>\n",
       "      <td>ERM</td>\n",
       "      <td>ip_126</td>\n",
       "    </tr>\n",
       "    <tr>\n",
       "      <th>75733</th>\n",
       "      <td>1612</td>\n",
       "      <td>2021-05-24 16:01:01</td>\n",
       "      <td>1</td>\n",
       "      <td>1</td>\n",
       "      <td>3</td>\n",
       "      <td>ERM</td>\n",
       "      <td>ip_1467</td>\n",
       "    </tr>\n",
       "    <tr>\n",
       "      <th>817846</th>\n",
       "      <td>32908</td>\n",
       "      <td>2021-01-14 23:08:34</td>\n",
       "      <td>4</td>\n",
       "      <td>0</td>\n",
       "      <td>2</td>\n",
       "      <td>ERM</td>\n",
       "      <td>ip_43144</td>\n",
       "    </tr>\n",
       "    <tr>\n",
       "      <th>362442</th>\n",
       "      <td>13673</td>\n",
       "      <td>2021-05-05 08:01:12</td>\n",
       "      <td>3</td>\n",
       "      <td>1</td>\n",
       "      <td>3</td>\n",
       "      <td>ERM</td>\n",
       "      <td>ip_5477</td>\n",
       "    </tr>\n",
       "  </tbody>\n",
       "</table>\n",
       "</div>"
      ],
      "text/plain": [
       "        userId                date  day  workingTime  eventType application  \\\n",
       "434775   18801 2021-02-18 16:37:10    4            1          1         HRW   \n",
       "214188    4087 2021-05-04 12:46:00    2            1          1         HRW   \n",
       "439229   19021 2021-06-01 09:31:12    2            1          1         ERM   \n",
       "728750   29229 2021-05-21 11:53:34    5            1          3         TM3   \n",
       "15958      195 2021-06-08 12:45:52    2            1          1         HR1   \n",
       "5856         1 2021-05-23 23:46:40    7            0          1         HRW   \n",
       "339402   13352 2021-05-12 09:26:13    3            1          1         ERM   \n",
       "75733     1612 2021-05-24 16:01:01    1            1          3         ERM   \n",
       "817846   32908 2021-01-14 23:08:34    4            0          2         ERM   \n",
       "362442   13673 2021-05-05 08:01:12    3            1          3         ERM   \n",
       "\n",
       "              ip  \n",
       "434775   unknown  \n",
       "214188   unknown  \n",
       "439229  ip_12239  \n",
       "728750   unknown  \n",
       "15958    unknown  \n",
       "5856     unknown  \n",
       "339402    ip_126  \n",
       "75733    ip_1467  \n",
       "817846  ip_43144  \n",
       "362442   ip_5477  "
      ]
     },
     "execution_count": 19,
     "metadata": {},
     "output_type": "execute_result"
    }
   ],
   "source": [
    "# setting up login dataframe\n",
    "df_logins = pd.DataFrame(columns=['userId', 'date', 'day', 'workingTime', 'eventType', 'application',\"ip\"])\n",
    "df_logins['userId'] = df_['userId']\n",
    "df_logins['date'] = df_[\"date\"]\n",
    "df_logins['day'] = df_logins['date'].apply(toDay)\n",
    "df_logins['workingTime'] = df_logins['date'].apply(isWorkingTime)\n",
    "df_logins['eventType'] = df_['eventType']\n",
    "df_logins['application'] = df_['application']\n",
    "df_logins['ip'] = df_['ip']\n",
    "df_logins.sample(SAMPLE)"
   ]
  },
  {
   "cell_type": "markdown",
   "id": "43cda0e3",
   "metadata": {},
   "source": [
    "####  Login dataframe plotting"
   ]
  },
  {
   "cell_type": "markdown",
   "id": "29fa5c84",
   "metadata": {},
   "source": [
    "Every log between Friday and Sunday occurred outside working time "
   ]
  },
  {
   "cell_type": "code",
   "execution_count": 20,
   "id": "1abb2ba0",
   "metadata": {},
   "outputs": [
    {
     "data": {
      "image/png": "[encoded data removed]",
      "text/plain": [
       "<Figure size 432x288 with 1 Axes>"
      ]
     },
     "metadata": {
      "needs_background": "light"
     },
     "output_type": "display_data"
    }
   ],
   "source": [
    "df_logins.plot(x = 'day', y = 'workingTime', kind = 'scatter')\n",
    "plt.show()"
   ]
  },
  {
   "cell_type": "markdown",
   "id": "195a89f0",
   "metadata": {},
   "source": [
    "Whatever kind of event is happened in both working time and non-working time"
   ]
  },
  {
   "cell_type": "code",
   "execution_count": 21,
   "id": "db66ceb0",
   "metadata": {},
   "outputs": [
    {
     "data": {
      "image/png": "[encoded data removed]",
      "text/plain": [
       "<Figure size 432x288 with 1 Axes>"
      ]
     },
     "metadata": {
      "needs_background": "light"
     },
     "output_type": "display_data"
    }
   ],
   "source": [
    "df_logins.plot(x = 'eventType', y = 'workingTime', kind = 'scatter')\n",
    "plt.show()"
   ]
  },
  {
   "cell_type": "markdown",
   "id": "11f19da8",
   "metadata": {},
   "source": [
    "Failed logins attempts occurred only for application ERM, HRW and TM3 "
   ]
  },
  {
   "cell_type": "code",
   "execution_count": 22,
   "id": "93b00738",
   "metadata": {},
   "outputs": [
    {
     "data": {
      "image/png": "[encoded data removed]",
      "text/plain": [
       "<Figure size 432x288 with 1 Axes>"
      ]
     },
     "metadata": {
      "needs_background": "light"
     },
     "output_type": "display_data"
    }
   ],
   "source": [
    "df_logins.plot(x = 'application', y = 'eventType', kind = 'scatter')\n",
    "plt.show()"
   ]
  },
  {
   "cell_type": "code",
   "execution_count": 23,
   "id": "947f1d85",
   "metadata": {},
   "outputs": [
    {
     "data": {
      "text/plain": [
       "array(['ERM', 'HRW', 'TM3'], dtype=object)"
      ]
     },
     "execution_count": 23,
     "metadata": {},
     "output_type": "execute_result"
    }
   ],
   "source": [
    "# remove attempts regarding applications with no errors associated\n",
    "df_logins.drop(df_logins[df_logins[\"application\"].isin([\"ERM\",\"HRW\",\"TM3\"]) == False].index ,inplace=True)\n",
    "np.unique(df_logins[\"application\"])"
   ]
  },
  {
   "cell_type": "markdown",
   "id": "fe4b8cd4",
   "metadata": {},
   "source": [
    "### Series dataframe construction"
   ]
  },
  {
   "cell_type": "code",
   "execution_count": 24,
   "id": "7de9c866",
   "metadata": {},
   "outputs": [],
   "source": [
    "# group by the userId\n",
    "df_groupbyUserId = df_logins.groupby('userId')"
   ]
  },
  {
   "cell_type": "code",
   "execution_count": 25,
   "id": "407a7fd1",
   "metadata": {},
   "outputs": [],
   "source": [
    "# retrieving users id\n",
    "users_id = []\n",
    "for key, value in df_groupbyUserId:\n",
    "    users_id.append(key)\n",
    "\n",
    "# contains userId\n",
    "userList = []\n",
    "\n",
    "# searching for userId having 0 or 1 login errors\n",
    "for i in users_id:\n",
    "    user_group = df_groupbyUserId.get_group(i)\n",
    "    ctr = user_group[user_group[\"eventType\"] == FAILED_LOGIN].count()\n",
    "    if ctr[\"eventType\"] <= 1:\n",
    "        userList.append(i)"
   ]
  },
  {
   "cell_type": "code",
   "execution_count": 26,
   "id": "f4173bca",
   "metadata": {},
   "outputs": [],
   "source": [
    "# removing from login dataframe all the users found\n",
    "df_logins.drop(df_logins[df_logins[\"userId\"].isin(userList)].index,inplace=True)"
   ]
  },
  {
   "cell_type": "code",
   "execution_count": 27,
   "id": "0ee365a0",
   "metadata": {},
   "outputs": [],
   "source": [
    "df_groupbyUserId = df_logins.groupby('userId')"
   ]
  },
  {
   "cell_type": "code",
   "execution_count": 28,
   "id": "ce4299e1",
   "metadata": {},
   "outputs": [],
   "source": [
    "# list of remaining userId \n",
    "users_id = [user for user in users_id if (user not in userList)]\n",
    "\n",
    "userList.clear()\n",
    "\n",
    "# getting all users having at least two login errors\n",
    "for i in users_id:\n",
    "    user_group = df_groupbyUserId.get_group(i)\n",
    "    rowsNumber = len(user_group.index)\n",
    "    j = 0\n",
    "    while j < rowsNumber - 1:\n",
    "        # if user has a login error\n",
    "        if user_group.iloc[j][\"eventType\"] == FAILED_LOGIN:\n",
    "            k = j+1\n",
    "            # search for another one\n",
    "            while k < rowsNumber and user_group.iloc[k][\"eventType\"] != FAILED_LOGIN:\n",
    "                k += 1\n",
    "            # if found \n",
    "            if k == 1 or k != rowsNumber: \n",
    "                userList.append(i) # save user id \n",
    "                break\n",
    "            j = k\n",
    "        else:\n",
    "            j += 1"
   ]
  },
  {
   "cell_type": "code",
   "execution_count": 29,
   "id": "d9567753",
   "metadata": {},
   "outputs": [],
   "source": [
    "# removing from login dataframe all users except the ones found\n",
    "df_logins.drop(df_logins[df_logins[\"userId\"].isin(userList) == False].index,inplace=True)"
   ]
  },
  {
   "cell_type": "code",
   "execution_count": 30,
   "id": "669ddfbf",
   "metadata": {},
   "outputs": [],
   "source": [
    "df_groupbyUserId = df_logins.groupby('userId')"
   ]
  },
  {
   "cell_type": "code",
   "execution_count": 31,
   "id": "bd6d0b63",
   "metadata": {
    "scrolled": false
   },
   "outputs": [],
   "source": [
    "# list of remaining userId\n",
    "users_id = [user for user in users_id if (user in userList)]\n",
    "\n",
    "userList = []\n",
    "\n",
    "# selecting all users having at least 2 login errors within 24h\n",
    "for i in users_id:\n",
    "    user_group = df_groupbyUserId.get_group(i)\n",
    "    rowsNumber = len(user_group.index)\n",
    "    j = 0\n",
    "    while j < rowsNumber - 1:\n",
    "        # if user has a login error\n",
    "        if user_group.iloc[j][\"eventType\"] == FAILED_LOGIN:\n",
    "            k = j+1\n",
    "            # search for another one\n",
    "            while k < rowsNumber and user_group.iloc[k][\"eventType\"] != FAILED_LOGIN:\n",
    "                k += 1\n",
    "            # if found\n",
    "            if k == 1 or k != rowsNumber:\n",
    "                # compute delay between the two attempts\n",
    "                delta = int((user_group.iloc[k][\"date\"] - user_group.iloc[j][\"date\"]).total_seconds()) * 1000\n",
    "                # check if it is within 24h\n",
    "                if delta < AT_LEAST_ONE_DAY:\n",
    "                    userList.append(i) # save userId\n",
    "                    break\n",
    "            j = k\n",
    "        else:\n",
    "            j += 1\n"
   ]
  },
  {
   "cell_type": "code",
   "execution_count": 32,
   "id": "cea11008",
   "metadata": {},
   "outputs": [],
   "source": [
    "# removing from login dataframe all users except the ones found\n",
    "df_logins.drop(df_logins[df_logins[\"userId\"].isin(userList) == False].index,inplace=True)"
   ]
  },
  {
   "cell_type": "code",
   "execution_count": 33,
   "id": "d75fdc46",
   "metadata": {},
   "outputs": [],
   "source": [
    "df_groupbyUserId = df_logins.groupby('userId')"
   ]
  },
  {
   "cell_type": "markdown",
   "id": "ad9f6f2b",
   "metadata": {},
   "source": [
    "### Finding login error series "
   ]
  },
  {
   "cell_type": "code",
   "execution_count": 34,
   "id": "175b0051",
   "metadata": {},
   "outputs": [],
   "source": [
    "# series entry: (date, eventType, application, workingTime, day, ip if userMode else userId)\n",
    "def buildCouple(group,i,userMode):\n",
    "    return (group.iloc[i][\"date\"],group.iloc[i][\"eventType\"],\n",
    "            group.iloc[i][\"application\"],group.iloc[i][\"workingTime\"],\n",
    "            group.iloc[i][\"day\"],group.iloc[i][\"ip\"] if userMode else group.iloc[i][\"userId\"])\n",
    "\n",
    "# store series into dictionary\n",
    "def saveSeries(user_idex,series,storage):\n",
    "    failureSeries = storage[user_idex]\n",
    "    failureSeries.append(series)\n",
    "    storage[user_idex] = failureSeries\n",
    "\n",
    "# find series of login errors for each subject considering each application which has failed attempts\n",
    "def findSeries(subjects,df_groupBySubject,storage,userMode):\n",
    "    for i in subjects: # for each subject\n",
    "        subject_group = df_groupBySubject.get_group(i) # get login attempts for the subject\n",
    "        rowsNumber = len(subject_group.index) # get number of logins attempts\n",
    "        storage[i] = [] # initialize subject value into dictionary\n",
    "        for app in [\"ERM\", \"HRW\", \"TM3\"]: # for each app\n",
    "            series = [] # initializing empty series\n",
    "            j = 0\n",
    "            while(j < rowsNumber): # for each login attempt\n",
    "                # if the attempt is an error for the current app\n",
    "                if(subject_group.iloc[j][\"eventType\"] == FAILED_LOGIN and subject_group.iloc[j][\"application\"] == app):\n",
    "                    serie_len = len(series)\n",
    "                    # if current series is empty\n",
    "                    if(serie_len == 0): # starting new series\n",
    "                        series.append(buildCouple(subject_group,j,userMode))\n",
    "                    else:\n",
    "                        # check if the current failed attempts can be added to the current series\n",
    "                        dd = (subject_group.iloc[j][\"date\"] - series[-1][0]).total_seconds() * 1000\n",
    "                        # current failed attempt is occured within the maximum time window\n",
    "                        if(dd <= MAX_DELAY_ERRORS):\n",
    "                            series.append(buildCouple(subject_group,j,userMode)) #append to the current series\n",
    "                        else:\n",
    "                            saveSeries(user_idex=i,series=series,storage=storage) #save current series\n",
    "                            # start new series appending the current failed attempt as first event\n",
    "                            series = [] \n",
    "                            series.append(buildCouple(subject_group,j,userMode))\n",
    "                            \n",
    "                    k = j + 1\n",
    "                    loginSuccess = False\n",
    "                    eventFailure = False\n",
    "                    # searching for the next attempt\n",
    "                    while(k < (rowsNumber - 1) and not eventFailure and not loginSuccess):\n",
    "                        # if the attempt is successful\n",
    "                        if (subject_group.iloc[k][\"eventType\"] == SUCCESSFUL_LOGIN and subject_group.iloc[k][\"application\"] == app): # login eseguito correttamente dopo un fallimento\n",
    "                            loginSuccess = True\n",
    "                        # else, if the attempt is an error\n",
    "                        elif (subject_group.iloc[k][\"eventType\"] == FAILED_LOGIN and subject_group.iloc[k][\"application\"] == app):\n",
    "                             eventFailure = True\n",
    "                        k += 1\n",
    "\n",
    "                    # for both event type\n",
    "                    if(eventFailure or loginSuccess):\n",
    "                        # compute the delay in milliseconds between the two attempts\n",
    "                        delta = int((subject_group.iloc[k-1][\"date\"] - subject_group.iloc[j][\"date\"]).total_seconds()) * 1000\n",
    "\n",
    "                        # in case the current failed attempt occurs within maximum time window\n",
    "                        if eventFailure and delta <= MAX_DELAY_ERRORS:\n",
    "                            series.append(buildCouple(subject_group,k-1,userMode)) # append to the current series\n",
    "                            j = k\n",
    "                        # else\n",
    "                        elif eventFailure and delta > MAX_DELAY_ERRORS:\n",
    "                            saveSeries(user_idex=i,series=series,storage=storage) # save the current series\n",
    "                            series = [] # starting a new series\n",
    "                            j = k-1\n",
    "                        # in case the current successful attempt occurs within maximum time window\n",
    "                        elif loginSuccess and delta <= MAX_DELAY_SUCCESS:\n",
    "                            series.append(buildCouple(subject_group,k-1,userMode)) # append it to the current series for closing it\n",
    "                            saveSeries(user_idex=i,series=series,storage=storage) # save the series\n",
    "                            series = [] # starting a new series\n",
    "                            j = k\n",
    "                        # else\n",
    "                        elif loginSuccess and delta > MAX_DELAY_SUCCESS:\n",
    "                            saveSeries(user_idex=i,series=series,storage=storage) # save the series\n",
    "                            series = [] # starting a new one\n",
    "                            j = k - 1\n",
    "                    else:\n",
    "                        j = k\n",
    "                        \n",
    "                # if successful attempt is found for the same application\n",
    "                elif(len(series) > 0 and subject_group.iloc[j][\"application\"] == series[len(series) - 1][2]): \n",
    "                    # check delay to the last event of the current series\n",
    "                    delta = int((subject_group.iloc[j][\"date\"] - series[len(series) - 1][0]).total_seconds())* 1000\n",
    "                    if(delta <  MAX_DELAY_SUCCESS):\n",
    "                        series.append(buildCouple(subject_group,j,userMode))\n",
    "                    saveSeries(user_idex=i,series=series,storage=storage)\n",
    "                    series = []\n",
    "                    j += 1\n",
    "                else:\n",
    "                    j += 1\n",
    "\n",
    "            # check delay to the last event of the current series\n",
    "            if(len(series) > 0):\n",
    "                saveSeries(user_idex=i,series=series,storage=storage)\n",
    "                series = [] "
   ]
  },
  {
   "cell_type": "code",
   "execution_count": 35,
   "id": "55d6e968",
   "metadata": {
    "scrolled": false
   },
   "outputs": [],
   "source": [
    "#BUILDING USERS SERIES\n",
    "\"\"\"\n",
    "key: userId\n",
    "value: list of failed attempts series\n",
    "\"\"\"\n",
    "failedAttemptsSeries = dict()\n",
    "findSeries(subjects=userList,df_groupBySubject=df_groupbyUserId,storage=failedAttemptsSeries,userMode=True)"
   ]
  },
  {
   "cell_type": "code",
   "execution_count": 36,
   "id": "67839ccd",
   "metadata": {},
   "outputs": [],
   "source": [
    "\"\"\"\n",
    "    @brief: computing metrics for a series\n",
    "    @param: seriesStorage dictionary containing series\n",
    "    @return: list of tuple t\n",
    "t = (key of the series,average time between two attempts, failed attempts number, has success, application, amount)\n",
    "\"\"\"\n",
    "def computeMetrics(seriesStorage):\n",
    "    seriesEvalIndex = [] # contain result\n",
    "    for k in seriesStorage.keys():\n",
    "        series = seriesStorage[k]\n",
    "        for series in series:\n",
    "            length = len(series)\n",
    "            i = 0\n",
    "            hasSuccess = False\n",
    "            amount_item_set = set() # number of used IP addresses for user or number of users for IP\n",
    "            amount_item_set.add(series[0][-1])\n",
    "            workingTime = 1\n",
    "            # list of delays between two successive attempts\n",
    "            delta = []\n",
    "            while(i < length - 1):\n",
    "                delta.append(int((series[i+1][0] - series[i][0]).total_seconds()) * 1000)\n",
    "                # add the delay between two successive attempts\n",
    "                amount_item_set.add(series[i][-1])\n",
    "                # series is labeled as working time if all events occurred in working time\n",
    "                workingTime &= series[i][3]\n",
    "                i += 1\n",
    "            hasSuccess = series[-1][1] == 1\n",
    "                    #only one fail attempt avg = 0\n",
    "            t = (k, int(np.average(delta)) if len(delta) > 1 else 0  ,length - 1 if hasSuccess else length,1 if hasSuccess else 0,\n",
    "                 series[0][2],workingTime,series[i][4],len(amount_item_set))\n",
    "            seriesEvalIndex.append(t)\n",
    "    return seriesEvalIndex"
   ]
  },
  {
   "cell_type": "markdown",
   "id": "35cbbbe1",
   "metadata": {},
   "source": [
    "#### User series dataframe"
   ]
  },
  {
   "cell_type": "code",
   "execution_count": 37,
   "id": "5814165a",
   "metadata": {
    "scrolled": true
   },
   "outputs": [
    {
     "data": {
      "text/html": [
       "<div>\n",
       "<style scoped>\n",
       "    .dataframe tbody tr th:only-of-type {\n",
       "        vertical-align: middle;\n",
       "    }\n",
       "\n",
       "    .dataframe tbody tr th {\n",
       "        vertical-align: top;\n",
       "    }\n",
       "\n",
       "    .dataframe thead th {\n",
       "        text-align: right;\n",
       "    }\n",
       "</style>\n",
       "<table border=\"1\" class=\"dataframe\">\n",
       "  <thead>\n",
       "    <tr style=\"text-align: right;\">\n",
       "      <th></th>\n",
       "      <th>userId</th>\n",
       "      <th>avgTime</th>\n",
       "      <th>failedAttempts</th>\n",
       "      <th>hasSuccess</th>\n",
       "      <th>workingTime</th>\n",
       "      <th>day</th>\n",
       "      <th>ipAmount</th>\n",
       "    </tr>\n",
       "  </thead>\n",
       "  <tbody>\n",
       "    <tr>\n",
       "      <th>count</th>\n",
       "      <td>12963.000000</td>\n",
       "      <td>12963.000000</td>\n",
       "      <td>12963.000000</td>\n",
       "      <td>12963.000000</td>\n",
       "      <td>12963.000000</td>\n",
       "      <td>12963.000000</td>\n",
       "      <td>12963.000000</td>\n",
       "    </tr>\n",
       "    <tr>\n",
       "      <th>mean</th>\n",
       "      <td>17979.547944</td>\n",
       "      <td>51904.731544</td>\n",
       "      <td>3.886292</td>\n",
       "      <td>0.468179</td>\n",
       "      <td>0.803981</td>\n",
       "      <td>3.174651</td>\n",
       "      <td>1.021909</td>\n",
       "    </tr>\n",
       "    <tr>\n",
       "      <th>std</th>\n",
       "      <td>10759.405175</td>\n",
       "      <td>38773.347379</td>\n",
       "      <td>2.889793</td>\n",
       "      <td>0.499006</td>\n",
       "      <td>0.396999</td>\n",
       "      <td>1.702503</td>\n",
       "      <td>0.153088</td>\n",
       "    </tr>\n",
       "    <tr>\n",
       "      <th>min</th>\n",
       "      <td>18.000000</td>\n",
       "      <td>1000.000000</td>\n",
       "      <td>2.000000</td>\n",
       "      <td>0.000000</td>\n",
       "      <td>0.000000</td>\n",
       "      <td>1.000000</td>\n",
       "      <td>1.000000</td>\n",
       "    </tr>\n",
       "    <tr>\n",
       "      <th>25%</th>\n",
       "      <td>6271.000000</td>\n",
       "      <td>22500.000000</td>\n",
       "      <td>2.000000</td>\n",
       "      <td>0.000000</td>\n",
       "      <td>1.000000</td>\n",
       "      <td>2.000000</td>\n",
       "      <td>1.000000</td>\n",
       "    </tr>\n",
       "    <tr>\n",
       "      <th>50%</th>\n",
       "      <td>19984.000000</td>\n",
       "      <td>40000.000000</td>\n",
       "      <td>3.000000</td>\n",
       "      <td>0.000000</td>\n",
       "      <td>1.000000</td>\n",
       "      <td>3.000000</td>\n",
       "      <td>1.000000</td>\n",
       "    </tr>\n",
       "    <tr>\n",
       "      <th>75%</th>\n",
       "      <td>27595.000000</td>\n",
       "      <td>71071.000000</td>\n",
       "      <td>4.000000</td>\n",
       "      <td>1.000000</td>\n",
       "      <td>1.000000</td>\n",
       "      <td>5.000000</td>\n",
       "      <td>1.000000</td>\n",
       "    </tr>\n",
       "    <tr>\n",
       "      <th>max</th>\n",
       "      <td>33949.000000</td>\n",
       "      <td>282500.000000</td>\n",
       "      <td>43.000000</td>\n",
       "      <td>1.000000</td>\n",
       "      <td>1.000000</td>\n",
       "      <td>7.000000</td>\n",
       "      <td>5.000000</td>\n",
       "    </tr>\n",
       "  </tbody>\n",
       "</table>\n",
       "</div>"
      ],
      "text/plain": [
       "             userId        avgTime  failedAttempts    hasSuccess  \\\n",
       "count  12963.000000   12963.000000    12963.000000  12963.000000   \n",
       "mean   17979.547944   51904.731544        3.886292      0.468179   \n",
       "std    10759.405175   38773.347379        2.889793      0.499006   \n",
       "min       18.000000    1000.000000        2.000000      0.000000   \n",
       "25%     6271.000000   22500.000000        2.000000      0.000000   \n",
       "50%    19984.000000   40000.000000        3.000000      0.000000   \n",
       "75%    27595.000000   71071.000000        4.000000      1.000000   \n",
       "max    33949.000000  282500.000000       43.000000      1.000000   \n",
       "\n",
       "        workingTime           day      ipAmount  \n",
       "count  12963.000000  12963.000000  12963.000000  \n",
       "mean       0.803981      3.174651      1.021909  \n",
       "std        0.396999      1.702503      0.153088  \n",
       "min        0.000000      1.000000      1.000000  \n",
       "25%        1.000000      2.000000      1.000000  \n",
       "50%        1.000000      3.000000      1.000000  \n",
       "75%        1.000000      5.000000      1.000000  \n",
       "max        1.000000      7.000000      5.000000  "
      ]
     },
     "execution_count": 37,
     "metadata": {},
     "output_type": "execute_result"
    }
   ],
   "source": [
    "# building users series dataframe \n",
    "seriesEvalIndex = computeMetrics(failedAttemptsSeries)\n",
    "df_series = pd.DataFrame(seriesEvalIndex,columns=[\"userId\",\"avgTime\",\"failedAttempts\",\"hasSuccess\",\"application\",\"workingTime\",\"day\",\"ipAmount\"])\n",
    "# deleting series with just one login error, thus average time equal to 0\n",
    "df_series.drop(df_series[ df_series[\"avgTime\"] == 0 ].index,inplace=True)\n",
    "df_series.describe()"
   ]
  },
  {
   "cell_type": "markdown",
   "id": "e3db64b3",
   "metadata": {},
   "source": [
    "### Weighting functions interval for user series"
   ]
  },
  {
   "cell_type": "code",
   "execution_count": 38,
   "id": "038d2afc",
   "metadata": {},
   "outputs": [],
   "source": [
    "# compute suspicious heuristic for each series\n",
    "df_series['suspicious'] = df_series.apply(lambda row : suspicious(row), axis=1)"
   ]
  },
  {
   "cell_type": "code",
   "execution_count": 39,
   "id": "19b85740",
   "metadata": {},
   "outputs": [
    {
     "data": {
      "text/html": [
       "<div>\n",
       "<style scoped>\n",
       "    .dataframe tbody tr th:only-of-type {\n",
       "        vertical-align: middle;\n",
       "    }\n",
       "\n",
       "    .dataframe tbody tr th {\n",
       "        vertical-align: top;\n",
       "    }\n",
       "\n",
       "    .dataframe thead th {\n",
       "        text-align: right;\n",
       "    }\n",
       "</style>\n",
       "<table border=\"1\" class=\"dataframe\">\n",
       "  <thead>\n",
       "    <tr style=\"text-align: right;\">\n",
       "      <th></th>\n",
       "      <th>userId</th>\n",
       "      <th>avgTime</th>\n",
       "      <th>failedAttempts</th>\n",
       "      <th>hasSuccess</th>\n",
       "      <th>workingTime</th>\n",
       "      <th>day</th>\n",
       "      <th>ipAmount</th>\n",
       "      <th>suspicious</th>\n",
       "    </tr>\n",
       "  </thead>\n",
       "  <tbody>\n",
       "    <tr>\n",
       "      <th>count</th>\n",
       "      <td>12963.000000</td>\n",
       "      <td>12963.000000</td>\n",
       "      <td>12963.000000</td>\n",
       "      <td>12963.000000</td>\n",
       "      <td>12963.000000</td>\n",
       "      <td>12963.000000</td>\n",
       "      <td>12963.000000</td>\n",
       "      <td>12963.000000</td>\n",
       "    </tr>\n",
       "    <tr>\n",
       "      <th>mean</th>\n",
       "      <td>17979.547944</td>\n",
       "      <td>51904.731544</td>\n",
       "      <td>3.886292</td>\n",
       "      <td>0.468179</td>\n",
       "      <td>0.803981</td>\n",
       "      <td>3.174651</td>\n",
       "      <td>1.021909</td>\n",
       "      <td>0.488527</td>\n",
       "    </tr>\n",
       "    <tr>\n",
       "      <th>std</th>\n",
       "      <td>10759.405175</td>\n",
       "      <td>38773.347379</td>\n",
       "      <td>2.889793</td>\n",
       "      <td>0.499006</td>\n",
       "      <td>0.396999</td>\n",
       "      <td>1.702503</td>\n",
       "      <td>0.153088</td>\n",
       "      <td>0.320682</td>\n",
       "    </tr>\n",
       "    <tr>\n",
       "      <th>min</th>\n",
       "      <td>18.000000</td>\n",
       "      <td>1000.000000</td>\n",
       "      <td>2.000000</td>\n",
       "      <td>0.000000</td>\n",
       "      <td>0.000000</td>\n",
       "      <td>1.000000</td>\n",
       "      <td>1.000000</td>\n",
       "      <td>0.122744</td>\n",
       "    </tr>\n",
       "    <tr>\n",
       "      <th>25%</th>\n",
       "      <td>6271.000000</td>\n",
       "      <td>22500.000000</td>\n",
       "      <td>2.000000</td>\n",
       "      <td>0.000000</td>\n",
       "      <td>1.000000</td>\n",
       "      <td>2.000000</td>\n",
       "      <td>1.000000</td>\n",
       "      <td>0.122744</td>\n",
       "    </tr>\n",
       "    <tr>\n",
       "      <th>50%</th>\n",
       "      <td>19984.000000</td>\n",
       "      <td>40000.000000</td>\n",
       "      <td>3.000000</td>\n",
       "      <td>0.000000</td>\n",
       "      <td>1.000000</td>\n",
       "      <td>3.000000</td>\n",
       "      <td>1.000000</td>\n",
       "      <td>0.557377</td>\n",
       "    </tr>\n",
       "    <tr>\n",
       "      <th>75%</th>\n",
       "      <td>27595.000000</td>\n",
       "      <td>71071.000000</td>\n",
       "      <td>4.000000</td>\n",
       "      <td>1.000000</td>\n",
       "      <td>1.000000</td>\n",
       "      <td>5.000000</td>\n",
       "      <td>1.000000</td>\n",
       "      <td>0.746082</td>\n",
       "    </tr>\n",
       "    <tr>\n",
       "      <th>max</th>\n",
       "      <td>33949.000000</td>\n",
       "      <td>282500.000000</td>\n",
       "      <td>43.000000</td>\n",
       "      <td>1.000000</td>\n",
       "      <td>1.000000</td>\n",
       "      <td>7.000000</td>\n",
       "      <td>5.000000</td>\n",
       "      <td>0.999348</td>\n",
       "    </tr>\n",
       "  </tbody>\n",
       "</table>\n",
       "</div>"
      ],
      "text/plain": [
       "             userId        avgTime  failedAttempts    hasSuccess  \\\n",
       "count  12963.000000   12963.000000    12963.000000  12963.000000   \n",
       "mean   17979.547944   51904.731544        3.886292      0.468179   \n",
       "std    10759.405175   38773.347379        2.889793      0.499006   \n",
       "min       18.000000    1000.000000        2.000000      0.000000   \n",
       "25%     6271.000000   22500.000000        2.000000      0.000000   \n",
       "50%    19984.000000   40000.000000        3.000000      0.000000   \n",
       "75%    27595.000000   71071.000000        4.000000      1.000000   \n",
       "max    33949.000000  282500.000000       43.000000      1.000000   \n",
       "\n",
       "        workingTime           day      ipAmount    suspicious  \n",
       "count  12963.000000  12963.000000  12963.000000  12963.000000  \n",
       "mean       0.803981      3.174651      1.021909      0.488527  \n",
       "std        0.396999      1.702503      0.153088      0.320682  \n",
       "min        0.000000      1.000000      1.000000      0.122744  \n",
       "25%        1.000000      2.000000      1.000000      0.122744  \n",
       "50%        1.000000      3.000000      1.000000      0.557377  \n",
       "75%        1.000000      5.000000      1.000000      0.746082  \n",
       "max        1.000000      7.000000      5.000000      0.999348  "
      ]
     },
     "execution_count": 39,
     "metadata": {},
     "output_type": "execute_result"
    }
   ],
   "source": [
    "df_series.describe()"
   ]
  },
  {
   "cell_type": "code",
   "execution_count": 40,
   "id": "bd21d838",
   "metadata": {},
   "outputs": [
    {
     "data": {
      "text/html": [
       "<div>\n",
       "<style scoped>\n",
       "    .dataframe tbody tr th:only-of-type {\n",
       "        vertical-align: middle;\n",
       "    }\n",
       "\n",
       "    .dataframe tbody tr th {\n",
       "        vertical-align: top;\n",
       "    }\n",
       "\n",
       "    .dataframe thead th {\n",
       "        text-align: right;\n",
       "    }\n",
       "</style>\n",
       "<table border=\"1\" class=\"dataframe\">\n",
       "  <thead>\n",
       "    <tr style=\"text-align: right;\">\n",
       "      <th></th>\n",
       "      <th>userId</th>\n",
       "      <th>avgTime</th>\n",
       "      <th>failedAttempts</th>\n",
       "      <th>hasSuccess</th>\n",
       "      <th>application</th>\n",
       "      <th>workingTime</th>\n",
       "      <th>day</th>\n",
       "      <th>ipAmount</th>\n",
       "      <th>suspicious</th>\n",
       "    </tr>\n",
       "  </thead>\n",
       "  <tbody>\n",
       "    <tr>\n",
       "      <th>21531</th>\n",
       "      <td>19984</td>\n",
       "      <td>24500</td>\n",
       "      <td>2</td>\n",
       "      <td>1</td>\n",
       "      <td>ERM</td>\n",
       "      <td>1</td>\n",
       "      <td>1</td>\n",
       "      <td>1</td>\n",
       "      <td>0.122744</td>\n",
       "    </tr>\n",
       "    <tr>\n",
       "      <th>33660</th>\n",
       "      <td>29079</td>\n",
       "      <td>43000</td>\n",
       "      <td>2</td>\n",
       "      <td>1</td>\n",
       "      <td>ERM</td>\n",
       "      <td>1</td>\n",
       "      <td>1</td>\n",
       "      <td>1</td>\n",
       "      <td>0.122744</td>\n",
       "    </tr>\n",
       "    <tr>\n",
       "      <th>33672</th>\n",
       "      <td>29094</td>\n",
       "      <td>49666</td>\n",
       "      <td>3</td>\n",
       "      <td>1</td>\n",
       "      <td>ERM</td>\n",
       "      <td>1</td>\n",
       "      <td>1</td>\n",
       "      <td>1</td>\n",
       "      <td>0.122744</td>\n",
       "    </tr>\n",
       "    <tr>\n",
       "      <th>33677</th>\n",
       "      <td>29099</td>\n",
       "      <td>24500</td>\n",
       "      <td>2</td>\n",
       "      <td>1</td>\n",
       "      <td>ERM</td>\n",
       "      <td>1</td>\n",
       "      <td>5</td>\n",
       "      <td>1</td>\n",
       "      <td>0.122744</td>\n",
       "    </tr>\n",
       "    <tr>\n",
       "      <th>33701</th>\n",
       "      <td>29106</td>\n",
       "      <td>48000</td>\n",
       "      <td>2</td>\n",
       "      <td>1</td>\n",
       "      <td>ERM</td>\n",
       "      <td>1</td>\n",
       "      <td>4</td>\n",
       "      <td>1</td>\n",
       "      <td>0.122744</td>\n",
       "    </tr>\n",
       "    <tr>\n",
       "      <th>...</th>\n",
       "      <td>...</td>\n",
       "      <td>...</td>\n",
       "      <td>...</td>\n",
       "      <td>...</td>\n",
       "      <td>...</td>\n",
       "      <td>...</td>\n",
       "      <td>...</td>\n",
       "      <td>...</td>\n",
       "      <td>...</td>\n",
       "    </tr>\n",
       "    <tr>\n",
       "      <th>35100</th>\n",
       "      <td>30821</td>\n",
       "      <td>147375</td>\n",
       "      <td>9</td>\n",
       "      <td>0</td>\n",
       "      <td>ERM</td>\n",
       "      <td>0</td>\n",
       "      <td>7</td>\n",
       "      <td>2</td>\n",
       "      <td>0.992458</td>\n",
       "    </tr>\n",
       "    <tr>\n",
       "      <th>28711</th>\n",
       "      <td>25667</td>\n",
       "      <td>54500</td>\n",
       "      <td>7</td>\n",
       "      <td>0</td>\n",
       "      <td>ERM</td>\n",
       "      <td>0</td>\n",
       "      <td>7</td>\n",
       "      <td>2</td>\n",
       "      <td>0.992458</td>\n",
       "    </tr>\n",
       "    <tr>\n",
       "      <th>37789</th>\n",
       "      <td>32153</td>\n",
       "      <td>115714</td>\n",
       "      <td>8</td>\n",
       "      <td>0</td>\n",
       "      <td>ERM</td>\n",
       "      <td>0</td>\n",
       "      <td>6</td>\n",
       "      <td>2</td>\n",
       "      <td>0.992458</td>\n",
       "    </tr>\n",
       "    <tr>\n",
       "      <th>22039</th>\n",
       "      <td>20272</td>\n",
       "      <td>83250</td>\n",
       "      <td>33</td>\n",
       "      <td>0</td>\n",
       "      <td>ERM</td>\n",
       "      <td>1</td>\n",
       "      <td>1</td>\n",
       "      <td>5</td>\n",
       "      <td>0.993082</td>\n",
       "    </tr>\n",
       "    <tr>\n",
       "      <th>35404</th>\n",
       "      <td>31002</td>\n",
       "      <td>4000</td>\n",
       "      <td>11</td>\n",
       "      <td>0</td>\n",
       "      <td>ERM</td>\n",
       "      <td>0</td>\n",
       "      <td>6</td>\n",
       "      <td>1</td>\n",
       "      <td>0.999348</td>\n",
       "    </tr>\n",
       "  </tbody>\n",
       "</table>\n",
       "<p>12963 rows × 9 columns</p>\n",
       "</div>"
      ],
      "text/plain": [
       "       userId  avgTime  failedAttempts  hasSuccess application  workingTime  \\\n",
       "21531   19984    24500               2           1         ERM            1   \n",
       "33660   29079    43000               2           1         ERM            1   \n",
       "33672   29094    49666               3           1         ERM            1   \n",
       "33677   29099    24500               2           1         ERM            1   \n",
       "33701   29106    48000               2           1         ERM            1   \n",
       "...       ...      ...             ...         ...         ...          ...   \n",
       "35100   30821   147375               9           0         ERM            0   \n",
       "28711   25667    54500               7           0         ERM            0   \n",
       "37789   32153   115714               8           0         ERM            0   \n",
       "22039   20272    83250              33           0         ERM            1   \n",
       "35404   31002     4000              11           0         ERM            0   \n",
       "\n",
       "       day  ipAmount  suspicious  \n",
       "21531    1         1    0.122744  \n",
       "33660    1         1    0.122744  \n",
       "33672    1         1    0.122744  \n",
       "33677    5         1    0.122744  \n",
       "33701    4         1    0.122744  \n",
       "...    ...       ...         ...  \n",
       "35100    7         2    0.992458  \n",
       "28711    7         2    0.992458  \n",
       "37789    6         2    0.992458  \n",
       "22039    1         5    0.993082  \n",
       "35404    6         1    0.999348  \n",
       "\n",
       "[12963 rows x 9 columns]"
      ]
     },
     "execution_count": 40,
     "metadata": {},
     "output_type": "execute_result"
    }
   ],
   "source": [
    "df_series.sort_values(by=['suspicious'])"
   ]
  },
  {
   "cell_type": "markdown",
   "id": "e843f134",
   "metadata": {},
   "source": [
    "#### Plotting users series"
   ]
  },
  {
   "cell_type": "code",
   "execution_count": 41,
   "id": "405ea296",
   "metadata": {},
   "outputs": [
    {
     "data": {
      "text/plain": [
       "application\n",
       "ERM    7422\n",
       "HRW       7\n",
       "Name: userId, dtype: int64"
      ]
     },
     "execution_count": 41,
     "metadata": {},
     "output_type": "execute_result"
    }
   ],
   "source": [
    "byApp = df_series[df_series[\"suspicious\"] > 0.5].groupby(by=[\"application\"])\n",
    "tmp = byApp.userId.count()\n",
    "tmp"
   ]
  },
  {
   "cell_type": "code",
   "execution_count": 42,
   "id": "9b53e0b9",
   "metadata": {},
   "outputs": [
    {
     "data": {
      "image/png": "[encoded data removed]",
      "text/plain": [
       "<Figure size 432x288 with 1 Axes>"
      ]
     },
     "metadata": {
      "needs_background": "light"
     },
     "output_type": "display_data"
    }
   ],
   "source": [
    "x = [k for k in tmp.keys()]\n",
    "x.append(\"TM3\")\n",
    "y = [tmp[k] for k in tmp.keys()]\n",
    "y.append(0)\n",
    "\n",
    "plt.bar(x,y,width=0.2)\n",
    "plt.title = \"Most suspicious applcation\"\n",
    "plt.show()"
   ]
  },
  {
   "cell_type": "markdown",
   "id": "8cb2258d",
   "metadata": {},
   "source": [
    "From the graph, we can say that from cyber attacks standpoint it is meaningless giving much relevance to the weekday and the working time, as we have suspicious series regardless of the parameters related to these factors."
   ]
  },
  {
   "cell_type": "code",
   "execution_count": 43,
   "id": "dda7674b",
   "metadata": {
    "scrolled": true
   },
   "outputs": [
    {
     "data": {
      "image/png": "[encoded data removed]",
      "text/plain": [
       "<Figure size 432x288 with 1 Axes>"
      ]
     },
     "metadata": {
      "needs_background": "light"
     },
     "output_type": "display_data"
    },
    {
     "data": {
      "image/png": "[encoded data removed]",
      "text/plain": [
       "<Figure size 432x288 with 1 Axes>"
      ]
     },
     "metadata": {
      "needs_background": "light"
     },
     "output_type": "display_data"
    }
   ],
   "source": [
    "df_series.plot(x = 'day', y = 'suspicious', kind = 'scatter')\n",
    "plt.show()\n",
    "df_series.plot(x = 'workingTime', y = 'suspicious', kind = 'scatter')\n",
    "plt.show()"
   ]
  },
  {
   "cell_type": "markdown",
   "id": "ab83ee03",
   "metadata": {},
   "source": [
    "Comparing the number of ip adresses and failed attempts we can notice that with a single ip the number of failed attempts is bigger.\n",
    "_It may indicate the presence of a target of an attack_. \n",
    "**Possible scenario**: attackers know the username of an employee and so they try guessing the password. "
   ]
  },
  {
   "cell_type": "code",
   "execution_count": 44,
   "id": "58bee8d7",
   "metadata": {},
   "outputs": [
    {
     "data": {
      "image/png": "[encoded data removed]",
      "text/plain": [
       "<Figure size 432x288 with 1 Axes>"
      ]
     },
     "metadata": {
      "needs_background": "light"
     },
     "output_type": "display_data"
    }
   ],
   "source": [
    "df_series.plot(x = 'ipAmount', y = 'failedAttempts', kind = 'scatter')\n",
    "plt.show()"
   ]
  },
  {
   "cell_type": "markdown",
   "id": "f69d31d3",
   "metadata": {},
   "source": [
    "When the series of login attempts is closed with a successful attempt, the number of failed attempts is approximately half with respect to the complementary case."
   ]
  },
  {
   "cell_type": "code",
   "execution_count": 45,
   "id": "4f558611",
   "metadata": {},
   "outputs": [
    {
     "data": {
      "image/png": "[encoded data removed]",
      "text/plain": [
       "<Figure size 432x288 with 1 Axes>"
      ]
     },
     "metadata": {
      "needs_background": "light"
     },
     "output_type": "display_data"
    }
   ],
   "source": [
    "df_series.plot(x = 'hasSuccess', y = 'failedAttempts', kind = 'scatter')\n",
    "plt.show()"
   ]
  },
  {
   "cell_type": "markdown",
   "id": "858917d8",
   "metadata": {},
   "source": [
    "The average time between login attempts and number of failures are approximately inversely proportional. Indeed _suspicious_ assumes values close to one when the average time narrows (the number of failed attempts increases)."
   ]
  },
  {
   "cell_type": "code",
   "execution_count": 46,
   "id": "9b3d7a28",
   "metadata": {},
   "outputs": [
    {
     "data": {
      "image/png": "[encoded data removed]",
      "text/plain": [
       "<Figure size 432x288 with 1 Axes>"
      ]
     },
     "metadata": {
      "needs_background": "light"
     },
     "output_type": "display_data"
    },
    {
     "data": {
      "image/png": "[encoded data removed]",
      "text/plain": [
       "<Figure size 432x288 with 1 Axes>"
      ]
     },
     "metadata": {
      "needs_background": "light"
     },
     "output_type": "display_data"
    }
   ],
   "source": [
    "df_tmp = df_series.copy()\n",
    "df_tmp[\"avgTime\"] = df_tmp[\"avgTime\"].apply(lambda x: int(x/1000))\n",
    "df_tmp.plot(y=\"avgTime\",x=\"failedAttempts\",kind=\"scatter\",ylabel=\"avgtime(s)\")\n",
    "df_tmp.plot(y=\"avgTime\",x=\"suspicious\",kind=\"scatter\",ylabel=\"avgtime(s)\")\n",
    "plt.show()"
   ]
  },
  {
   "cell_type": "code",
   "execution_count": 47,
   "id": "0ae74a86",
   "metadata": {},
   "outputs": [
    {
     "data": {
      "text/plain": [
       "<AxesSubplot:ylabel='userId'>"
      ]
     },
     "execution_count": 47,
     "metadata": {},
     "output_type": "execute_result"
    },
    {
     "data": {
      "image/png": "[encoded data removed]",
      "text/plain": [
       "<Figure size 720x864 with 1 Axes>"
      ]
     },
     "metadata": {
      "needs_background": "light"
     },
     "output_type": "display_data"
    }
   ],
   "source": [
    "values = df_series['userId'].value_counts()\n",
    "values = values[values > 8]\n",
    "values.plot(kind='barh', figsize=(10,12), fontsize=16, ylabel=\"userId\")"
   ]
  },
  {
   "cell_type": "markdown",
   "id": "e9e2fa4c",
   "metadata": {},
   "source": [
    "**userId 28878** is the user with the highest number of failed attempt series"
   ]
  },
  {
   "cell_type": "code",
   "execution_count": 48,
   "id": "1406f816",
   "metadata": {},
   "outputs": [
    {
     "data": {
      "text/html": [
       "<div>\n",
       "<style scoped>\n",
       "    .dataframe tbody tr th:only-of-type {\n",
       "        vertical-align: middle;\n",
       "    }\n",
       "\n",
       "    .dataframe tbody tr th {\n",
       "        vertical-align: top;\n",
       "    }\n",
       "\n",
       "    .dataframe thead th {\n",
       "        text-align: right;\n",
       "    }\n",
       "</style>\n",
       "<table border=\"1\" class=\"dataframe\">\n",
       "  <thead>\n",
       "    <tr style=\"text-align: right;\">\n",
       "      <th></th>\n",
       "      <th>userId</th>\n",
       "      <th>avgTime</th>\n",
       "      <th>failedAttempts</th>\n",
       "      <th>hasSuccess</th>\n",
       "      <th>application</th>\n",
       "      <th>workingTime</th>\n",
       "      <th>day</th>\n",
       "      <th>ipAmount</th>\n",
       "      <th>suspicious</th>\n",
       "    </tr>\n",
       "  </thead>\n",
       "  <tbody>\n",
       "    <tr>\n",
       "      <th>33203</th>\n",
       "      <td>28878</td>\n",
       "      <td>11000</td>\n",
       "      <td>2</td>\n",
       "      <td>1</td>\n",
       "      <td>ERM</td>\n",
       "      <td>1</td>\n",
       "      <td>2</td>\n",
       "      <td>1</td>\n",
       "      <td>0.122744</td>\n",
       "    </tr>\n",
       "    <tr>\n",
       "      <th>33210</th>\n",
       "      <td>28878</td>\n",
       "      <td>7000</td>\n",
       "      <td>3</td>\n",
       "      <td>1</td>\n",
       "      <td>ERM</td>\n",
       "      <td>1</td>\n",
       "      <td>3</td>\n",
       "      <td>1</td>\n",
       "      <td>0.122744</td>\n",
       "    </tr>\n",
       "    <tr>\n",
       "      <th>33212</th>\n",
       "      <td>28878</td>\n",
       "      <td>7333</td>\n",
       "      <td>3</td>\n",
       "      <td>1</td>\n",
       "      <td>ERM</td>\n",
       "      <td>1</td>\n",
       "      <td>5</td>\n",
       "      <td>1</td>\n",
       "      <td>0.122744</td>\n",
       "    </tr>\n",
       "    <tr>\n",
       "      <th>33214</th>\n",
       "      <td>28878</td>\n",
       "      <td>6000</td>\n",
       "      <td>3</td>\n",
       "      <td>1</td>\n",
       "      <td>ERM</td>\n",
       "      <td>1</td>\n",
       "      <td>4</td>\n",
       "      <td>1</td>\n",
       "      <td>0.122744</td>\n",
       "    </tr>\n",
       "    <tr>\n",
       "      <th>33219</th>\n",
       "      <td>28878</td>\n",
       "      <td>8500</td>\n",
       "      <td>2</td>\n",
       "      <td>1</td>\n",
       "      <td>ERM</td>\n",
       "      <td>1</td>\n",
       "      <td>3</td>\n",
       "      <td>1</td>\n",
       "      <td>0.122744</td>\n",
       "    </tr>\n",
       "    <tr>\n",
       "      <th>33221</th>\n",
       "      <td>28878</td>\n",
       "      <td>9000</td>\n",
       "      <td>2</td>\n",
       "      <td>1</td>\n",
       "      <td>ERM</td>\n",
       "      <td>1</td>\n",
       "      <td>3</td>\n",
       "      <td>1</td>\n",
       "      <td>0.122744</td>\n",
       "    </tr>\n",
       "    <tr>\n",
       "      <th>33224</th>\n",
       "      <td>28878</td>\n",
       "      <td>10000</td>\n",
       "      <td>2</td>\n",
       "      <td>1</td>\n",
       "      <td>ERM</td>\n",
       "      <td>1</td>\n",
       "      <td>4</td>\n",
       "      <td>1</td>\n",
       "      <td>0.122744</td>\n",
       "    </tr>\n",
       "    <tr>\n",
       "      <th>33235</th>\n",
       "      <td>28878</td>\n",
       "      <td>14500</td>\n",
       "      <td>2</td>\n",
       "      <td>1</td>\n",
       "      <td>ERM</td>\n",
       "      <td>1</td>\n",
       "      <td>5</td>\n",
       "      <td>1</td>\n",
       "      <td>0.122744</td>\n",
       "    </tr>\n",
       "    <tr>\n",
       "      <th>33236</th>\n",
       "      <td>28878</td>\n",
       "      <td>8000</td>\n",
       "      <td>3</td>\n",
       "      <td>1</td>\n",
       "      <td>ERM</td>\n",
       "      <td>1</td>\n",
       "      <td>5</td>\n",
       "      <td>1</td>\n",
       "      <td>0.122744</td>\n",
       "    </tr>\n",
       "    <tr>\n",
       "      <th>33238</th>\n",
       "      <td>28878</td>\n",
       "      <td>9000</td>\n",
       "      <td>2</td>\n",
       "      <td>1</td>\n",
       "      <td>ERM</td>\n",
       "      <td>1</td>\n",
       "      <td>5</td>\n",
       "      <td>1</td>\n",
       "      <td>0.122744</td>\n",
       "    </tr>\n",
       "    <tr>\n",
       "      <th>33239</th>\n",
       "      <td>28878</td>\n",
       "      <td>8500</td>\n",
       "      <td>2</td>\n",
       "      <td>1</td>\n",
       "      <td>ERM</td>\n",
       "      <td>1</td>\n",
       "      <td>2</td>\n",
       "      <td>1</td>\n",
       "      <td>0.122744</td>\n",
       "    </tr>\n",
       "    <tr>\n",
       "      <th>33240</th>\n",
       "      <td>28878</td>\n",
       "      <td>8000</td>\n",
       "      <td>2</td>\n",
       "      <td>1</td>\n",
       "      <td>ERM</td>\n",
       "      <td>1</td>\n",
       "      <td>3</td>\n",
       "      <td>1</td>\n",
       "      <td>0.122744</td>\n",
       "    </tr>\n",
       "    <tr>\n",
       "      <th>33242</th>\n",
       "      <td>28878</td>\n",
       "      <td>9000</td>\n",
       "      <td>2</td>\n",
       "      <td>1</td>\n",
       "      <td>ERM</td>\n",
       "      <td>1</td>\n",
       "      <td>4</td>\n",
       "      <td>1</td>\n",
       "      <td>0.122744</td>\n",
       "    </tr>\n",
       "    <tr>\n",
       "      <th>33250</th>\n",
       "      <td>28878</td>\n",
       "      <td>14500</td>\n",
       "      <td>2</td>\n",
       "      <td>1</td>\n",
       "      <td>ERM</td>\n",
       "      <td>1</td>\n",
       "      <td>3</td>\n",
       "      <td>1</td>\n",
       "      <td>0.122744</td>\n",
       "    </tr>\n",
       "    <tr>\n",
       "      <th>33260</th>\n",
       "      <td>28878</td>\n",
       "      <td>6500</td>\n",
       "      <td>2</td>\n",
       "      <td>1</td>\n",
       "      <td>ERM</td>\n",
       "      <td>1</td>\n",
       "      <td>4</td>\n",
       "      <td>1</td>\n",
       "      <td>0.122744</td>\n",
       "    </tr>\n",
       "    <tr>\n",
       "      <th>33262</th>\n",
       "      <td>28878</td>\n",
       "      <td>6500</td>\n",
       "      <td>2</td>\n",
       "      <td>1</td>\n",
       "      <td>ERM</td>\n",
       "      <td>1</td>\n",
       "      <td>5</td>\n",
       "      <td>1</td>\n",
       "      <td>0.122744</td>\n",
       "    </tr>\n",
       "  </tbody>\n",
       "</table>\n",
       "</div>"
      ],
      "text/plain": [
       "       userId  avgTime  failedAttempts  hasSuccess application  workingTime  \\\n",
       "33203   28878    11000               2           1         ERM            1   \n",
       "33210   28878     7000               3           1         ERM            1   \n",
       "33212   28878     7333               3           1         ERM            1   \n",
       "33214   28878     6000               3           1         ERM            1   \n",
       "33219   28878     8500               2           1         ERM            1   \n",
       "33221   28878     9000               2           1         ERM            1   \n",
       "33224   28878    10000               2           1         ERM            1   \n",
       "33235   28878    14500               2           1         ERM            1   \n",
       "33236   28878     8000               3           1         ERM            1   \n",
       "33238   28878     9000               2           1         ERM            1   \n",
       "33239   28878     8500               2           1         ERM            1   \n",
       "33240   28878     8000               2           1         ERM            1   \n",
       "33242   28878     9000               2           1         ERM            1   \n",
       "33250   28878    14500               2           1         ERM            1   \n",
       "33260   28878     6500               2           1         ERM            1   \n",
       "33262   28878     6500               2           1         ERM            1   \n",
       "\n",
       "       day  ipAmount  suspicious  \n",
       "33203    2         1    0.122744  \n",
       "33210    3         1    0.122744  \n",
       "33212    5         1    0.122744  \n",
       "33214    4         1    0.122744  \n",
       "33219    3         1    0.122744  \n",
       "33221    3         1    0.122744  \n",
       "33224    4         1    0.122744  \n",
       "33235    5         1    0.122744  \n",
       "33236    5         1    0.122744  \n",
       "33238    5         1    0.122744  \n",
       "33239    2         1    0.122744  \n",
       "33240    3         1    0.122744  \n",
       "33242    4         1    0.122744  \n",
       "33250    3         1    0.122744  \n",
       "33260    4         1    0.122744  \n",
       "33262    5         1    0.122744  "
      ]
     },
     "execution_count": 48,
     "metadata": {},
     "output_type": "execute_result"
    }
   ],
   "source": [
    "df_series[df_series['userId'] == 28878]"
   ]
  },
  {
   "cell_type": "markdown",
   "id": "4104a6b9",
   "metadata": {},
   "source": [
    "Although user 28878 has the largest number of series, all of them are due to incorrect password entry as they are all ended with a successful login, have a maximum length of three attempts, and a plausible average time for a human. Thus, relying on the number of series performed by a user can be misleading. Indeed, suspicious is low for each one."
   ]
  },
  {
   "cell_type": "markdown",
   "id": "01774d62",
   "metadata": {},
   "source": [
    "## IP series analysis"
   ]
  },
  {
   "cell_type": "code",
   "execution_count": 49,
   "id": "9cd3c1e0",
   "metadata": {},
   "outputs": [],
   "source": [
    "# store errors login series for ip\n",
    "failedAttemptsSeriesIP = dict()\n",
    "# sort dataframe\n",
    "df_logins.sort_values(by=[\"ip\",\"date\"],ascending=(True, True),inplace=True)\n",
    "df_groupBy_ip = df_logins.groupby(by=[\"ip\"])\n",
    "# get keys\n",
    "ips = np.unique(df_logins[\"ip\"])\n",
    "# find series for ip\n",
    "findSeries(subjects=ips,df_groupBySubject=df_groupBy_ip,storage=failedAttemptsSeriesIP,userMode=False)"
   ]
  },
  {
   "cell_type": "code",
   "execution_count": 50,
   "id": "77eb71ed",
   "metadata": {},
   "outputs": [
    {
     "data": {
      "text/html": [
       "<div>\n",
       "<style scoped>\n",
       "    .dataframe tbody tr th:only-of-type {\n",
       "        vertical-align: middle;\n",
       "    }\n",
       "\n",
       "    .dataframe tbody tr th {\n",
       "        vertical-align: top;\n",
       "    }\n",
       "\n",
       "    .dataframe thead th {\n",
       "        text-align: right;\n",
       "    }\n",
       "</style>\n",
       "<table border=\"1\" class=\"dataframe\">\n",
       "  <thead>\n",
       "    <tr style=\"text-align: right;\">\n",
       "      <th></th>\n",
       "      <th>avgTime</th>\n",
       "      <th>failedAttempts</th>\n",
       "      <th>hasSuccess</th>\n",
       "      <th>workingTime</th>\n",
       "      <th>day</th>\n",
       "      <th>userAmount</th>\n",
       "      <th>suspicious</th>\n",
       "    </tr>\n",
       "  </thead>\n",
       "  <tbody>\n",
       "    <tr>\n",
       "      <th>count</th>\n",
       "      <td>13376.000000</td>\n",
       "      <td>13376.000000</td>\n",
       "      <td>13376.000000</td>\n",
       "      <td>13376.000000</td>\n",
       "      <td>13376.000000</td>\n",
       "      <td>13376.000000</td>\n",
       "      <td>13376.000000</td>\n",
       "    </tr>\n",
       "    <tr>\n",
       "      <th>mean</th>\n",
       "      <td>51383.542688</td>\n",
       "      <td>3.826256</td>\n",
       "      <td>0.520634</td>\n",
       "      <td>0.807715</td>\n",
       "      <td>3.156848</td>\n",
       "      <td>1.076779</td>\n",
       "      <td>0.475255</td>\n",
       "    </tr>\n",
       "    <tr>\n",
       "      <th>std</th>\n",
       "      <td>39058.243315</td>\n",
       "      <td>2.851309</td>\n",
       "      <td>0.499593</td>\n",
       "      <td>0.394110</td>\n",
       "      <td>1.698882</td>\n",
       "      <td>0.389790</td>\n",
       "      <td>0.320932</td>\n",
       "    </tr>\n",
       "    <tr>\n",
       "      <th>min</th>\n",
       "      <td>1000.000000</td>\n",
       "      <td>2.000000</td>\n",
       "      <td>0.000000</td>\n",
       "      <td>0.000000</td>\n",
       "      <td>1.000000</td>\n",
       "      <td>1.000000</td>\n",
       "      <td>0.122744</td>\n",
       "    </tr>\n",
       "    <tr>\n",
       "      <th>25%</th>\n",
       "      <td>22000.000000</td>\n",
       "      <td>2.000000</td>\n",
       "      <td>0.000000</td>\n",
       "      <td>1.000000</td>\n",
       "      <td>2.000000</td>\n",
       "      <td>1.000000</td>\n",
       "      <td>0.122744</td>\n",
       "    </tr>\n",
       "    <tr>\n",
       "      <th>50%</th>\n",
       "      <td>39500.000000</td>\n",
       "      <td>3.000000</td>\n",
       "      <td>1.000000</td>\n",
       "      <td>1.000000</td>\n",
       "      <td>3.000000</td>\n",
       "      <td>1.000000</td>\n",
       "      <td>0.557377</td>\n",
       "    </tr>\n",
       "    <tr>\n",
       "      <th>75%</th>\n",
       "      <td>70073.750000</td>\n",
       "      <td>4.000000</td>\n",
       "      <td>1.000000</td>\n",
       "      <td>1.000000</td>\n",
       "      <td>5.000000</td>\n",
       "      <td>1.000000</td>\n",
       "      <td>0.746082</td>\n",
       "    </tr>\n",
       "    <tr>\n",
       "      <th>max</th>\n",
       "      <td>286500.000000</td>\n",
       "      <td>43.000000</td>\n",
       "      <td>1.000000</td>\n",
       "      <td>1.000000</td>\n",
       "      <td>7.000000</td>\n",
       "      <td>12.000000</td>\n",
       "      <td>0.999348</td>\n",
       "    </tr>\n",
       "  </tbody>\n",
       "</table>\n",
       "</div>"
      ],
      "text/plain": [
       "             avgTime  failedAttempts    hasSuccess   workingTime  \\\n",
       "count   13376.000000    13376.000000  13376.000000  13376.000000   \n",
       "mean    51383.542688        3.826256      0.520634      0.807715   \n",
       "std     39058.243315        2.851309      0.499593      0.394110   \n",
       "min      1000.000000        2.000000      0.000000      0.000000   \n",
       "25%     22000.000000        2.000000      0.000000      1.000000   \n",
       "50%     39500.000000        3.000000      1.000000      1.000000   \n",
       "75%     70073.750000        4.000000      1.000000      1.000000   \n",
       "max    286500.000000       43.000000      1.000000      1.000000   \n",
       "\n",
       "                day    userAmount    suspicious  \n",
       "count  13376.000000  13376.000000  13376.000000  \n",
       "mean       3.156848      1.076779      0.475255  \n",
       "std        1.698882      0.389790      0.320932  \n",
       "min        1.000000      1.000000      0.122744  \n",
       "25%        2.000000      1.000000      0.122744  \n",
       "50%        3.000000      1.000000      0.557377  \n",
       "75%        5.000000      1.000000      0.746082  \n",
       "max        7.000000     12.000000      0.999348  "
      ]
     },
     "execution_count": 50,
     "metadata": {},
     "output_type": "execute_result"
    }
   ],
   "source": [
    "# computing metics\n",
    "seriesEvalIndex = computeMetrics(failedAttemptsSeriesIP)\n",
    "df_ip_series = pd.DataFrame(seriesEvalIndex,columns=[\"ip\",\"avgTime\",\"failedAttempts\",\"hasSuccess\",\"application\",\"workingTime\",\"day\",\"userAmount\"])\n",
    "# delete series with just one login erroe, thus average time equal to 0\n",
    "df_ip_series.drop(df_ip_series[ df_ip_series[\"avgTime\"] == 0 ].index,inplace=True)\n",
    "# compute suspicious heuristic for each series\n",
    "df_ip_series['suspicious'] = df_ip_series.apply(lambda row : suspicious(row), axis=1)\n",
    "df_ip_series.describe()"
   ]
  },
  {
   "cell_type": "code",
   "execution_count": 51,
   "id": "23e02bcb",
   "metadata": {},
   "outputs": [
    {
     "data": {
      "text/html": [
       "<div>\n",
       "<style scoped>\n",
       "    .dataframe tbody tr th:only-of-type {\n",
       "        vertical-align: middle;\n",
       "    }\n",
       "\n",
       "    .dataframe tbody tr th {\n",
       "        vertical-align: top;\n",
       "    }\n",
       "\n",
       "    .dataframe thead th {\n",
       "        text-align: right;\n",
       "    }\n",
       "</style>\n",
       "<table border=\"1\" class=\"dataframe\">\n",
       "  <thead>\n",
       "    <tr style=\"text-align: right;\">\n",
       "      <th></th>\n",
       "      <th>ip</th>\n",
       "      <th>avgTime</th>\n",
       "      <th>failedAttempts</th>\n",
       "      <th>hasSuccess</th>\n",
       "      <th>application</th>\n",
       "      <th>workingTime</th>\n",
       "      <th>day</th>\n",
       "      <th>userAmount</th>\n",
       "      <th>suspicious</th>\n",
       "    </tr>\n",
       "  </thead>\n",
       "  <tbody>\n",
       "    <tr>\n",
       "      <th>27027</th>\n",
       "      <td>ip_38662</td>\n",
       "      <td>4000</td>\n",
       "      <td>11</td>\n",
       "      <td>0</td>\n",
       "      <td>ERM</td>\n",
       "      <td>0</td>\n",
       "      <td>6</td>\n",
       "      <td>1</td>\n",
       "      <td>0.999348</td>\n",
       "    </tr>\n",
       "    <tr>\n",
       "      <th>34469</th>\n",
       "      <td>ip_5989</td>\n",
       "      <td>4142</td>\n",
       "      <td>8</td>\n",
       "      <td>0</td>\n",
       "      <td>ERM</td>\n",
       "      <td>0</td>\n",
       "      <td>6</td>\n",
       "      <td>1</td>\n",
       "      <td>0.999348</td>\n",
       "    </tr>\n",
       "  </tbody>\n",
       "</table>\n",
       "</div>"
      ],
      "text/plain": [
       "             ip  avgTime  failedAttempts  hasSuccess application  workingTime  \\\n",
       "27027  ip_38662     4000              11           0         ERM            0   \n",
       "34469   ip_5989     4142               8           0         ERM            0   \n",
       "\n",
       "       day  userAmount  suspicious  \n",
       "27027    6           1    0.999348  \n",
       "34469    6           1    0.999348  "
      ]
     },
     "execution_count": 51,
     "metadata": {},
     "output_type": "execute_result"
    }
   ],
   "source": [
    "# visualize most suspicious series\n",
    "df_ip_series[df_ip_series[\"suspicious\"] == df_ip_series[\"suspicious\"].max()]"
   ]
  },
  {
   "cell_type": "markdown",
   "id": "cdda1d40",
   "metadata": {},
   "source": [
    "### Plotting amount weigths"
   ]
  },
  {
   "cell_type": "markdown",
   "id": "9dd9460c",
   "metadata": {},
   "source": [
    "#### Plotting weigth releated to ip used within a series"
   ]
  },
  {
   "cell_type": "code",
   "execution_count": 52,
   "id": "7b12e339",
   "metadata": {
    "scrolled": true
   },
   "outputs": [
    {
     "data": {
      "image/png": "[encoded data removed]",
      "text/plain": [
       "<Figure size 432x288 with 1 Axes>"
      ]
     },
     "metadata": {
      "needs_background": "light"
     },
     "output_type": "display_data"
    }
   ],
   "source": [
    "max_ip_amount = df_series[\"ipAmount\"].max()\n",
    "min_ip_amount = df_series[\"ipAmount\"].min()\n",
    "samples = max_ip_amount - min_ip_amount\n",
    "x = np.linspace(start=min_ip_amount,stop=max_ip_amount,num=samples,endpoint=True)\n",
    "y = []\n",
    "for amount in x:\n",
    "    y.append(1 - (1/amount if amount > 1 else 0.6))\n",
    "\n",
    "\n",
    "plt.plot(x,y,'c',label=\"w = 1 - 1/ipAmount\")\n",
    "plt.xlabel(\"used IP\")\n",
    "plt.ylabel(\"weight\")\n",
    "plt.legend(loc='lower right')\n",
    "plt.show()"
   ]
  },
  {
   "cell_type": "markdown",
   "id": "f92ff379",
   "metadata": {},
   "source": [
    "#### Plotting weigth releated to the target users within a series"
   ]
  },
  {
   "cell_type": "code",
   "execution_count": 53,
   "id": "5ef87cec",
   "metadata": {},
   "outputs": [
    {
     "data": {
      "image/png": "[encoded data removed]",
      "text/plain": [
       "<Figure size 432x288 with 1 Axes>"
      ]
     },
     "metadata": {
      "needs_background": "light"
     },
     "output_type": "display_data"
    }
   ],
   "source": [
    "max_ip_amount = df_ip_series[\"userAmount\"].max()\n",
    "min_ip_amount = df_ip_series[\"userAmount\"].min()\n",
    "samples = max_ip_amount - min_ip_amount\n",
    "x = np.linspace(start=min_ip_amount,stop=max_ip_amount,num=samples,endpoint=True)\n",
    "y = []\n",
    "for amount in x:\n",
    "    y.append(1 - (1/amount if amount > 1 else 0.6))\n",
    "\n",
    "\n",
    "plt.plot(x,y,'c',label=\"w = 1 - 1/userAmount\")\n",
    "plt.xlabel(\"target users\")\n",
    "plt.ylabel(\"weight\")\n",
    "plt.legend(loc='lower right')\n",
    "plt.show()"
   ]
  },
  {
   "cell_type": "markdown",
   "id": "fc8a4161",
   "metadata": {},
   "source": [
    "**Observation**: The number of users within a series has a higher weigth than the number of used IP addresses on the *suspiciousness* of the series. Therefore, to detect an attack considering the failed attempts series tracking the IP address may be more meaningful."
   ]
  },
  {
   "cell_type": "markdown",
   "id": "5f2d32d5",
   "metadata": {},
   "source": [
    "### Plotting"
   ]
  },
  {
   "cell_type": "markdown",
   "id": "933b8d12",
   "metadata": {},
   "source": [
    "When requests coming from the same IP are for different users, the average time between attempts decreases. \n",
    "Therefore, an attack is going on because the requests are being performed rapidly."
   ]
  },
  {
   "cell_type": "code",
   "execution_count": 54,
   "id": "5ee99606",
   "metadata": {},
   "outputs": [
    {
     "data": {
      "image/png": "[encoded data removed]",
      "text/plain": [
       "<Figure size 432x288 with 1 Axes>"
      ]
     },
     "metadata": {
      "needs_background": "light"
     },
     "output_type": "display_data"
    }
   ],
   "source": [
    "df_cp = df_ip_series.copy()\n",
    "df_cp[\"avgTime\"] = df_ip_series[\"avgTime\"].apply(lambda x: int(x/1000))\n",
    "\n",
    "df_cp.plot(x = 'userAmount', y = 'avgTime', kind = 'scatter',ylabel=\"avgtime(s)\")\n",
    "plt.show()"
   ]
  },
  {
   "cell_type": "markdown",
   "id": "52b56a5c",
   "metadata": {},
   "source": [
    "Looking at the number of failed attempts and the number of users, it can be observed that no correlation is present."
   ]
  },
  {
   "cell_type": "code",
   "execution_count": 55,
   "id": "66470aea",
   "metadata": {},
   "outputs": [
    {
     "data": {
      "image/png": "[encoded data removed]",
      "text/plain": [
       "<Figure size 432x288 with 1 Axes>"
      ]
     },
     "metadata": {
      "needs_background": "light"
     },
     "output_type": "display_data"
    }
   ],
   "source": [
    "df_ip_series.plot(x = 'userAmount', y = 'failedAttempts', kind = 'scatter')\n",
    "plt.show()"
   ]
  },
  {
   "cell_type": "code",
   "execution_count": 56,
   "id": "250aebde",
   "metadata": {},
   "outputs": [
    {
     "data": {
      "text/plain": [
       "<AxesSubplot:ylabel='ip'>"
      ]
     },
     "execution_count": 56,
     "metadata": {},
     "output_type": "execute_result"
    },
    {
     "data": {
      "image/png": "[encoded data removed]",
      "text/plain": [
       "<Figure size 1440x1440 with 1 Axes>"
      ]
     },
     "metadata": {
      "needs_background": "light"
     },
     "output_type": "display_data"
    }
   ],
   "source": [
    "values = df_ip_series['ip'].value_counts()\n",
    "values = values[values > 20]\n",
    "values.plot(kind='barh', figsize=(20,20), fontsize=20,  ylabel=\"ip\")"
   ]
  },
  {
   "cell_type": "markdown",
   "id": "b3312080",
   "metadata": {},
   "source": [
    "**ip_1360** is the IP with the highest number of failed attempt series"
   ]
  },
  {
   "cell_type": "code",
   "execution_count": 57,
   "id": "d4a7d8a3",
   "metadata": {},
   "outputs": [
    {
     "data": {
      "text/plain": [
       "count    494.000000\n",
       "mean       0.458877\n",
       "std        0.335637\n",
       "min        0.122744\n",
       "25%        0.122744\n",
       "50%        0.557377\n",
       "75%        0.746082\n",
       "max        0.996529\n",
       "Name: suspicious, dtype: float64"
      ]
     },
     "execution_count": 57,
     "metadata": {},
     "output_type": "execute_result"
    }
   ],
   "source": [
    "df_ip_series[df_ip_series['ip'] == 'ip_1360']['suspicious'].describe()"
   ]
  },
  {
   "cell_type": "markdown",
   "id": "da4d8f45",
   "metadata": {},
   "source": [
    "Here the ip_1360 has the highest number of series and, accordingly to that, there are series with suspicious value up to (approximately) 0.997. Intuitively, looking at the most frequent incoming IP address may provide some knowledge about possible attacks."
   ]
  }
 ],
 "metadata": {
  "kernelspec": {
   "display_name": "venv",
   "language": "python",
   "name": "venv"
  },
  "language_info": {
   "codemirror_mode": {
    "name": "ipython",
    "version": 3
   },
   "file_extension": ".py",
   "mimetype": "text/x-python",
   "name": "python",
   "nbconvert_exporter": "python",
   "pygments_lexer": "ipython3",
   "version": "3.9.5"
  }
 },
 "nbformat": 4,
 "nbformat_minor": 5
}
